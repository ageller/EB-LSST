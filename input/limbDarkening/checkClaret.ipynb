{
 "cells": [
  {
   "cell_type": "markdown",
   "metadata": {},
   "source": [
    "### Data from Claret & Bloemen (2011A&A...529A..75C)\n",
    "\n",
    "*http://cdsarc.u-strasbg.fr/viz-bin/Cat?cat=J%2FA%2BA%2F529%2FA75&target=readme&*"
   ]
  },
  {
   "cell_type": "code",
   "execution_count": 32,
   "metadata": {},
   "outputs": [],
   "source": [
    "import pandas as pd"
   ]
  },
  {
   "cell_type": "code",
   "execution_count": 33,
   "metadata": {},
   "outputs": [],
   "source": [
    "names = ['logg','Teff','M_H','xi','a1','a2','a3','a4','filt','method','model']\n",
    "dat = pd.read_csv('tableeq5.dat', delim_whitespace=True, header=None, names=names)"
   ]
  },
  {
   "cell_type": "code",
   "execution_count": 34,
   "metadata": {},
   "outputs": [
    {
     "name": "stdout",
     "output_type": "stream",
     "text": [
      "['Kp' 'Kp' 'Kp' 'Kp' 'Kp' 'Kp' 'Kp' 'Kp' 'Kp' 'Kp' 'Kp' 'Kp' 'Kp' 'Kp'\n",
      " 'Kp' 'Kp' 'Kp' 'Kp' 'Kp' 'C' 'C' 'C' 'C' 'C' 'C' 'C' 'C' 'C' 'C' 'C' 'C'\n",
      " 'C' 'C' 'C' 'C' 'C' 'C' 'C' 'S1' 'S1' 'S1' 'S1' 'S1' 'S1' 'S1' 'S1' 'S1'\n",
      " 'S1' 'S1' 'S1' 'S1' 'S1' 'S1' 'S1' 'S1' 'S1' 'S1' 'S2' 'S2' 'S2' 'S2'\n",
      " 'S2' 'S2' 'S2' 'S2' 'S2' 'S2' 'S2' 'S2' 'S2' 'S2' 'S2' 'S2' 'S2' 'S2'\n",
      " 'S2' 'S3' 'S3' 'S3' 'S3' 'S3' 'S3' 'S3' 'S3' 'S3' 'S3' 'S3' 'S3' 'S3'\n",
      " 'S3' 'S3' 'S3' 'S3' 'S3' 'S3' 'S4' 'S4' 'S4' 'S4' 'S4' 'S4' 'S4' 'S4'\n",
      " 'S4' 'S4' 'S4' 'S4' 'S4' 'S4' 'S4' 'S4' 'S4' 'S4' 'S4' 'u' 'u' 'u' 'u'\n",
      " 'u' 'u' 'u' 'u' 'u' 'u' 'u' 'u' 'u' 'u' 'u' 'u' 'u' 'u' 'u' 'b' 'b' 'b'\n",
      " 'b' 'b' 'b' 'b' 'b' 'b' 'b' 'b' 'b' 'b' 'b' 'b' 'b' 'b' 'b' 'b' 'v' 'v'\n",
      " 'v' 'v' 'v' 'v' 'v' 'v' 'v' 'v' 'v' 'v' 'v' 'v' 'v' 'v' 'v' 'v' 'v' 'y'\n",
      " 'y' 'y' 'y' 'y' 'y' 'y' 'y' 'y' 'y' 'y' 'y' 'y' 'y' 'y' 'y' 'y' 'y' 'y'\n",
      " 'U' 'U' 'U' 'U' 'U' 'U' 'U' 'U' 'U' 'U' 'U' 'U' 'U' 'U' 'U' 'U' 'U' 'U'\n",
      " 'U' 'B' 'B' 'B' 'B' 'B' 'B' 'B' 'B' 'B' 'B' 'B' 'B' 'B' 'B' 'B' 'B' 'B'\n",
      " 'B' 'B' 'V' 'V' 'V' 'V' 'V' 'V' 'V' 'V' 'V' 'V' 'V' 'V' 'V' 'V' 'V' 'V'\n",
      " 'V' 'V' 'V' 'R' 'R' 'R' 'R' 'R' 'R' 'R' 'R' 'R' 'R' 'R' 'R' 'R' 'R' 'R'\n",
      " 'R' 'R' 'R' 'R' 'I' 'I' 'I' 'I' 'I' 'I' 'I' 'I' 'I' 'I' 'I' 'I' 'I' 'I'\n",
      " 'I' 'I' 'I' 'I' 'I' 'J' 'J' 'J' 'J' 'J' 'J' 'J' 'J' 'J' 'J' 'J' 'J' 'J'\n",
      " 'J' 'J' 'J' 'J' 'J' 'J' 'H' 'H' 'H' 'H' 'H' 'H' 'H' 'H' 'H' 'H' 'H' 'H'\n",
      " 'H' 'H' 'H' 'H' 'H' 'H' 'H' 'K' 'K' 'K' 'K' 'K' 'K' 'K' 'K' 'K' 'K' 'K'\n",
      " 'K' 'K' 'K' 'K' 'K' 'K' 'K' 'K' 'u,' 'u,' 'u,' 'u,' 'u,' 'u,' 'u,' 'u,'\n",
      " 'u,' 'u,' 'u,' 'u,' 'u,' 'u,' 'u,' 'u,' 'u,' 'u,' 'u,' 'g,' 'g,' 'g,'\n",
      " 'g,' 'g,' 'g,' 'g,' 'g,' 'g,' 'g,' 'g,' 'g,' 'g,' 'g,' 'g,' 'g,' 'g,'\n",
      " 'g,' 'g,' 'r,' 'r,' 'r,' 'r,' 'r,' 'r,' 'r,' 'r,' 'r,' 'r,' 'r,' 'r,'\n",
      " 'r,' 'r,' 'r,' 'r,' 'r,' 'r,' 'r,' 'i,' 'i,' 'i,' 'i,' 'i,' 'i,' 'i,'\n",
      " 'i,' 'i,' 'i,' 'i,' 'i,' 'i,' 'i,' 'i,' 'i,' 'i,' 'i,' 'i,' 'z,' 'z,'\n",
      " 'z,' 'z,' 'z,' 'z,' 'z,' 'z,' 'z,' 'z,' 'z,' 'z,' 'z,' 'z,' 'z,' 'z,'\n",
      " 'z,' 'z,' 'z,']\n"
     ]
    }
   ],
   "source": [
    "xx = dat[(dat['logg'] == 4.5) & (dat['Teff'] == 5500) & (dat['xi'] == 2)]\n",
    "print(xx['filt'].values)"
   ]
  },
  {
   "cell_type": "code",
   "execution_count": null,
   "metadata": {},
   "outputs": [],
   "source": []
  }
 ],
 "metadata": {
  "kernelspec": {
   "display_name": "Python 3",
   "language": "python",
   "name": "python3"
  },
  "language_info": {
   "codemirror_mode": {
    "name": "ipython",
    "version": 3
   },
   "file_extension": ".py",
   "mimetype": "text/x-python",
   "name": "python",
   "nbconvert_exporter": "python",
   "pygments_lexer": "ipython3",
   "version": "3.6.4"
  }
 },
 "nbformat": 4,
 "nbformat_minor": 2
}
