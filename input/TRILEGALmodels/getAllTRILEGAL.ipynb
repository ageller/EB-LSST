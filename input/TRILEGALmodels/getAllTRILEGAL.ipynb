{
 "cells": [
  {
   "cell_type": "markdown",
   "metadata": {},
   "source": [
    "# Can I download the entire TRILEGAL set for all OpSim fields? \n",
    "\n",
    "This would significantly speed up the runs on Quest, if I could just have a database to read from!"
   ]
  },
  {
   "cell_type": "code",
   "execution_count": 1,
   "metadata": {},
   "outputs": [
    {
     "name": "stderr",
     "output_type": "stream",
     "text": [
      "WARNING:root:Holoviews not imported. Some visualizations will not be available.\n",
      "WARNING:root:PyMultiNest not imported.  MultiNest fits will not work.\n",
      "WARNING:root:Emcee3 not imported; be advised.\n",
      "/Users/ageller/anaconda3/lib/python3.7/site-packages/numpy/lib/npyio.py:2336: VisibleDeprecationWarning: Reading unicode strings without specifying the encoding argument is deprecated. Set the encoding, use None for the system default.\n",
      "  output = genfromtxt(fname, **kwargs)\n",
      "WARNING:root:sklearn not available\n",
      "WARNING:root:progressbar not imported\n"
     ]
    },
    {
     "name": "stdout",
     "output_type": "stream",
     "text": [
      "/Volumes/highnoon2go/highnoon/WORK/LSST/onGitHub/EBLSST/input/TRILEGALmodels/vespa_update:/Users/ageller/anaconda3/bin:/Users/ageller/anaconda3/condabin:/Users/ageller/bin:/usr/local/bin:/usr/bin:/bin:/usr/sbin:/sbin:/Library/TeX/texbin:/usr/local/share/dotnet:/opt/X11/bin:~/.dotnet/tools:/Library/Frameworks/Mono.framework/Versions/Current/Commands\n"
     ]
    }
   ],
   "source": [
    "import pandas as pd\n",
    "import numpy as np\n",
    "\n",
    "import sys\n",
    "import os\n",
    "sys.path.insert(0, '/Users/ageller/WORK/LSST/onGitHub/EBLSST/code')\n",
    "sys.path.insert(0, '/Users/ageller/WORK/LSST/onGitHub/EBLSST/code/vespa_update')\n",
    "from vespa_update import trilegal as trilegal_update\n",
    "from TRILEGAL import TRILEGAL\n",
    "from OpSim import OpSim\n",
    "\n",
    "print(os.environ['PATH'])"
   ]
  },
  {
   "cell_type": "code",
   "execution_count": 2,
   "metadata": {},
   "outputs": [
    {
     "name": "stdout",
     "output_type": "stream",
     "text": [
      "getting OpSim fields...\n",
      "have summary cursor.\n",
      "have field cursor.\n",
      "returned 5292 fields\n"
     ]
    }
   ],
   "source": [
    "OpS = OpSim()\n",
    "OpS.dbFile = '/Users/ageller/WORK/LSST/onGitHub/EBLSST/input/db/baseline2018a.db'\n",
    "OpS.getAllOpSimFields()"
   ]
  },
  {
   "cell_type": "code",
   "execution_count": 43,
   "metadata": {},
   "outputs": [
    {
     "name": "stdout",
     "output_type": "stream",
     "text": [
      "expected Nstars =  27068.734515498414\n",
      "downloading model TRILEGAL_model_fID_1757.h5 0.8\n"
     ]
    },
    {
     "ename": "KeyboardInterrupt",
     "evalue": "",
     "output_type": "error",
     "traceback": [
      "\u001b[0;31m---------------------------------------------------------------------------\u001b[0m",
      "\u001b[0;31mKeyboardInterrupt\u001b[0m                         Traceback (most recent call last)",
      "\u001b[0;32m<ipython-input-43-a649f7b4871d>\u001b[0m in \u001b[0;36m<module>\u001b[0;34m\u001b[0m\n\u001b[1;32m     35\u001b[0m                 \u001b[0mprint\u001b[0m\u001b[0;34m(\u001b[0m\u001b[0;34m'dont have OpSim field in header '\u001b[0m\u001b[0;34m,\u001b[0m \u001b[0mOpS\u001b[0m\u001b[0;34m.\u001b[0m\u001b[0mfieldID\u001b[0m\u001b[0;34m[\u001b[0m\u001b[0mi\u001b[0m\u001b[0;34m]\u001b[0m\u001b[0;34m,\u001b[0m \u001b[0mlen\u001b[0m\u001b[0;34m(\u001b[0m\u001b[0mheadVal\u001b[0m\u001b[0;34m.\u001b[0m\u001b[0mindex\u001b[0m\u001b[0;34m)\u001b[0m\u001b[0;34m)\u001b[0m\u001b[0;34m\u001b[0m\u001b[0;34m\u001b[0m\u001b[0m\n\u001b[1;32m     36\u001b[0m \u001b[0;34m\u001b[0m\u001b[0m\n\u001b[0;32m---> 37\u001b[0;31m             \u001b[0mgalaxy\u001b[0m\u001b[0;34m.\u001b[0m\u001b[0mdownloadModel\u001b[0m\u001b[0;34m(\u001b[0m\u001b[0;34m)\u001b[0m\u001b[0;34m\u001b[0m\u001b[0;34m\u001b[0m\u001b[0m\n\u001b[0m\u001b[1;32m     38\u001b[0m             \u001b[0;31m#else:\u001b[0m\u001b[0;34m\u001b[0m\u001b[0;34m\u001b[0m\u001b[0;34m\u001b[0m\u001b[0m\n\u001b[1;32m     39\u001b[0m                 \u001b[0;31m#print(galaxy.tmpfname, \"already exists\")\u001b[0m\u001b[0;34m\u001b[0m\u001b[0;34m\u001b[0m\u001b[0;34m\u001b[0m\u001b[0m\n",
      "\u001b[0;32m~/WORK/LSST/onGitHub/EBLSST/code/TRILEGAL.py\u001b[0m in \u001b[0;36mdownloadModel\u001b[0;34m(self)\u001b[0m\n\u001b[1;32m     49\u001b[0m \t\t\tpassed = trilegal_update.get_trilegal(self.tmpfname, self.RA, self.Dec, folder=self.tmpdir, galactic=False, \\\n\u001b[1;32m     50\u001b[0m                                 \u001b[0mfilterset\u001b[0m\u001b[0;34m=\u001b[0m\u001b[0mself\u001b[0m\u001b[0;34m.\u001b[0m\u001b[0mfilterset\u001b[0m\u001b[0;34m,\u001b[0m \u001b[0marea\u001b[0m\u001b[0;34m=\u001b[0m\u001b[0mself\u001b[0m\u001b[0;34m.\u001b[0m\u001b[0marea\u001b[0m\u001b[0;34m,\u001b[0m \u001b[0mmaglim\u001b[0m\u001b[0;34m=\u001b[0m\u001b[0mself\u001b[0m\u001b[0;34m.\u001b[0m\u001b[0mmaglim\u001b[0m\u001b[0;34m,\u001b[0m \u001b[0mmaglimFilter\u001b[0m\u001b[0;34m=\u001b[0m\u001b[0mself\u001b[0m\u001b[0;34m.\u001b[0m\u001b[0mmaglimFilter\u001b[0m\u001b[0;34m,\u001b[0m \u001b[0mbinaries\u001b[0m\u001b[0;34m=\u001b[0m\u001b[0mself\u001b[0m\u001b[0;34m.\u001b[0m\u001b[0mbinaries\u001b[0m\u001b[0;34m,\u001b[0m\u001b[0;31m \u001b[0m\u001b[0;31m\\\u001b[0m\u001b[0;34m\u001b[0m\u001b[0;34m\u001b[0m\u001b[0m\n\u001b[0;32m---> 51\u001b[0;31m \t\t\t\ttrilegal_version='1.6', sigma_AV=self.sigma_AV, convert_h5=True)\n\u001b[0m\u001b[1;32m     52\u001b[0m                         \u001b[0;32mif\u001b[0m \u001b[0;34m(\u001b[0m\u001b[0;32mnot\u001b[0m \u001b[0mpassed\u001b[0m\u001b[0;34m)\u001b[0m\u001b[0;34m:\u001b[0m\u001b[0;34m\u001b[0m\u001b[0;34m\u001b[0m\u001b[0m\n\u001b[1;32m     53\u001b[0m                                 \u001b[0mself\u001b[0m\u001b[0;34m.\u001b[0m\u001b[0marea\u001b[0m \u001b[0;34m*=\u001b[0m \u001b[0;36m0.9\u001b[0m\u001b[0;34m\u001b[0m\u001b[0;34m\u001b[0m\u001b[0m\n",
      "\u001b[0;32m~/WORK/LSST/onGitHub/EBLSST/code/vespa_update/trilegal.py\u001b[0m in \u001b[0;36mget_trilegal\u001b[0;34m(filename, ra, dec, folder, galactic, filterset, area, maglim, maglimFilter, binaries, trilegal_version, sigma_AV, convert_h5)\u001b[0m\n\u001b[1;32m     95\u001b[0m                                                                   \u001b[0marea\u001b[0m\u001b[0;34m,\u001b[0m\u001b[0mbinaries\u001b[0m\u001b[0;34m,\u001b[0m\u001b[0mAV\u001b[0m\u001b[0;34m,\u001b[0m\u001b[0msigma_AV\u001b[0m\u001b[0;34m,\u001b[0m\u001b[0;34m\u001b[0m\u001b[0;34m\u001b[0m\u001b[0m\n\u001b[1;32m     96\u001b[0m                                                                   filterset,maglimFilter,maglim,outfile,folder)\n\u001b[0;32m---> 97\u001b[0;31m     \u001b[0msp\u001b[0m\u001b[0;34m.\u001b[0m\u001b[0mPopen\u001b[0m\u001b[0;34m(\u001b[0m\u001b[0mcmd\u001b[0m\u001b[0;34m,\u001b[0m\u001b[0mshell\u001b[0m\u001b[0;34m=\u001b[0m\u001b[0;32mTrue\u001b[0m\u001b[0;34m)\u001b[0m\u001b[0;34m.\u001b[0m\u001b[0mwait\u001b[0m\u001b[0;34m(\u001b[0m\u001b[0;34m)\u001b[0m\u001b[0;34m\u001b[0m\u001b[0;34m\u001b[0m\u001b[0m\n\u001b[0m\u001b[1;32m     98\u001b[0m     \u001b[0;32mif\u001b[0m \u001b[0;32mnot\u001b[0m \u001b[0mos\u001b[0m\u001b[0;34m.\u001b[0m\u001b[0mpath\u001b[0m\u001b[0;34m.\u001b[0m\u001b[0mexists\u001b[0m\u001b[0;34m(\u001b[0m\u001b[0moutfile\u001b[0m\u001b[0;34m)\u001b[0m\u001b[0;34m:\u001b[0m\u001b[0;34m\u001b[0m\u001b[0;34m\u001b[0m\u001b[0m\n\u001b[1;32m     99\u001b[0m         \u001b[0;32mreturn\u001b[0m \u001b[0;32mFalse\u001b[0m\u001b[0;34m\u001b[0m\u001b[0;34m\u001b[0m\u001b[0m\n",
      "\u001b[0;32m~/anaconda3/lib/python3.7/subprocess.py\u001b[0m in \u001b[0;36mwait\u001b[0;34m(self, timeout)\u001b[0m\n\u001b[1;32m    988\u001b[0m             \u001b[0mendtime\u001b[0m \u001b[0;34m=\u001b[0m \u001b[0m_time\u001b[0m\u001b[0;34m(\u001b[0m\u001b[0;34m)\u001b[0m \u001b[0;34m+\u001b[0m \u001b[0mtimeout\u001b[0m\u001b[0;34m\u001b[0m\u001b[0;34m\u001b[0m\u001b[0m\n\u001b[1;32m    989\u001b[0m         \u001b[0;32mtry\u001b[0m\u001b[0;34m:\u001b[0m\u001b[0;34m\u001b[0m\u001b[0;34m\u001b[0m\u001b[0m\n\u001b[0;32m--> 990\u001b[0;31m             \u001b[0;32mreturn\u001b[0m \u001b[0mself\u001b[0m\u001b[0;34m.\u001b[0m\u001b[0m_wait\u001b[0m\u001b[0;34m(\u001b[0m\u001b[0mtimeout\u001b[0m\u001b[0;34m=\u001b[0m\u001b[0mtimeout\u001b[0m\u001b[0;34m)\u001b[0m\u001b[0;34m\u001b[0m\u001b[0;34m\u001b[0m\u001b[0m\n\u001b[0m\u001b[1;32m    991\u001b[0m         \u001b[0;32mexcept\u001b[0m \u001b[0mKeyboardInterrupt\u001b[0m\u001b[0;34m:\u001b[0m\u001b[0;34m\u001b[0m\u001b[0;34m\u001b[0m\u001b[0m\n\u001b[1;32m    992\u001b[0m             \u001b[0;31m# https://bugs.python.org/issue25942\u001b[0m\u001b[0;34m\u001b[0m\u001b[0;34m\u001b[0m\u001b[0;34m\u001b[0m\u001b[0m\n",
      "\u001b[0;32m~/anaconda3/lib/python3.7/subprocess.py\u001b[0m in \u001b[0;36m_wait\u001b[0;34m(self, timeout)\u001b[0m\n\u001b[1;32m   1622\u001b[0m                         \u001b[0;32mif\u001b[0m \u001b[0mself\u001b[0m\u001b[0;34m.\u001b[0m\u001b[0mreturncode\u001b[0m \u001b[0;32mis\u001b[0m \u001b[0;32mnot\u001b[0m \u001b[0;32mNone\u001b[0m\u001b[0;34m:\u001b[0m\u001b[0;34m\u001b[0m\u001b[0;34m\u001b[0m\u001b[0m\n\u001b[1;32m   1623\u001b[0m                             \u001b[0;32mbreak\u001b[0m  \u001b[0;31m# Another thread waited.\u001b[0m\u001b[0;34m\u001b[0m\u001b[0;34m\u001b[0m\u001b[0m\n\u001b[0;32m-> 1624\u001b[0;31m                         \u001b[0;34m(\u001b[0m\u001b[0mpid\u001b[0m\u001b[0;34m,\u001b[0m \u001b[0msts\u001b[0m\u001b[0;34m)\u001b[0m \u001b[0;34m=\u001b[0m \u001b[0mself\u001b[0m\u001b[0;34m.\u001b[0m\u001b[0m_try_wait\u001b[0m\u001b[0;34m(\u001b[0m\u001b[0;36m0\u001b[0m\u001b[0;34m)\u001b[0m\u001b[0;34m\u001b[0m\u001b[0;34m\u001b[0m\u001b[0m\n\u001b[0m\u001b[1;32m   1625\u001b[0m                         \u001b[0;31m# Check the pid and loop as waitpid has been known to\u001b[0m\u001b[0;34m\u001b[0m\u001b[0;34m\u001b[0m\u001b[0;34m\u001b[0m\u001b[0m\n\u001b[1;32m   1626\u001b[0m                         \u001b[0;31m# return 0 even without WNOHANG in odd situations.\u001b[0m\u001b[0;34m\u001b[0m\u001b[0;34m\u001b[0m\u001b[0;34m\u001b[0m\u001b[0m\n",
      "\u001b[0;32m~/anaconda3/lib/python3.7/subprocess.py\u001b[0m in \u001b[0;36m_try_wait\u001b[0;34m(self, wait_flags)\u001b[0m\n\u001b[1;32m   1580\u001b[0m             \u001b[0;34m\"\"\"All callers to this function MUST hold self._waitpid_lock.\"\"\"\u001b[0m\u001b[0;34m\u001b[0m\u001b[0;34m\u001b[0m\u001b[0m\n\u001b[1;32m   1581\u001b[0m             \u001b[0;32mtry\u001b[0m\u001b[0;34m:\u001b[0m\u001b[0;34m\u001b[0m\u001b[0;34m\u001b[0m\u001b[0m\n\u001b[0;32m-> 1582\u001b[0;31m                 \u001b[0;34m(\u001b[0m\u001b[0mpid\u001b[0m\u001b[0;34m,\u001b[0m \u001b[0msts\u001b[0m\u001b[0;34m)\u001b[0m \u001b[0;34m=\u001b[0m \u001b[0mos\u001b[0m\u001b[0;34m.\u001b[0m\u001b[0mwaitpid\u001b[0m\u001b[0;34m(\u001b[0m\u001b[0mself\u001b[0m\u001b[0;34m.\u001b[0m\u001b[0mpid\u001b[0m\u001b[0;34m,\u001b[0m \u001b[0mwait_flags\u001b[0m\u001b[0;34m)\u001b[0m\u001b[0;34m\u001b[0m\u001b[0;34m\u001b[0m\u001b[0m\n\u001b[0m\u001b[1;32m   1583\u001b[0m             \u001b[0;32mexcept\u001b[0m \u001b[0mChildProcessError\u001b[0m\u001b[0;34m:\u001b[0m\u001b[0;34m\u001b[0m\u001b[0;34m\u001b[0m\u001b[0m\n\u001b[1;32m   1584\u001b[0m                 \u001b[0;31m# This happens if SIGCLD is set to be ignored or waiting\u001b[0m\u001b[0;34m\u001b[0m\u001b[0;34m\u001b[0m\u001b[0;34m\u001b[0m\u001b[0m\n",
      "\u001b[0;31mKeyboardInterrupt\u001b[0m: "
     ]
    }
   ],
   "source": [
    "head = pd.read_csv('outputFilesHead.csv')\n",
    "Nmax = 5e5 #maximum number of stars that we want from TRILEGAL\n",
    "area0 = np.pi*(3.5/2.)**2. #square degrees (LSST FoV)\n",
    "\n",
    "for i in range(len(OpS.Nobs)):\n",
    "    if (OpS.Nobs[i] > 0):\n",
    "\n",
    "        galaxy = TRILEGAL()\n",
    "        galaxy.RA = OpS.RA[i]\n",
    "        galaxy.Dec = OpS.Dec[i]\n",
    "        galaxy.fieldID = OpS.fieldID[i]\n",
    "        galaxy.tmpfname = 'TRILEGAL_model_fID_'+str(int(OpS.fieldID[i]))+'.h5'\n",
    "        galaxy.tmpdir = '/Users/ageller/WORK/LSST/onGitHub/EBLSST/input/TRILEGALmodels/'\n",
    "        #having trouble getting these\n",
    "#         if (int(OpS.fieldID[i]) != 1757):\n",
    "#         if (int(OpS.fieldID[i]) != 1322 and int(OpS.fieldID[i]) != 1430 and int(OpS.fieldID[i]) != 1541 \\\n",
    "#         and int(OpS.fieldID[i]) != 1562 and int(OpS.fieldID[i]) != 1563 and int(OpS.fieldID[i]) != 1642 \\\n",
    "#         and int(OpS.fieldID[i]) != 1668 and int(OpS.fieldID[i]) != 1756 and int(OpS.fieldID[i]) != 1757 \\\n",
    "#         and int(OpS.fieldID[i]) != 1779 and int(OpS.fieldID[i]) != 1880 and int(OpS.fieldID[i]) != 1889 \\\n",
    "#         and int(OpS.fieldID[i]) != 2000 and int(OpS.fieldID[i]) != 2011 and int(OpS.fieldID[i]) != 2331 \\\n",
    "#         and int(OpS.fieldID[i]) != 2447 and int(OpS.fieldID[i]) != 2779 and int(OpS.fieldID[i]) != 2891\\\n",
    "#         and int(OpS.fieldID[i]) != 2993 and int(OpS.fieldID[i]) != 2994 and int(OpS.fieldID[i]) != 4203):\n",
    "        if (not os.path.exists(os.path.join(galaxy.tmpdir, galaxy.tmpfname))):\n",
    "            #find the number of expected stars\n",
    "            #reduce the area if needed so that we don't download more that Nmax stars\n",
    "            headVal = head.loc[(head['OpSimID'] == OpS.fieldID[i])]\n",
    "            if (len(headVal.index) > 0):\n",
    "                print(\"expected Nstars = \",headVal['NstarsTRILEGAL'].iloc[0])\n",
    "                if (headVal['NstarsTRILEGAL'].iloc[0] > Nmax):\n",
    "                    galaxy.area = area0*(Nmax/headVal['NstarsTRILEGAL'].iloc[0])**2.\n",
    "\n",
    "                    print(\"reducing area to\", galaxy.area)\n",
    "            else:\n",
    "                print('dont have OpSim field in header ', OpS.fieldID[i], len(headVal.index))\n",
    "\n",
    "            galaxy.downloadModel()\n",
    "            #else:\n",
    "                #print(galaxy.tmpfname, \"already exists\")\n",
    "\n",
    "print('done')"
   ]
  },
  {
   "cell_type": "code",
   "execution_count": null,
   "metadata": {},
   "outputs": [],
   "source": []
  },
  {
   "cell_type": "markdown",
   "metadata": {},
   "source": [
    "# Should I try to reduce the size of many of these somehow?\n",
    "\n",
    "maybe I can gzip them (does that reduce the size considerably?), and then upack to read in python?"
   ]
  },
  {
   "cell_type": "code",
   "execution_count": 2,
   "metadata": {},
   "outputs": [],
   "source": [
    "\n",
    "\n",
    "from astropy.coordinates import SkyCoord\n",
    "from astropy import units, constants\n",
    "\n",
    "import matplotlib.pyplot as plt\n",
    "%matplotlib inline"
   ]
  },
  {
   "cell_type": "code",
   "execution_count": 3,
   "metadata": {},
   "outputs": [],
   "source": [
    "f1 = '/Users/ageller/WORK/LSST/onGitHub/EBLSST/testing/TRILEGAL/grid/test.trilegal.GC.h5'\n",
    "df = pd.read_hdf(f1)\n",
    "#df2 = pd.read_hdf('grid/test.trilegal.GC.rband.h5')\n",
    "f2 = '/Users/ageller/WORK/LSST/onGitHub/EBLSST/input/TRILEGALmodels/TRILEGAL_model_fID_1.h5'\n",
    "df2 = pd.read_hdf(f2)"
   ]
  },
  {
   "cell_type": "code",
   "execution_count": 4,
   "metadata": {},
   "outputs": [
    {
     "name": "stdout",
     "output_type": "stream",
     "text": [
      "{'version': '1.6', 'ra': 270.0, 'dec': -29, 'l': 1.5439368675677592, 'b': -2.741151563920792, 'area': 0.1, 'AV': 2.227, 'sigma_AV': 0.1, 'filterset': 'lsst', 'maglim': 26, 'binaries': False}\n",
      "{'version': '1.6', 'ra': 0.0, 'dec': -90.0, 'l': 302.9319252554167, 'b': -27.12825241496801, 'area': 9.62112750161874, 'AV': 0.504, 'sigma_AV': 0.1, 'filterset': 'lsst', 'maglim': 25, 'maglimFilter': 3, 'binaries': False}\n",
      "9.62112750161874\n"
     ]
    }
   ],
   "source": [
    "area = 0.\n",
    "\n",
    "with pd.HDFStore(f1) as store:\n",
    "    attrs = store.get_storer('df').attrs\n",
    "    print(attrs.trilegal_args)\n",
    "with pd.HDFStore(f2) as store:\n",
    "    attrs = store.get_storer('df').attrs\n",
    "    if ('area' in attrs.trilegal_args):\n",
    "        area = float(attrs.trilegal_args['area'])\n",
    "    print(attrs.trilegal_args)\n",
    "print(area)"
   ]
  },
  {
   "cell_type": "code",
   "execution_count": null,
   "metadata": {},
   "outputs": [],
   "source": []
  },
  {
   "cell_type": "code",
   "execution_count": 6,
   "metadata": {},
   "outputs": [
    {
     "data": {
      "image/png": "[encoded data removed]",
      "text/plain": [
       "<Figure size 432x288 with 1 Axes>"
      ]
     },
     "metadata": {
      "needs_background": "dark"
     },
     "output_type": "display_data"
    }
   ],
   "source": [
    "f, ax = plt.subplots()\n",
    "_ = ax.hist(df['r_mag'], bins=50, histtype='step', color='white', linewidth=2, density=True)\n",
    "_ = ax.hist(df['u_mag'], bins=50, histtype='step', color='purple', linewidth=2, density=True)\n",
    "_ = ax.hist(df2['r_mag'], bins=50, histtype='step', color='red', linewidth=4, density=True)\n",
    "#ax.set_yscale('log')"
   ]
  },
  {
   "cell_type": "code",
   "execution_count": null,
   "metadata": {},
   "outputs": [],
   "source": []
  }
 ],
 "metadata": {
  "kernelspec": {
   "display_name": "Python 3",
   "language": "python",
   "name": "python3"
  },
  "language_info": {
   "codemirror_mode": {
    "name": "ipython",
    "version": 3
   },
   "file_extension": ".py",
   "mimetype": "text/x-python",
   "name": "python",
   "nbconvert_exporter": "python",
   "pygments_lexer": "ipython3",
   "version": "3.7.3"
  }
 },
 "nbformat": 4,
 "nbformat_minor": 2
}
