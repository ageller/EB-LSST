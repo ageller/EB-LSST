{
 "cells": [
  {
   "cell_type": "markdown",
   "metadata": {},
   "source": [
    "# Testing the driver code"
   ]
  },
  {
   "cell_type": "code",
   "execution_count": 1,
   "metadata": {
    "scrolled": true
   },
   "outputs": [
    {
     "name": "stderr",
     "output_type": "stream",
     "text": [
      "/Users/ageller/anaconda/envs/py36/lib/python3.6/site-packages/pysynphot/refs.py:118: UserWarning: No graph or component tables found; functionality will be SEVERELY crippled. No files found for /Users/ageller/python_scripts/PySynphotData/mtab/*_tmg.fits\n",
      "  'functionality will be SEVERELY crippled. ' + str(e))\n",
      "/Users/ageller/anaconda/envs/py36/lib/python3.6/site-packages/pysynphot/refs.py:125: UserWarning: No thermal tables found, no thermal calculations can be performed. No files found for /Users/ageller/python_scripts/PySynphotData/mtab/*_tmt.fits\n",
      "  'no thermal calculations can be performed. ' + str(e))\n",
      "WARNING:root:PyMultiNest not imported.  MultiNest fits will not work.\n",
      "/Users/ageller/anaconda/envs/py36/lib/python3.6/site-packages/numpy/lib/npyio.py:2222: VisibleDeprecationWarning: Reading unicode strings without specifying the encoding argument is deprecated. Set the encoding, use None for the system default.\n",
      "  output = genfromtxt(fname, **kwargs)\n",
      "/Users/ageller/anaconda/envs/py36/lib/python3.6/site-packages/sklearn/cross_validation.py:41: DeprecationWarning: This module was deprecated in version 0.18 in favor of the model_selection module into which all the refactored classes and functions are moved. Also note that the interface of the new CV iterators are different from that of this module. This module will be removed in 0.20.\n",
      "  \"This module will be removed in 0.20.\", DeprecationWarning)\n",
      "/Users/ageller/anaconda/envs/py36/lib/python3.6/site-packages/sklearn/grid_search.py:42: DeprecationWarning: This module was deprecated in version 0.18 in favor of the model_selection module into which all the refactored classes and functions are moved. This module will be removed in 0.20.\n",
      "  DeprecationWarning)\n",
      "WARNING:root:progressbar not imported\n"
     ]
    }
   ],
   "source": [
    "import sys\n",
    "sys.path.insert(0, '/Users/ageller/WORK/LSST/onGitHub/EBLSST/code')\n",
    "from EBLSST import LSSTEBworker, OpSim, TRILEGAL\n",
    "\n",
    "%load_ext autoreload\n",
    "%autoreload 2"
   ]
  },
  {
   "cell_type": "markdown",
   "metadata": {},
   "source": [
    "*I will do this before initializing the worker, because then I only need to do it once for all processes*"
   ]
  },
  {
   "cell_type": "code",
   "execution_count": 2,
   "metadata": {},
   "outputs": [],
   "source": [
    "worker = LSSTEBworker()"
   ]
  },
  {
   "cell_type": "code",
   "execution_count": 3,
   "metadata": {},
   "outputs": [
    {
     "name": "stdout",
     "output_type": "stream",
     "text": [
      "getting OpSim fields...\n",
      "have summary cursor.\n",
      "have field cursor.\n",
      "returned 5292 fields\n"
     ]
    }
   ],
   "source": [
    "OpS = OpSim()\n",
    "OpS.dbFile = '/Users/ageller/WORK/LSST/onGitHub/EBLSST/input/db/minion_1016_sqlite.db' #for the OpSim database\t\n",
    "OpS.getAllOpSimFields()\n"
   ]
  },
  {
   "cell_type": "markdown",
   "metadata": {},
   "source": [
    "*Just for testing so that I don't have to re-download every time*"
   ]
  },
  {
   "cell_type": "code",
   "execution_count": null,
   "metadata": {},
   "outputs": [
    {
     "name": "stdout",
     "output_type": "stream",
     "text": [
      "downloading TRILEGAL model for RA=0.0, DEC=-90.0\n"
     ]
    }
   ],
   "source": [
    "i=0\n",
    "gal = TRILEGAL()\n",
    "gal.RA = OpS.RA[i]\n",
    "gal.Dec = OpS.Dec[i]\n",
    "gal.tmpfname = 'TRILEGAL_model_fID'+str(OpS.fieldID[i])+'.h5' \n",
    "gal.setModel()\n"
   ]
  },
  {
   "cell_type": "code",
   "execution_count": null,
   "metadata": {},
   "outputs": [
    {
     "name": "stdout",
     "output_type": "stream",
     "text": [
      "getting Breivik kernel\n",
      "The number of binaries in the Gx for: 0012 is: 22919080853\n",
      "both bright stars and eccentric\n",
      "matching Breivik to TRILEGAL\n",
      "running emcee with nwalkers=100, nsamples=2000, nthreads=1, \n"
     ]
    }
   ],
   "source": [
    "worker.Galaxy = gal #remove this after testing\n",
    "worker.OpSim = OpS\n",
    "\n",
    "#set random seed and get the TRILEGAL model (and get all the fields in OpSim, if not defined already)\n",
    "#and match to TRILEGAL\n",
    "worker.initialize(i=0) "
   ]
  },
  {
   "cell_type": "markdown",
   "metadata": {},
   "source": [
    "### Test the output"
   ]
  },
  {
   "cell_type": "code",
   "execution_count": null,
   "metadata": {},
   "outputs": [],
   "source": [
    "import corner\n",
    "\n",
    "from matplotlib import pyplot as plt\n",
    "#%matplotlib notebook\n",
    "%matplotlib inline\n",
    "\n",
    "\n",
    "#some function to make plots (will re-use them later)\n",
    "#to plot the chains\n",
    "def plotChains(sampler, nburn, paramsNames):\n",
    "    Nparams = len(paramsNames)\n",
    "    fig, ax = plt.subplots(Nparams,1, figsize = (8,2*Nparams), sharex = True)\n",
    "    fig.subplots_adjust(hspace = 0)\n",
    "    ax[0].set_title('Chains')\n",
    "    xplot = range(len(sampler.chain[0,:,0]))\n",
    "\n",
    "    for i,p in enumerate(paramsNames):\n",
    "        for w in range(sampler.chain.shape[0]):\n",
    "            ax[i].plot(xplot[:nburn], sampler.chain[w,:nburn,i], color=\"0.5\", alpha = 0.4, lw = 0.7, zorder = 1)\n",
    "            ax[i].plot(xplot[nburn:], sampler.chain[w,nburn:,i], color=\"k\", alpha = 0.4, lw = 0.7, zorder = 1)\n",
    "            \n",
    "            ax[i].set_ylabel(p)\n",
    "            \n",
    "    return ax"
   ]
  },
  {
   "cell_type": "code",
   "execution_count": null,
   "metadata": {},
   "outputs": [],
   "source": [
    "outNames = ['logm2', 'logr2', 'logL2', 'ecc', 'logp']\n",
    "axC = plotChains(worker.emcee_sampler, worker.emcee_nburn, outNames)"
   ]
  },
  {
   "cell_type": "code",
   "execution_count": null,
   "metadata": {},
   "outputs": [],
   "source": [
    "outNames = ['Av', '[M/H]', 'logD', 'logm1', 'logr1', 'logL1', 'logm2', 'logr2', 'logL2', 'ecc', 'logp']\n",
    "f = corner.corner(worker.BreivikGal, labels = outNames, quantiles = [0.16, 0.5, 0.84])"
   ]
  },
  {
   "cell_type": "code",
   "execution_count": null,
   "metadata": {},
   "outputs": [],
   "source": [
    "i = 9\n",
    "line = worker.sampleBreivikGal(1)\n",
    "EB = worker.getEB(line, i)\n",
    "\n",
    "#TO TEST\n",
    "EB.inclination = 90.\n",
    "\n",
    "print(EB.period, EB.inclination, EB.R_1, EB.R_2, EB.sbratio, EB.q)\n",
    "\n",
    "fig,ax = plt.subplots(6,1, figsize=(6,8))\n",
    "for i,f in enumerate(worker.filters):\n",
    "    EB.observe(f)\n",
    "\n",
    "    ax[i].plot((EB.obsDates[f] % EB.period), EB.appMag[f],'.', color='red')\n",
    "    ax[i].plot((EB.obsDates[f] % EB.period), EB.appMagObs[f],'.', alpha=0.3, color='blue')\n",
    "    ax[i].set_ylim(max(EB.appMagObs[f]), min(EB.appMagObs[f]))\n",
    "    ax[i].set_ylabel(f)"
   ]
  },
  {
   "cell_type": "code",
   "execution_count": null,
   "metadata": {},
   "outputs": [],
   "source": []
  }
 ],
 "metadata": {
  "kernelspec": {
   "display_name": "Python 3",
   "language": "python",
   "name": "python3"
  },
  "language_info": {
   "codemirror_mode": {
    "name": "ipython",
    "version": 3
   },
   "file_extension": ".py",
   "mimetype": "text/x-python",
   "name": "python",
   "nbconvert_exporter": "python",
   "pygments_lexer": "ipython3",
   "version": "3.6.4"
  }
 },
 "nbformat": 4,
 "nbformat_minor": 2
}
