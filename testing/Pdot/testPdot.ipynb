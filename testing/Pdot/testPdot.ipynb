{
 "cells": [
  {
   "cell_type": "markdown",
   "id": "modular-provider",
   "metadata": {},
   "source": [
    "# Testing Pdot to see if this could be observable with LSST"
   ]
  },
  {
   "cell_type": "code",
   "execution_count": 1,
   "id": "coral-neighborhood",
   "metadata": {},
   "outputs": [],
   "source": [
    "import numpy as np\n",
    "from astropy import units\n",
    "from astropy.table import Table\n",
    "import pandas as pd\n",
    "\n",
    "from matplotlib import pyplot as plt\n",
    "\n",
    "%matplotlib inline"
   ]
  },
  {
   "cell_type": "code",
   "execution_count": 22,
   "id": "iraqi-international",
   "metadata": {},
   "outputs": [
    {
     "name": "stdout",
     "output_type": "stream",
     "text": [
      "The autoreload extension is already loaded. To reload it, use:\n",
      "  %reload_ext autoreload\n"
     ]
    }
   ],
   "source": [
    "%load_ext autoreload\n",
    "%autoreload 2\n",
    "\n",
    "from binaryTides import *"
   ]
  },
  {
   "cell_type": "code",
   "execution_count": 27,
   "id": "inner-palace",
   "metadata": {
    "scrolled": true
   },
   "outputs": [
    {
     "name": "stdout",
     "output_type": "stream",
     "text": [
      "binary semi-major axis =  0.09862894142866484 AU\n",
      "binary omega1 =  1058.98378928 1 / yr 1058.98378928\n"
     ]
    }
   ],
   "source": [
    "binary = initBinary(p=8*units.day, e=0.8, omega1=1058.98378928*units.yr**-1, omega2=1058.98378928*units.yr**-1)\n",
    "integrator = TidesIntegrator(binary)\n",
    "integrator.evolve(10*units.Gyr)"
   ]
  },
  {
   "cell_type": "code",
   "execution_count": 28,
   "id": "horizontal-flush",
   "metadata": {},
   "outputs": [
    {
     "data": {
      "text/html": [
       "<i>Table length=802</i>\n",
       "<table id=\"table140203858682448\" class=\"table-striped table-bordered table-condensed\">\n",
       "<thead><tr><th>tphys</th><th>ecc</th><th>sma</th><th>porb</th><th>omega1</th><th>omega2</th></tr></thead>\n",
       "<thead><tr><th>yr</th><th></th><th>solRad</th><th>yr</th><th>1 / yr</th><th>1 / yr</th></tr></thead>\n",
       "<thead><tr><th>float64</th><th>float64</th><th>float64</th><th>float64</th><th>float64</th><th>float64</th></tr></thead>\n",
       "<tr><td>0.0</td><td>0.8</td><td>21.20839388690998</td><td>0.02190280629705676</td><td>1058.98378928</td><td>1058.98378928</td></tr>\n",
       "<tr><td>665644.3863583691</td><td>0.799</td><td>21.099668421386998</td><td>0.021734594257490567</td><td>1127.4761622425929</td><td>1127.4761622425929</td></tr>\n",
       "<tr><td>1459363.1149945054</td><td>0.798</td><td>20.99215099814774</td><td>0.021568676858283824</td><td>1195.3703879212599</td><td>1195.3703879212599</td></tr>\n",
       "<tr><td>2393060.967727845</td><td>0.797</td><td>20.885832342110902</td><td>0.021405026638067308</td><td>1262.6271448351474</td><td>1262.6271448351474</td></tr>\n",
       "<tr><td>3478769.6732789893</td><td>0.796</td><td>20.780704434413803</td><td>0.021243618301916487</td><td>1329.2021550606742</td><td>1329.2021550606742</td></tr>\n",
       "<tr><td>4728624.899623586</td><td>0.795</td><td>20.676760574938566</td><td>0.021084428790915953</td><td>1395.0457557491966</td><td>1395.0457557491966</td></tr>\n",
       "<tr><td>6154834.542317281</td><td>0.794</td><td>20.573995434118014</td><td>0.020927437334569598</td><td>1460.102513382887</td><td>1460.102513382887</td></tr>\n",
       "<tr><td>7769636.933374015</td><td>0.793</td><td>20.47240508980626</td><td>0.020772625479969577</td><td>1524.3109023745528</td><td>1524.3109023745528</td></tr>\n",
       "<tr><td>9585247.569551961</td><td>0.792</td><td>20.371987044395578</td><td>0.020619977090839008</td><td>1587.6030732124016</td><td>1587.6030732124016</td></tr>\n",
       "<tr><td>...</td><td>...</td><td>...</td><td>...</td><td>...</td><td>...</td></tr>\n",
       "<tr><td>3475142682.2716646</td><td>0.007999999999999341</td><td>7.616177181174215</td><td>0.004713501500974707</td><td>1333.6561445711013</td><td>1333.6561445711013</td></tr>\n",
       "<tr><td>3475748725.8143625</td><td>0.006999999999999341</td><td>7.61615791665342</td><td>0.004713483617339367</td><td>1333.5305099031636</td><td>1333.5305099031636</td></tr>\n",
       "<tr><td>3476441394.005912</td><td>0.005999999999999341</td><td>7.61616030251817</td><td>0.0047134858321835355</td><td>1333.415596526637</td><td>1333.415596526637</td></tr>\n",
       "<tr><td>3477249569.646537</td><td>0.004999999999999341</td><td>7.61618679836581</td><td>0.004713510428812174</td><td>1333.3109936080093</td><td>1333.3109936080093</td></tr>\n",
       "<tr><td>3478219467.9933066</td><td>0.003999999999999341</td><td>7.6162415582091665</td><td>0.004713561263612486</td><td>1333.2160565589404</td><td>1333.2160565589404</td></tr>\n",
       "<tr><td>3479431971.6781015</td><td>0.002999999999999341</td><td>7.61633237115813</td><td>0.004713645567728468</td><td>1333.1296958166413</td><td>1333.1296958166413</td></tr>\n",
       "<tr><td>3481048861.022357</td><td>0.001999999999999341</td><td>7.616476300462242</td><td>0.004713779182222653</td><td>1333.0498674734233</td><td>1333.0498674734233</td></tr>\n",
       "<tr><td>3483474637.293143</td><td>0.0009999999999993408</td><td>7.616721685745101</td><td>0.004714006984681842</td><td>1332.9720932540442</td><td>1332.9720932540442</td></tr>\n",
       "<tr><td>3488327599.037021</td><td>0.0</td><td>7.61730020758413</td><td>0.004714544067672378</td><td>1332.8836861530137</td><td>1332.8836861530137</td></tr>\n",
       "<tr><td>10000000000.0</td><td>0.0</td><td>8.900371860047725</td><td>0.005954568825958935</td><td>1332.7238470976183</td><td>1332.7238470976183</td></tr>\n",
       "</table>"
      ],
      "text/plain": [
       "<Table length=802>\n",
       "      tphys                 ecc          ...       omega2      \n",
       "        yr                               ...       1 / yr      \n",
       "     float64              float64        ...      float64      \n",
       "------------------ --------------------- ... ------------------\n",
       "               0.0                   0.8 ...      1058.98378928\n",
       " 665644.3863583691                 0.799 ... 1127.4761622425929\n",
       "1459363.1149945054                 0.798 ... 1195.3703879212599\n",
       " 2393060.967727845                 0.797 ... 1262.6271448351474\n",
       "3478769.6732789893                 0.796 ... 1329.2021550606742\n",
       " 4728624.899623586                 0.795 ... 1395.0457557491966\n",
       " 6154834.542317281                 0.794 ...  1460.102513382887\n",
       " 7769636.933374015                 0.793 ... 1524.3109023745528\n",
       " 9585247.569551961                 0.792 ... 1587.6030732124016\n",
       "               ...                   ... ...                ...\n",
       "3475142682.2716646  0.007999999999999341 ... 1333.6561445711013\n",
       "3475748725.8143625  0.006999999999999341 ... 1333.5305099031636\n",
       " 3476441394.005912  0.005999999999999341 ...  1333.415596526637\n",
       " 3477249569.646537  0.004999999999999341 ... 1333.3109936080093\n",
       "3478219467.9933066  0.003999999999999341 ... 1333.2160565589404\n",
       "3479431971.6781015  0.002999999999999341 ... 1333.1296958166413\n",
       " 3481048861.022357  0.001999999999999341 ... 1333.0498674734233\n",
       " 3483474637.293143 0.0009999999999993408 ... 1332.9720932540442\n",
       " 3488327599.037021                   0.0 ... 1332.8836861530137\n",
       "     10000000000.0                   0.0 ... 1332.7238470976183"
      ]
     },
     "execution_count": 28,
     "metadata": {},
     "output_type": "execute_result"
    }
   ],
   "source": [
    "tab"
   ]
  },
  {
   "cell_type": "code",
   "execution_count": 29,
   "id": "hidden-concern",
   "metadata": {},
   "outputs": [
    {
     "data": {
      "text/plain": [
       "(0.0, 2782.9303541538206)"
      ]
     },
     "execution_count": 29,
     "metadata": {},
     "output_type": "execute_result"
    },
    {
     "data": {
      "image/png": "[encoded data removed]",
      "text/plain": [
       "<Figure size 360x720 with 3 Axes>"
      ]
     },
     "metadata": {
      "needs_background": "light"
     },
     "output_type": "display_data"
    }
   ],
   "source": [
    "t = tab['tphys'].to(units.yr).value\n",
    "e = tab['ecc']\n",
    "a = tab['sma'].to(units.solRad).value\n",
    "p = tab['porb'].to(units.yr).value\n",
    "o1 = tab['omega1'].to(1./units.yr).value\n",
    "o2 = tab['omega2'].to(1./units.yr).value\n",
    "\n",
    "f, ax = plt.subplots(3,1, figsize=(5,10))\n",
    "\n",
    "ax[0].plot(t,e)\n",
    "ax[0].set_ylabel('eccentricity')\n",
    "ax[0].set_ylim(0,1.01*max(e))\n",
    "\n",
    "ax[1].plot(t,a)\n",
    "ax[1].set_ylabel('semi-major axis (RSun)')\n",
    "ax[1].set_xlabel('time(yr)')\n",
    "ax[1].set_ylim(0,1.01*max(a))\n",
    "\n",
    "ax[2].plot(t,o1)\n",
    "ax[2].plot(t,o2)\n",
    "ax[2].set_ylabel('spin (rad/yr)')\n",
    "ax[2].set_xlabel('time(yr)')\n",
    "\n",
    "f2 = 1. + 15./2.*e**2. +  45./8.*e**4. +   5./16.*e**6.\n",
    "f5 = 1. +     3.*e**2. +   3./8.*e**4.\n",
    "omega_orb = 2.*np.pi/p\n",
    "omega_eq = f2*omega_orb/(f5*(1. - e**2.)**(3./2.))\n",
    "ax[2].plot(t[1:],omega_eq[:-1])\n",
    "\n",
    "#ax[2].set_ylim(0,1.01*max(spin_eq))\n",
    "ax[2].set_ylim(0,1.01*max(o1))\n"
   ]
  },
  {
   "cell_type": "code",
   "execution_count": 6,
   "id": "silent-application",
   "metadata": {},
   "outputs": [],
   "source": [
    "from cosmic.sample.initialbinarytable import InitialBinaryTable\n",
    "from cosmic.evolve import Evolve\n",
    "BSEDict = {'xi': 1.0, 'bhflag': 1, 'neta': 0.5, 'windflag': 3, 'wdflag': 1, 'alpha1': 1.0, 'pts1': 0.001, 'pts3': 0.02, 'pts2': 0.01, 'epsnov': 0.001, 'hewind': 0.5, 'ck': 1000, 'bwind': 0.0, 'lambdaf': 0.5, 'mxns': 2.5, 'beta': 0.125, 'tflag': 1, 'acc2': 1.5, 'remnantflag': 3, 'ceflag': 0, 'eddfac': 1.0, 'ifflag': 0, 'bconst': 3000, 'sigma': 265.0, 'gamma': -1.0, 'pisn': 45.0, 'natal_kick_array' : [[-100.0,-100.0,-100.0,-100.0,0.0], [-100.0,-100.0,-100.0,-100.0,0.0]], 'bhsigmafrac' : 1.0, 'polar_kick_angle' : 90, 'qcrit_array' : [0.0,0.0,0.0,0.0,0.0,0.0,0.0,0.0,0.0,0.0,0.0,0.0,0.0,0.0,0.0,0.0], 'cekickflag' : 2, 'cehestarflag' : 0, 'cemergeflag' : 0, 'ecsn' : 2.5, 'ecsn_mlow' : 1.4, 'aic' : 1, 'ussn' : 0, 'sigmadiv' :-20.0, 'qcflag' : 2, 'eddlimflag' : 0, 'fprimc_array' : [2.0/21.0,2.0/21.0,2.0/21.0,2.0/21.0,2.0/21.0,2.0/21.0,2.0/21.0,2.0/21.0,2.0/21.0,2.0/21.0,2.0/21.0,2.0/21.0,2.0/21.0,2.0/21.0,2.0/21.0,2.0/21.0], 'bhspinflag' : 0, 'bhspinmag' : 0.0, 'rejuv_fac' : 1.0, 'rejuvflag' : 0, 'htpmb' : 1, 'ST_cr' : 1, 'ST_tide' : 0, 'bdecayfac' : 1, 'rembar_massloss' : 0.5, 'kickflag' : 0, 'zsun' : 0.014}"
   ]
  },
  {
   "cell_type": "code",
   "execution_count": 7,
   "id": "industrial-highland",
   "metadata": {},
   "outputs": [],
   "source": [
    "#testing with diff fprimc factor\n",
    "#BSEDict = {'xi': 1.0, 'bhflag': 1, 'neta': 0.5, 'windflag': 3, 'wdflag': 1, 'alpha1': 1.0, 'pts1': 0.001, 'pts3': 0.02, 'pts2': 0.01, 'epsnov': 0.001, 'hewind': 0.5, 'ck': 1000, 'bwind': 0.0, 'lambdaf': 0.5, 'mxns': 2.5, 'beta': 0.125, 'tflag': 1, 'acc2': 1.5, 'remnantflag': 3, 'ceflag': 0, 'eddfac': 1.0, 'ifflag': 0, 'bconst': 3000, 'sigma': 265.0, 'gamma': -1.0, 'pisn': 45.0, 'natal_kick_array' : [[-100.0,-100.0,-100.0,-100.0,0.0], [-100.0,-100.0,-100.0,-100.0,0.0]], 'bhsigmafrac' : 1.0, 'polar_kick_angle' : 90, 'qcrit_array' : [0.0,0.0,0.0,0.0,0.0,0.0,0.0,0.0,0.0,0.0,0.0,0.0,0.0,0.0,0.0,0.0], 'cekickflag' : 2, 'cehestarflag' : 0, 'cemergeflag' : 0, 'ecsn' : 2.5, 'ecsn_mlow' : 1.4, 'aic' : 1, 'ussn' : 0, 'sigmadiv' :-20.0, 'qcflag' : 2, 'eddlimflag' : 0, 'fprimc_array' : [1.0,1.0,1.0,1.0,1.0,1.0,1.0,1.0,1.0,1.0,1.0,1.0,1.0,1.0,1.0,1.0], 'bhspinflag' : 0, 'bhspinmag' : 0.0, 'rejuv_fac' : 1.0, 'rejuvflag' : 0, 'htpmb' : 1, 'ST_cr' : 1, 'ST_tide' : 0, 'bdecayfac' : 1, 'rembar_massloss' : 0.5, 'kickflag' : 0, 'zsun' : 0.014}"
   ]
  },
  {
   "cell_type": "code",
   "execution_count": 8,
   "id": "interim-labor",
   "metadata": {},
   "outputs": [
    {
     "name": "stderr",
     "output_type": "stream",
     "text": [
      "/Users/ageller/anaconda3/envs/EBLSST/lib/python3.7/site-packages/cosmic/evolve.py:534: VisibleDeprecationWarning: Creating an ndarray from ragged nested sequences (which is a list-or-tuple of lists-or-tuples-or ndarrays with different lengths or shapes) is deprecated. If you meant to do this, you must specify 'dtype=object' when creating the ndarray\n",
      "  output = np.array(output)\n"
     ]
    }
   ],
   "source": [
    "single_binary = InitialBinaryTable.InitialBinaries(m1=1, \n",
    "                                                   m2=1, \n",
    "                                                   porb=8, \n",
    "                                                   ecc=0.8, \n",
    "                                                   tphysf=10000.0, \n",
    "                                                   kstar1=1, \n",
    "                                                   kstar2=1, \n",
    "                                                   metallicity=0.02)\n",
    "#need to define steps for the bcm array\n",
    "bpp, bcm, initC, kick_info = Evolve.evolve(initialbinarytable=single_binary, BSEDict=BSEDict, dtp=100)"
   ]
  },
  {
   "cell_type": "code",
   "execution_count": 9,
   "id": "sunset-privacy",
   "metadata": {},
   "outputs": [
    {
     "data": {
      "text/html": [
       "<div>\n",
       "<style scoped>\n",
       "    .dataframe tbody tr th:only-of-type {\n",
       "        vertical-align: middle;\n",
       "    }\n",
       "\n",
       "    .dataframe tbody tr th {\n",
       "        vertical-align: top;\n",
       "    }\n",
       "\n",
       "    .dataframe thead th {\n",
       "        text-align: right;\n",
       "    }\n",
       "</style>\n",
       "<table border=\"1\" class=\"dataframe\">\n",
       "  <thead>\n",
       "    <tr style=\"text-align: right;\">\n",
       "      <th></th>\n",
       "      <th>tphys</th>\n",
       "      <th>mass_1</th>\n",
       "      <th>mass_2</th>\n",
       "      <th>kstar_1</th>\n",
       "      <th>kstar_2</th>\n",
       "      <th>sep</th>\n",
       "      <th>porb</th>\n",
       "      <th>ecc</th>\n",
       "      <th>RRLO_1</th>\n",
       "      <th>RRLO_2</th>\n",
       "      <th>...</th>\n",
       "      <th>B_2</th>\n",
       "      <th>bacc_1</th>\n",
       "      <th>bacc_2</th>\n",
       "      <th>tacc_1</th>\n",
       "      <th>tacc_2</th>\n",
       "      <th>epoch_1</th>\n",
       "      <th>epoch_2</th>\n",
       "      <th>bhspin_1</th>\n",
       "      <th>bhspin_2</th>\n",
       "      <th>bin_num</th>\n",
       "    </tr>\n",
       "  </thead>\n",
       "  <tbody>\n",
       "    <tr>\n",
       "      <th>0</th>\n",
       "      <td>0.0</td>\n",
       "      <td>1.0</td>\n",
       "      <td>1.0</td>\n",
       "      <td>1.0</td>\n",
       "      <td>1.0</td>\n",
       "      <td>21.200945</td>\n",
       "      <td>8.000000</td>\n",
       "      <td>0.8</td>\n",
       "      <td>0.549729</td>\n",
       "      <td>0.549729</td>\n",
       "      <td>...</td>\n",
       "      <td>0.0</td>\n",
       "      <td>0.0</td>\n",
       "      <td>0.0</td>\n",
       "      <td>0.0</td>\n",
       "      <td>0.0</td>\n",
       "      <td>0.0</td>\n",
       "      <td>0.0</td>\n",
       "      <td>0.0</td>\n",
       "      <td>0.0</td>\n",
       "      <td>0</td>\n",
       "    </tr>\n",
       "    <tr>\n",
       "      <th>0</th>\n",
       "      <td>10000.0</td>\n",
       "      <td>1.0</td>\n",
       "      <td>1.0</td>\n",
       "      <td>1.0</td>\n",
       "      <td>1.0</td>\n",
       "      <td>7.554619</td>\n",
       "      <td>1.701673</td>\n",
       "      <td>0.0</td>\n",
       "      <td>0.424076</td>\n",
       "      <td>0.424076</td>\n",
       "      <td>...</td>\n",
       "      <td>0.0</td>\n",
       "      <td>0.0</td>\n",
       "      <td>0.0</td>\n",
       "      <td>0.0</td>\n",
       "      <td>0.0</td>\n",
       "      <td>0.0</td>\n",
       "      <td>0.0</td>\n",
       "      <td>0.0</td>\n",
       "      <td>0.0</td>\n",
       "      <td>0</td>\n",
       "    </tr>\n",
       "  </tbody>\n",
       "</table>\n",
       "<p>2 rows × 44 columns</p>\n",
       "</div>"
      ],
      "text/plain": [
       "     tphys  mass_1  mass_2  kstar_1  kstar_2        sep      porb  ecc  \\\n",
       "0      0.0     1.0     1.0      1.0      1.0  21.200945  8.000000  0.8   \n",
       "0  10000.0     1.0     1.0      1.0      1.0   7.554619  1.701673  0.0   \n",
       "\n",
       "     RRLO_1    RRLO_2  ...  B_2  bacc_1  bacc_2  tacc_1  tacc_2  epoch_1  \\\n",
       "0  0.549729  0.549729  ...  0.0     0.0     0.0     0.0     0.0      0.0   \n",
       "0  0.424076  0.424076  ...  0.0     0.0     0.0     0.0     0.0      0.0   \n",
       "\n",
       "   epoch_2  bhspin_1  bhspin_2  bin_num  \n",
       "0      0.0       0.0       0.0        0  \n",
       "0      0.0       0.0       0.0        0  \n",
       "\n",
       "[2 rows x 44 columns]"
      ]
     },
     "execution_count": 9,
     "metadata": {},
     "output_type": "execute_result"
    }
   ],
   "source": [
    "bpp"
   ]
  },
  {
   "cell_type": "code",
   "execution_count": 10,
   "id": "blind-distinction",
   "metadata": {},
   "outputs": [
    {
     "data": {
      "text/plain": [
       "Index(['tphys', 'kstar_1', 'mass0_1', 'mass_1', 'lum_1', 'rad_1', 'teff_1',\n",
       "       'massc_1', 'radc_1', 'menv_1', 'renv_1', 'epoch_1', 'omega_spin_1',\n",
       "       'deltam_1', 'RRLO_1', 'kstar_2', 'mass0_2', 'mass_2', 'lum_2', 'rad_2',\n",
       "       'teff_2', 'massc_2', 'radc_2', 'menv_2', 'renv_2', 'epoch_2',\n",
       "       'omega_spin_2', 'deltam_2', 'RRLO_2', 'porb', 'sep', 'ecc', 'B_1',\n",
       "       'B_2', 'SN_1', 'SN_2', 'bin_state', 'merger_type', 'bin_num'],\n",
       "      dtype='object')"
      ]
     },
     "execution_count": 10,
     "metadata": {},
     "output_type": "execute_result"
    }
   ],
   "source": [
    "bcm.columns"
   ]
  },
  {
   "cell_type": "code",
   "execution_count": 11,
   "id": "ultimate-minister",
   "metadata": {},
   "outputs": [
    {
     "data": {
      "text/plain": [
       "(0.0, 3389.8979109545458)"
      ]
     },
     "execution_count": 11,
     "metadata": {},
     "output_type": "execute_result"
    },
    {
     "data": {
      "image/png": "[encoded data removed]",
      "text/plain": [
       "<Figure size 360x720 with 3 Axes>"
      ]
     },
     "metadata": {
      "needs_background": "light"
     },
     "output_type": "display_data"
    }
   ],
   "source": [
    "#comparing my calculations to COSMIC\n",
    "tc = bcm['tphys'].values\n",
    "ac = bcm['sep'].values\n",
    "ec = bcm['ecc'].values\n",
    "o1c = bcm['omega_spin_1'].values\n",
    "o2c = bcm['omega_spin_2'].values\n",
    "\n",
    "prop_cycle = plt.rcParams['axes.prop_cycle']\n",
    "colors = prop_cycle.by_key()['color']\n",
    "\n",
    "f, ax = plt.subplots(3,1, figsize=(5,10))\n",
    "\n",
    "ax[0].plot(tc*1e6,ec,linestyle='dashed')\n",
    "ax[0].plot(t, e,'.')\n",
    "ax[0].set_ylabel('eccentricity')\n",
    "ax[0].set_ylim(0,1.1*max(e))\n",
    "\n",
    "ax[1].plot(tc*1e6,ac,linestyle='dashed')\n",
    "ax[1].plot(t, a)\n",
    "ax[1].set_ylabel('semi-major axis (solRad)')\n",
    "ax[1].set_ylim(0,1.1*max(a))\n",
    "\n",
    "ax[2].plot(tc*1e6,o1c, linestyle='dashed', c=colors[0])\n",
    "ax[2].plot(tc*1e6,o2c, linestyle='dashed', c=colors[1])\n",
    "ax[2].plot(t,o1, c=colors[0])\n",
    "ax[2].plot(t,o2, c=colors[1])\n",
    "ax[2].set_ylabel('spin (rad/yr)')\n",
    "ax[2].set_xlabel('time(yr)')\n",
    "ax[2].set_ylim(0,1.01*max(o1c))"
   ]
  },
  {
   "cell_type": "code",
   "execution_count": 12,
   "id": "subject-white",
   "metadata": {},
   "outputs": [
    {
     "data": {
      "text/html": [
       "<div>\n",
       "<style scoped>\n",
       "    .dataframe tbody tr th:only-of-type {\n",
       "        vertical-align: middle;\n",
       "    }\n",
       "\n",
       "    .dataframe tbody tr th {\n",
       "        vertical-align: top;\n",
       "    }\n",
       "\n",
       "    .dataframe thead th {\n",
       "        text-align: right;\n",
       "    }\n",
       "</style>\n",
       "<table border=\"1\" class=\"dataframe\">\n",
       "  <thead>\n",
       "    <tr style=\"text-align: right;\">\n",
       "      <th></th>\n",
       "      <th>t</th>\n",
       "      <th>k1</th>\n",
       "      <th>k2</th>\n",
       "      <th>m1</th>\n",
       "      <th>m2</th>\n",
       "      <th>x1</th>\n",
       "      <th>x2</th>\n",
       "      <th>logL1</th>\n",
       "      <th>logL2</th>\n",
       "      <th>logR1</th>\n",
       "      <th>logR2</th>\n",
       "      <th>x3</th>\n",
       "      <th>x4</th>\n",
       "      <th>omega1</th>\n",
       "      <th>omega2</th>\n",
       "      <th>x5</th>\n",
       "      <th>x6</th>\n",
       "      <th>a</th>\n",
       "      <th>e</th>\n",
       "    </tr>\n",
       "  </thead>\n",
       "  <tbody>\n",
       "    <tr>\n",
       "      <th>0</th>\n",
       "      <td>0.0000</td>\n",
       "      <td>1</td>\n",
       "      <td>1</td>\n",
       "      <td>1.0000</td>\n",
       "      <td>1.0000</td>\n",
       "      <td>0.0000</td>\n",
       "      <td>0.0000</td>\n",
       "      <td>-0.0515</td>\n",
       "      <td>-0.0515</td>\n",
       "      <td>0.1106</td>\n",
       "      <td>0.1106</td>\n",
       "      <td>-0.1563</td>\n",
       "      <td>-0.1563</td>\n",
       "      <td>1053.0</td>\n",
       "      <td>1053.0</td>\n",
       "      <td>0.000000e+00</td>\n",
       "      <td>0.000000e+00</td>\n",
       "      <td>21.200</td>\n",
       "      <td>0.800</td>\n",
       "    </tr>\n",
       "    <tr>\n",
       "      <th>1</th>\n",
       "      <td>142.9622</td>\n",
       "      <td>1</td>\n",
       "      <td>1</td>\n",
       "      <td>1.0000</td>\n",
       "      <td>1.0000</td>\n",
       "      <td>0.0000</td>\n",
       "      <td>0.0000</td>\n",
       "      <td>-0.0503</td>\n",
       "      <td>-0.0503</td>\n",
       "      <td>0.1453</td>\n",
       "      <td>0.1453</td>\n",
       "      <td>-0.1532</td>\n",
       "      <td>-0.1532</td>\n",
       "      <td>3504.0</td>\n",
       "      <td>3504.0</td>\n",
       "      <td>0.000000e+00</td>\n",
       "      <td>0.000000e+00</td>\n",
       "      <td>16.180</td>\n",
       "      <td>0.733</td>\n",
       "    </tr>\n",
       "    <tr>\n",
       "      <th>2</th>\n",
       "      <td>155.7779</td>\n",
       "      <td>1</td>\n",
       "      <td>1</td>\n",
       "      <td>1.0000</td>\n",
       "      <td>1.0000</td>\n",
       "      <td>0.0000</td>\n",
       "      <td>0.0000</td>\n",
       "      <td>-0.0502</td>\n",
       "      <td>-0.0502</td>\n",
       "      <td>0.1454</td>\n",
       "      <td>0.1454</td>\n",
       "      <td>-0.1529</td>\n",
       "      <td>-0.1529</td>\n",
       "      <td>3396.0</td>\n",
       "      <td>3396.0</td>\n",
       "      <td>0.000000e+00</td>\n",
       "      <td>0.000000e+00</td>\n",
       "      <td>16.170</td>\n",
       "      <td>0.732</td>\n",
       "    </tr>\n",
       "    <tr>\n",
       "      <th>3</th>\n",
       "      <td>169.4077</td>\n",
       "      <td>1</td>\n",
       "      <td>1</td>\n",
       "      <td>1.0000</td>\n",
       "      <td>1.0000</td>\n",
       "      <td>0.0000</td>\n",
       "      <td>0.0000</td>\n",
       "      <td>-0.0501</td>\n",
       "      <td>-0.0501</td>\n",
       "      <td>0.1455</td>\n",
       "      <td>0.1455</td>\n",
       "      <td>-0.1526</td>\n",
       "      <td>-0.1526</td>\n",
       "      <td>3294.0</td>\n",
       "      <td>3294.0</td>\n",
       "      <td>0.000000e+00</td>\n",
       "      <td>0.000000e+00</td>\n",
       "      <td>16.160</td>\n",
       "      <td>0.732</td>\n",
       "    </tr>\n",
       "    <tr>\n",
       "      <th>4</th>\n",
       "      <td>183.8898</td>\n",
       "      <td>1</td>\n",
       "      <td>1</td>\n",
       "      <td>1.0000</td>\n",
       "      <td>1.0000</td>\n",
       "      <td>0.0000</td>\n",
       "      <td>0.0000</td>\n",
       "      <td>-0.0500</td>\n",
       "      <td>-0.0500</td>\n",
       "      <td>0.1456</td>\n",
       "      <td>0.1456</td>\n",
       "      <td>-0.1522</td>\n",
       "      <td>-0.1522</td>\n",
       "      <td>3196.0</td>\n",
       "      <td>3196.0</td>\n",
       "      <td>0.000000e+00</td>\n",
       "      <td>0.000000e+00</td>\n",
       "      <td>16.150</td>\n",
       "      <td>0.732</td>\n",
       "    </tr>\n",
       "    <tr>\n",
       "      <th>...</th>\n",
       "      <td>...</td>\n",
       "      <td>...</td>\n",
       "      <td>...</td>\n",
       "      <td>...</td>\n",
       "      <td>...</td>\n",
       "      <td>...</td>\n",
       "      <td>...</td>\n",
       "      <td>...</td>\n",
       "      <td>...</td>\n",
       "      <td>...</td>\n",
       "      <td>...</td>\n",
       "      <td>...</td>\n",
       "      <td>...</td>\n",
       "      <td>...</td>\n",
       "      <td>...</td>\n",
       "      <td>...</td>\n",
       "      <td>...</td>\n",
       "      <td>...</td>\n",
       "      <td>...</td>\n",
       "    </tr>\n",
       "    <tr>\n",
       "      <th>4770</th>\n",
       "      <td>11200.8135</td>\n",
       "      <td>2</td>\n",
       "      <td>2</td>\n",
       "      <td>0.9999</td>\n",
       "      <td>0.9999</td>\n",
       "      <td>0.1239</td>\n",
       "      <td>0.1239</td>\n",
       "      <td>0.2556</td>\n",
       "      <td>0.2556</td>\n",
       "      <td>0.9998</td>\n",
       "      <td>0.9998</td>\n",
       "      <td>0.3515</td>\n",
       "      <td>0.3515</td>\n",
       "      <td>2698.0</td>\n",
       "      <td>2698.0</td>\n",
       "      <td>-6.372000e-13</td>\n",
       "      <td>-6.372000e-13</td>\n",
       "      <td>4.755</td>\n",
       "      <td>0.000</td>\n",
       "    </tr>\n",
       "    <tr>\n",
       "      <th>4771</th>\n",
       "      <td>11200.8604</td>\n",
       "      <td>2</td>\n",
       "      <td>2</td>\n",
       "      <td>0.9999</td>\n",
       "      <td>0.9999</td>\n",
       "      <td>0.1239</td>\n",
       "      <td>0.1239</td>\n",
       "      <td>0.2556</td>\n",
       "      <td>0.2556</td>\n",
       "      <td>0.9999</td>\n",
       "      <td>0.9999</td>\n",
       "      <td>0.3515</td>\n",
       "      <td>0.3515</td>\n",
       "      <td>2699.0</td>\n",
       "      <td>2699.0</td>\n",
       "      <td>-6.372000e-13</td>\n",
       "      <td>-6.372000e-13</td>\n",
       "      <td>4.755</td>\n",
       "      <td>0.000</td>\n",
       "    </tr>\n",
       "    <tr>\n",
       "      <th>4772</th>\n",
       "      <td>11200.9082</td>\n",
       "      <td>2</td>\n",
       "      <td>2</td>\n",
       "      <td>0.9999</td>\n",
       "      <td>0.9999</td>\n",
       "      <td>0.1239</td>\n",
       "      <td>0.1239</td>\n",
       "      <td>0.2556</td>\n",
       "      <td>0.2556</td>\n",
       "      <td>1.0000</td>\n",
       "      <td>1.0000</td>\n",
       "      <td>0.3515</td>\n",
       "      <td>0.3515</td>\n",
       "      <td>2699.0</td>\n",
       "      <td>2699.0</td>\n",
       "      <td>0.000000e+00</td>\n",
       "      <td>0.000000e+00</td>\n",
       "      <td>4.754</td>\n",
       "      <td>0.000</td>\n",
       "    </tr>\n",
       "    <tr>\n",
       "      <th>4773</th>\n",
       "      <td>11200.9082</td>\n",
       "      <td>2</td>\n",
       "      <td>2</td>\n",
       "      <td>0.9999</td>\n",
       "      <td>0.9999</td>\n",
       "      <td>0.1239</td>\n",
       "      <td>0.1239</td>\n",
       "      <td>0.2556</td>\n",
       "      <td>0.2556</td>\n",
       "      <td>1.0001</td>\n",
       "      <td>1.0001</td>\n",
       "      <td>0.3515</td>\n",
       "      <td>0.3515</td>\n",
       "      <td>2701.0</td>\n",
       "      <td>2701.0</td>\n",
       "      <td>-6.372000e-13</td>\n",
       "      <td>-6.372000e-13</td>\n",
       "      <td>4.754</td>\n",
       "      <td>0.000</td>\n",
       "    </tr>\n",
       "    <tr>\n",
       "      <th>4774</th>\n",
       "      <td>11200.9082</td>\n",
       "      <td>15</td>\n",
       "      <td>15</td>\n",
       "      <td>0.0000</td>\n",
       "      <td>0.0000</td>\n",
       "      <td>0.0000</td>\n",
       "      <td>0.0000</td>\n",
       "      <td>0.2556</td>\n",
       "      <td>0.2556</td>\n",
       "      <td>1.0001</td>\n",
       "      <td>1.0001</td>\n",
       "      <td>0.3515</td>\n",
       "      <td>0.3515</td>\n",
       "      <td>2701.0</td>\n",
       "      <td>2701.0</td>\n",
       "      <td>-6.372000e-13</td>\n",
       "      <td>-6.372000e-13</td>\n",
       "      <td>0.000</td>\n",
       "      <td>0.000</td>\n",
       "    </tr>\n",
       "  </tbody>\n",
       "</table>\n",
       "<p>4775 rows × 19 columns</p>\n",
       "</div>"
      ],
      "text/plain": [
       "               t  k1  k2      m1      m2      x1      x2   logL1   logL2  \\\n",
       "0         0.0000   1   1  1.0000  1.0000  0.0000  0.0000 -0.0515 -0.0515   \n",
       "1       142.9622   1   1  1.0000  1.0000  0.0000  0.0000 -0.0503 -0.0503   \n",
       "2       155.7779   1   1  1.0000  1.0000  0.0000  0.0000 -0.0502 -0.0502   \n",
       "3       169.4077   1   1  1.0000  1.0000  0.0000  0.0000 -0.0501 -0.0501   \n",
       "4       183.8898   1   1  1.0000  1.0000  0.0000  0.0000 -0.0500 -0.0500   \n",
       "...          ...  ..  ..     ...     ...     ...     ...     ...     ...   \n",
       "4770  11200.8135   2   2  0.9999  0.9999  0.1239  0.1239  0.2556  0.2556   \n",
       "4771  11200.8604   2   2  0.9999  0.9999  0.1239  0.1239  0.2556  0.2556   \n",
       "4772  11200.9082   2   2  0.9999  0.9999  0.1239  0.1239  0.2556  0.2556   \n",
       "4773  11200.9082   2   2  0.9999  0.9999  0.1239  0.1239  0.2556  0.2556   \n",
       "4774  11200.9082  15  15  0.0000  0.0000  0.0000  0.0000  0.2556  0.2556   \n",
       "\n",
       "       logR1   logR2      x3      x4  omega1  omega2            x5  \\\n",
       "0     0.1106  0.1106 -0.1563 -0.1563  1053.0  1053.0  0.000000e+00   \n",
       "1     0.1453  0.1453 -0.1532 -0.1532  3504.0  3504.0  0.000000e+00   \n",
       "2     0.1454  0.1454 -0.1529 -0.1529  3396.0  3396.0  0.000000e+00   \n",
       "3     0.1455  0.1455 -0.1526 -0.1526  3294.0  3294.0  0.000000e+00   \n",
       "4     0.1456  0.1456 -0.1522 -0.1522  3196.0  3196.0  0.000000e+00   \n",
       "...      ...     ...     ...     ...     ...     ...           ...   \n",
       "4770  0.9998  0.9998  0.3515  0.3515  2698.0  2698.0 -6.372000e-13   \n",
       "4771  0.9999  0.9999  0.3515  0.3515  2699.0  2699.0 -6.372000e-13   \n",
       "4772  1.0000  1.0000  0.3515  0.3515  2699.0  2699.0  0.000000e+00   \n",
       "4773  1.0001  1.0001  0.3515  0.3515  2701.0  2701.0 -6.372000e-13   \n",
       "4774  1.0001  1.0001  0.3515  0.3515  2701.0  2701.0 -6.372000e-13   \n",
       "\n",
       "                x6       a      e  \n",
       "0     0.000000e+00  21.200  0.800  \n",
       "1     0.000000e+00  16.180  0.733  \n",
       "2     0.000000e+00  16.170  0.732  \n",
       "3     0.000000e+00  16.160  0.732  \n",
       "4     0.000000e+00  16.150  0.732  \n",
       "...            ...     ...    ...  \n",
       "4770 -6.372000e-13   4.755  0.000  \n",
       "4771 -6.372000e-13   4.755  0.000  \n",
       "4772  0.000000e+00   4.754  0.000  \n",
       "4773 -6.372000e-13   4.754  0.000  \n",
       "4774 -6.372000e-13   0.000  0.000  \n",
       "\n",
       "[4775 rows x 19 columns]"
      ]
     },
     "execution_count": 12,
     "metadata": {},
     "output_type": "execute_result"
    }
   ],
   "source": [
    "#from BSE directly\n",
    "df = pd.read_csv('binary.dat', header=None, sep='\\s+', \n",
    "                 names=['t','k1','k2','m1','m2','x1','x2','logL1','logL2','logR1','logR2','x3','x4','omega1','omega2',\n",
    "                        'x5','x6','a','e'])\n",
    "df"
   ]
  },
  {
   "cell_type": "code",
   "execution_count": 13,
   "id": "polyphonic-charger",
   "metadata": {},
   "outputs": [
    {
     "data": {
      "text/plain": [
       "(0.0, 3389.8979109545458)"
      ]
     },
     "execution_count": 13,
     "metadata": {},
     "output_type": "execute_result"
    },
    {
     "data": {
      "image/png": "[encoded data removed]",
      "text/plain": [
       "<Figure size 360x720 with 3 Axes>"
      ]
     },
     "metadata": {
      "needs_background": "light"
     },
     "output_type": "display_data"
    }
   ],
   "source": [
    "#comparing my calculations to \"raw\" BSE\n",
    "tb = df['t'].values\n",
    "ab = df['a'].values\n",
    "eb = df['e'].values\n",
    "o1b = df['omega1'].values\n",
    "o2b = df['omega2'].values\n",
    "\n",
    "prop_cycle = plt.rcParams['axes.prop_cycle']\n",
    "colors = prop_cycle.by_key()['color']\n",
    "\n",
    "f, ax = plt.subplots(3,1, figsize=(5,10))\n",
    "\n",
    "ax[0].plot(tb*1e6,eb,linestyle='dashed')\n",
    "ax[0].plot(t, e,'.')\n",
    "ax[0].set_ylabel('eccentricity')\n",
    "ax[0].set_ylim(0,1.1*max(e))\n",
    "\n",
    "ax[1].plot(tb*1e6,ab,linestyle='dashed')\n",
    "ax[1].plot(t, a)\n",
    "ax[1].set_ylabel('semi-major axis (solRad)')\n",
    "ax[1].set_ylim(0,1.1*max(a))\n",
    "\n",
    "ax[2].plot(tb*1e6,o1b, linestyle='dashed')#, c=colors[0])\n",
    "#ax[2].plot(tb*1e6,s2b, linestyle='dashed', c=colors[1])\n",
    "ax[2].plot(t,o1)#, c=colors[0])\n",
    "#ax[2].plot(t,s2, c=colors[1])\n",
    "ax[2].set_ylabel('spin (rad/yr)')\n",
    "ax[2].set_xlabel('time(yr)')\n",
    "ax[2].set_ylim(0,1.01*max(o1c))"
   ]
  },
  {
   "cell_type": "code",
   "execution_count": 14,
   "id": "homeless-virtue",
   "metadata": {},
   "outputs": [
    {
     "data": {
      "text/plain": [
       "(0.0, 3389.8979109545458)"
      ]
     },
     "execution_count": 14,
     "metadata": {},
     "output_type": "execute_result"
    },
    {
     "data": {
      "image/png": "[encoded data removed]",
      "text/plain": [
       "<Figure size 360x720 with 3 Axes>"
      ]
     },
     "metadata": {
      "needs_background": "light"
     },
     "output_type": "display_data"
    }
   ],
   "source": [
    "#comparing COSMIC to BSE\n",
    "f, ax = plt.subplots(3,1, figsize=(5,10))\n",
    "\n",
    "ax[0].plot(tb,eb,linestyle='dashed')\n",
    "ax[0].plot(tc,ec)\n",
    "ax[0].set_ylabel('eccentricity')\n",
    "ax[0].set_ylim(0,1.1*max(e))\n",
    "\n",
    "ax[1].plot(tb,ab,linestyle='dashed')\n",
    "ax[1].plot(tc,ac)\n",
    "ax[1].set_ylabel('semi-major axis (solRad)')\n",
    "ax[1].set_ylim(0,1.1*max(a))\n",
    "\n",
    "ax[2].plot(tb,o1b, linestyle='dashed')\n",
    "ax[2].plot(tc,o1c)\n",
    "ax[2].set_ylabel('spin (1/yr)')\n",
    "ax[2].set_xlabel('time(Myr)')\n",
    "ax[2].set_ylim(0,1.01*max(o1c))"
   ]
  },
  {
   "cell_type": "code",
   "execution_count": null,
   "id": "electronic-avenue",
   "metadata": {},
   "outputs": [],
   "source": []
  },
  {
   "cell_type": "code",
   "execution_count": null,
   "id": "banner-jason",
   "metadata": {},
   "outputs": [],
   "source": []
  }
 ],
 "metadata": {
  "kernelspec": {
   "display_name": "Python 3",
   "language": "python",
   "name": "python3"
  },
  "language_info": {
   "codemirror_mode": {
    "name": "ipython",
    "version": 3
   },
   "file_extension": ".py",
   "mimetype": "text/x-python",
   "name": "python",
   "nbconvert_exporter": "python",
   "pygments_lexer": "ipython3",
   "version": "3.7.9"
  }
 },
 "nbformat": 4,
 "nbformat_minor": 5
}
