{
 "cells": [
  {
   "cell_type": "markdown",
   "metadata": {},
   "source": [
    "### Import the codes"
   ]
  },
  {
   "cell_type": "code",
   "execution_count": 1,
   "metadata": {},
   "outputs": [
    {
     "name": "stderr",
     "output_type": "stream",
     "text": [
      "/Users/ageller/anaconda/envs/py36/lib/python3.6/site-packages/pysynphot/refs.py:118: UserWarning: No graph or component tables found; functionality will be SEVERELY crippled. No files found for /Users/ageller/python_scripts/PySynphotData/mtab/*_tmg.fits\n",
      "  'functionality will be SEVERELY crippled. ' + str(e))\n",
      "/Users/ageller/anaconda/envs/py36/lib/python3.6/site-packages/pysynphot/refs.py:125: UserWarning: No thermal tables found, no thermal calculations can be performed. No files found for /Users/ageller/python_scripts/PySynphotData/mtab/*_tmt.fits\n",
      "  'no thermal calculations can be performed. ' + str(e))\n",
      "WARNING:root:PyMultiNest not imported.  MultiNest fits will not work.\n",
      "/Users/ageller/anaconda/envs/py36/lib/python3.6/site-packages/numpy/lib/npyio.py:2222: VisibleDeprecationWarning: Reading unicode strings without specifying the encoding argument is deprecated. Set the encoding, use None for the system default.\n",
      "  output = genfromtxt(fname, **kwargs)\n",
      "/Users/ageller/anaconda/envs/py36/lib/python3.6/site-packages/sklearn/cross_validation.py:41: DeprecationWarning: This module was deprecated in version 0.18 in favor of the model_selection module into which all the refactored classes and functions are moved. Also note that the interface of the new CV iterators are different from that of this module. This module will be removed in 0.20.\n",
      "  \"This module will be removed in 0.20.\", DeprecationWarning)\n",
      "/Users/ageller/anaconda/envs/py36/lib/python3.6/site-packages/sklearn/grid_search.py:42: DeprecationWarning: This module was deprecated in version 0.18 in favor of the model_selection module into which all the refactored classes and functions are moved. This module will be removed in 0.20.\n",
      "  DeprecationWarning)\n",
      "WARNING:root:progressbar not imported\n"
     ]
    }
   ],
   "source": [
    "import sys\n",
    "sys.path.insert(0, '/Users/ageller/WORK/LSST/onGitHub/EBLSST/code')\n",
    "from EBLSST import BreivikGalaxy, EclipsingBinary"
   ]
  },
  {
   "cell_type": "markdown",
   "metadata": {},
   "source": [
    "### Set up Katie's model"
   ]
  },
  {
   "cell_type": "code",
   "execution_count": 3,
   "metadata": {},
   "outputs": [
    {
     "name": "stdout",
     "output_type": "stream",
     "text": [
      "getting Breivik kernel\n",
      "The number of binaries in the Gx for: 0012 is: 22919080853\n",
      "both bright stars and eccentric\n"
     ]
    }
   ],
   "source": [
    "g = BreivikGalaxy()\n",
    "\n",
    "#define the correct paths to the input files and db\n",
    "g.GalaxyFile ='/Users/ageller/WORK/LSST/onGitHub/EBLSST/input/Breivik/dat_ThinDisk_12_0_12_0.h5' #for Katie's model\n",
    "g.GalaxyFileLogPrefix ='/Users/ageller/WORK/LSST/onGitHub/EBLSST/input/Breivik/fixedPopLogCm_'\n",
    "\n",
    "g.setKernel()"
   ]
  },
  {
   "cell_type": "markdown",
   "metadata": {},
   "source": [
    "### Draw binaries from the model\\\n",
    "\n",
    "*And add on the Teff values*"
   ]
  },
  {
   "cell_type": "code",
   "execution_count": 4,
   "metadata": {},
   "outputs": [
    {
     "name": "stdout",
     "output_type": "stream",
     "text": [
      "         m1        m2      logp       ecc        r1        r2        L1  \\\n",
      "0  0.462078  0.280902  2.304486  0.769756  0.296207  0.133254  0.005361   \n",
      "\n",
      "         L2         xGX         yGX         zGX  dist_kpc      inc     OMEGA  \\\n",
      "0  0.002352 -729.728517  1721.31426 -109.303763  8.898827  0.96776  6.225996   \n",
      "\n",
      "     omega        Teff1        Teff2  \n",
      "0  3.62739  2874.216986  3487.550597  \n"
     ]
    }
   ],
   "source": [
    "nSample = 1 #number of binaries to draw\n",
    "BreivikBin = g.GxSample(nSample)\n",
    "\n",
    "EB = EclipsingBinary()\n",
    "BreivikBin['Teff1'] = EB.getTeff(BreivikBin['L1'].values[0], BreivikBin['r1'].values[0])\n",
    "BreivikBin['Teff2'] = EB.getTeff(BreivikBin['L2'].values[0], BreivikBin['r2'].values[0])\n",
    "\n",
    "print(BreivikBin)\n",
    "\n"
   ]
  },
  {
   "cell_type": "markdown",
   "metadata": {},
   "source": [
    "*Below you can use this to define the binaries for the light curves*\n",
    "\n",
    "For the light curve:\n",
    "* r_1 = the stellar radius_1 / semi-major axis (careful about units)\n",
    "* surface brightness is proportional to luminosity / radius$^2$\n",
    "* the mass ratio, q = m2/m1"
   ]
  },
  {
   "cell_type": "code",
   "execution_count": null,
   "metadata": {},
   "outputs": [],
   "source": []
  }
 ],
 "metadata": {
  "kernelspec": {
   "display_name": "Python 3",
   "language": "python",
   "name": "python3"
  },
  "language_info": {
   "codemirror_mode": {
    "name": "ipython",
    "version": 3
   },
   "file_extension": ".py",
   "mimetype": "text/x-python",
   "name": "python",
   "nbconvert_exporter": "python",
   "pygments_lexer": "ipython3",
   "version": "3.6.4"
  }
 },
 "nbformat": 4,
 "nbformat_minor": 2
}
