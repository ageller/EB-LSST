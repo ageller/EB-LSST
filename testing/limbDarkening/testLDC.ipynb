{
 "cells": [
  {
   "cell_type": "markdown",
   "metadata": {},
   "source": [
    "### Import the codes"
   ]
  },
  {
   "cell_type": "code",
   "execution_count": 7,
   "metadata": {},
   "outputs": [],
   "source": [
    "import sys\n",
    "sys.path.insert(0, '/Users/ageller/WORK/LSST/onGitHub/EBLSST/code')\n",
    "from EBLSST import BreivikGalaxy, EclipsingBinary"
   ]
  },
  {
   "cell_type": "markdown",
   "metadata": {},
   "source": [
    "### Set up Katie's model"
   ]
  },
  {
   "cell_type": "code",
   "execution_count": 8,
   "metadata": {},
   "outputs": [
    {
     "name": "stdout",
     "output_type": "stream",
     "text": [
      "The number of binaries in the Gx for: 0012 is: 22919080853\n",
      "both bright stars and eccentric\n"
     ]
    }
   ],
   "source": [
    "g = BreivikGalaxy()\n",
    "\n",
    "#define the correct paths to the input files and db\n",
    "g.GalaxyFile ='/Users/ageller/WORK/LSST/onGitHub/EBLSST/input/Breivik/dat_ThinDisk_12_0_12_0.h5' #for Katie's model\n",
    "g.GalaxyFileLogPrefix ='/Users/ageller/WORK/LSST/onGitHub/EBLSST/input/Breivik/fixedPopLogCm_'\n",
    "\n",
    "g.getKernel()"
   ]
  },
  {
   "cell_type": "markdown",
   "metadata": {},
   "source": [
    "### Draw binaries from the model\\\n",
    "\n",
    "*And add on the Teff values*"
   ]
  },
  {
   "cell_type": "code",
   "execution_count": 10,
   "metadata": {},
   "outputs": [
    {
     "name": "stdout",
     "output_type": "stream",
     "text": [
      "         m1        m2      logp       ecc     logr1     logr2     logL1  \\\n",
      "0  0.247588  0.210029  2.477573  0.623445  0.851071  0.107246  0.054846   \n",
      "\n",
      "      logL2          xGX          yGX         zGX  dist_kpc       inc  \\\n",
      "0  0.001171  2005.826589  1024.864471 -349.838157  6.092698  2.567154   \n",
      "\n",
      "      OMEGA    omega        Teff1        Teff2  \n",
      "0  1.345101  1.32127  2239.627455  5273.376068  \n"
     ]
    }
   ],
   "source": [
    "nSample = 1 #number of binaries to draw\n",
    "BreivikBin = g.GxSample(nSample)\n",
    "\n",
    "EB = EclipsingBinary()\n",
    "BreivikBin['Teff1'] = EB.getTeff(10.**BreivikBin['logL1'].values[0], 10.**BreivikBin['logr1'].values[0])\n",
    "BreivikBin['Teff2'] = EB.getTeff(10.**BreivikBin['logL1'].values[0], 10.**BreivikBin['logr2'].values[0])\n",
    "\n",
    "print(BreivikBin)\n",
    "\n"
   ]
  },
  {
   "cell_type": "markdown",
   "metadata": {},
   "source": [
    "*Below you can use this to define the binaries for the light curves*\n",
    "\n",
    "For the light curve:\n",
    "* r_1 = the stellar radius_1 / semi-major axis (careful about units)\n",
    "* surface brightness is proportional to luminosity / radius$^2$\n",
    "* the mass ratio, q = m2/m1"
   ]
  },
  {
   "cell_type": "code",
   "execution_count": null,
   "metadata": {},
   "outputs": [],
   "source": []
  }
 ],
 "metadata": {
  "kernelspec": {
   "display_name": "Python 3",
   "language": "python",
   "name": "python3"
  },
  "language_info": {
   "codemirror_mode": {
    "name": "ipython",
    "version": 3
   },
   "file_extension": ".py",
   "mimetype": "text/x-python",
   "name": "python",
   "nbconvert_exporter": "python",
   "pygments_lexer": "ipython3",
   "version": "3.6.4"
  }
 },
 "nbformat": 4,
 "nbformat_minor": 2
}
