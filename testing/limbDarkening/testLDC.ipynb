{
 "cells": [
  {
   "cell_type": "markdown",
   "metadata": {},
   "source": [
    "### Import the codes"
   ]
  },
  {
   "cell_type": "code",
   "execution_count": 2,
   "metadata": {},
   "outputs": [],
   "source": [
    "import sys\n",
    "sys.path.insert(0, '/Users/ageller/WORK/LSST/onGitHub/EBLSST/code')\n",
    "from EBLSST import BreivikGalaxy, EclipsingBinary"
   ]
  },
  {
   "cell_type": "markdown",
   "metadata": {},
   "source": [
    "### Set up Katie's model"
   ]
  },
  {
   "cell_type": "code",
   "execution_count": 3,
   "metadata": {},
   "outputs": [
    {
     "name": "stdout",
     "output_type": "stream",
     "text": [
      "The number of binaries in the Gx for: 0012 is: 22919080853\n",
      "both bright stars and eccentric\n"
     ]
    }
   ],
   "source": [
    "g = BreivikGalaxy()\n",
    "\n",
    "#define the correct paths to the input files and db\n",
    "g.GalaxyFile ='/Users/ageller/WORK/LSST/onGitHub/EBLSST/input/Breivik/dat_ThinDisk_12_0_12_0.h5' #for Katie's model\n",
    "g.GalaxyFileLogPrefix ='/Users/ageller/WORK/LSST/onGitHub/EBLSST/input/Breivik/fixedPopLogCm_'\n",
    "\n",
    "g.getKernel()"
   ]
  },
  {
   "cell_type": "markdown",
   "metadata": {},
   "source": [
    "### Draw binaries from the model\\\n",
    "\n",
    "*And add on the Teff values*"
   ]
  },
  {
   "cell_type": "code",
   "execution_count": 4,
   "metadata": {},
   "outputs": [
    {
     "name": "stdout",
     "output_type": "stream",
     "text": [
      "         m1        m2     logp       ecc        r1        r2        L1  \\\n",
      "0  0.662876  0.091346  2.00529  0.052827  0.264021  0.213082  0.009992   \n",
      "\n",
      "         L2          xGX          yGX         zGX  dist_kpc       inc  \\\n",
      "0  0.000711  1035.826876  2148.109764 -519.393422  7.308245  2.726665   \n",
      "\n",
      "      OMEGA     omega        Teff1        Teff2  \n",
      "0  3.190789  0.975535  3557.115725  3959.530463  \n"
     ]
    }
   ],
   "source": [
    "nSample = 1 #number of binaries to draw\n",
    "BreivikBin = g.GxSample(nSample)\n",
    "\n",
    "EB = EclipsingBinary()\n",
    "BreivikBin['Teff1'] = EB.getTeff(BreivikBin['L1'].values[0], BreivikBin['r1'].values[0])\n",
    "BreivikBin['Teff2'] = EB.getTeff(BreivikBin['L1'].values[0], BreivikBin['r2'].values[0])\n",
    "\n",
    "print(BreivikBin)\n",
    "\n"
   ]
  },
  {
   "cell_type": "markdown",
   "metadata": {},
   "source": [
    "*Below you can use this to define the binaries for the light curves*\n",
    "\n",
    "For the light curve:\n",
    "* r_1 = the stellar radius_1 / semi-major axis (careful about units)\n",
    "* surface brightness is proportional to luminosity / radius$^2$\n",
    "* the mass ratio, q = m2/m1"
   ]
  },
  {
   "cell_type": "code",
   "execution_count": null,
   "metadata": {},
   "outputs": [],
   "source": []
  }
 ],
 "metadata": {
  "kernelspec": {
   "display_name": "Python 3",
   "language": "python",
   "name": "python3"
  },
  "language_info": {
   "codemirror_mode": {
    "name": "ipython",
    "version": 3
   },
   "file_extension": ".py",
   "mimetype": "text/x-python",
   "name": "python",
   "nbconvert_exporter": "python",
   "pygments_lexer": "ipython3",
   "version": "3.6.4"
  }
 },
 "nbformat": 4,
 "nbformat_minor": 2
}
