{
 "cells": [
  {
   "cell_type": "markdown",
   "metadata": {},
   "source": [
    "# Testing N vs. area in TRILEGAL"
   ]
  },
  {
   "cell_type": "code",
   "execution_count": 1,
   "metadata": {},
   "outputs": [
    {
     "name": "stderr",
     "output_type": "stream",
     "text": [
      "WARNING:root:Holoviews not imported. Some visualizations will not be available.\n",
      "WARNING:root:PyMultiNest not imported.  MultiNest fits will not work.\n",
      "WARNING:root:Emcee3 not imported; be advised.\n",
      "/Users/ageller/anaconda3/lib/python3.7/site-packages/numpy/lib/npyio.py:2336: VisibleDeprecationWarning: Reading unicode strings without specifying the encoding argument is deprecated. Set the encoding, use None for the system default.\n",
      "  output = genfromtxt(fname, **kwargs)\n",
      "WARNING:root:sklearn not available\n",
      "WARNING:root:progressbar not imported\n"
     ]
    },
    {
     "name": "stdout",
     "output_type": "stream",
     "text": [
      "/Volumes/highnoon2go/highnoon/WORK/LSST/onGitHub/EBLSST/testing/TRILEGAL/vespa_update:/Users/ageller/anaconda3/bin:/Users/ageller/anaconda3/condabin:/Users/ageller/bin:/usr/local/bin:/usr/bin:/bin:/usr/sbin:/sbin:/Library/TeX/texbin:/usr/local/share/dotnet:/opt/X11/bin:~/.dotnet/tools:/Library/Frameworks/Mono.framework/Versions/Current/Commands\n"
     ]
    }
   ],
   "source": [
    "import pandas as pd\n",
    "import numpy as np\n",
    "\n",
    "import sys\n",
    "import os\n",
    "sys.path.insert(0, '/Users/ageller/WORK/LSST/onGitHub/EBLSST/code')\n",
    "sys.path.insert(0, '/Users/ageller/WORK/LSST/onGitHub/EBLSST/code/vespa_update')\n",
    "from vespa_update import trilegal as trilegal_update\n",
    "from TRILEGAL import TRILEGAL\n",
    "from OpSim import OpSim\n",
    "\n",
    "print(os.environ['PATH'])"
   ]
  },
  {
   "cell_type": "code",
   "execution_count": 2,
   "metadata": {},
   "outputs": [
    {
     "name": "stdout",
     "output_type": "stream",
     "text": [
      "getting OpSim fields...\n",
      "have summary cursor.\n",
      "have field cursor.\n",
      "returned 5292 fields\n"
     ]
    }
   ],
   "source": [
    "OpS = OpSim()\n",
    "OpS.dbFile = '/Users/ageller/WORK/LSST/onGitHub/EBLSST/input/db/baseline2018a.db'\n",
    "OpS.getAllOpSimFields()"
   ]
  },
  {
   "cell_type": "code",
   "execution_count": 3,
   "metadata": {},
   "outputs": [
    {
     "name": "stdout",
     "output_type": "stream",
     "text": [
      "area =  1\n",
      "downloading model TRILEGAL_model_fID_1_area1.h5 1.0\n"
     ]
    },
    {
     "name": "stderr",
     "output_type": "stream",
     "text": [
      "/Users/ageller/WORK/LSST/onGitHub/EBLSST/code/vespa_update/trilegal.py:101: FutureWarning: read_table is deprecated, use read_csv instead.\n",
      "  df = pd.read_table(outfile, sep='\\s+', skipfooter=1, engine='python')\n"
     ]
    },
    {
     "name": "stdout",
     "output_type": "stream",
     "text": [
      "area =  2\n",
      "downloading model TRILEGAL_model_fID_1_area2.h5 2.0\n",
      "area =  3\n",
      "downloading model TRILEGAL_model_fID_1_area3.h5 3.0\n",
      "area =  4\n",
      "downloading model TRILEGAL_model_fID_1_area4.h5 4.0\n",
      "area =  5\n",
      "downloading model TRILEGAL_model_fID_1_area5.h5 5.0\n",
      "area =  6\n",
      "downloading model TRILEGAL_model_fID_1_area6.h5 6.0\n",
      "area =  7\n",
      "downloading model TRILEGAL_model_fID_1_area7.h5 7.0\n",
      "area =  8\n",
      "downloading model TRILEGAL_model_fID_1_area8.h5 8.0\n",
      "area =  9\n",
      "downloading model TRILEGAL_model_fID_1_area9.h5 9.0\n",
      "area =  10\n",
      "downloading model TRILEGAL_model_fID_1_area10.h5 10.0\n"
     ]
    }
   ],
   "source": [
    "i = 0\n",
    "galaxy = TRILEGAL()\n",
    "galaxy.RA = OpS.RA[i]\n",
    "galaxy.Dec = OpS.Dec[i]\n",
    "galaxy.fieldID = OpS.fieldID[i]\n",
    "galaxy.tmpdir = '/Users/ageller/WORK/LSST/onGitHub/EBLSST/testing/TRILEGAL/grid/'\n",
    "\n",
    "for a in range(11):\n",
    "    if (a > 0):\n",
    "        galaxy.tmpfname = 'TRILEGAL_model_fID_'+str(int(OpS.fieldID[i]))+'_area'+str(int(a))+'.h5'\n",
    "        galaxy.area = a\n",
    "        print('area = ', a)\n",
    "        galaxy.downloadModel()"
   ]
  },
  {
   "cell_type": "code",
   "execution_count": 6,
   "metadata": {},
   "outputs": [],
   "source": [
    "froot = '/Users/ageller/WORK/LSST/onGitHub/EBLSST/testing/TRILEGAL/grid/'\n",
    "area = []\n",
    "N = []\n",
    "for a in range(11):\n",
    "    if (a > 0):\n",
    "        f = froot+'TRILEGAL_model_fID_1_area'+str(int(a))+'.h5'\n",
    "        df = pd.read_hdf(f)\n",
    "        N.append(float(len(df.index)))\n",
    "        with pd.HDFStore(f) as store:\n",
    "            attrs = store.get_storer('df').attrs\n",
    "            area.append(float(attrs.trilegal_args['area']))\n",
    "N = np.array(N)\n",
    "area = np.array(area)"
   ]
  },
  {
   "cell_type": "code",
   "execution_count": 7,
   "metadata": {},
   "outputs": [],
   "source": [
    "import matplotlib.pyplot as plt"
   ]
  },
  {
   "cell_type": "code",
   "execution_count": 17,
   "metadata": {},
   "outputs": [
    {
     "name": "stdout",
     "output_type": "stream",
     "text": [
      "[   0.  486. -325.  634.  318.  330. -333.   96. -160.  -57.]\n",
      "[ 45970.  92426. 137585. 184514. 230168. 276150. 321457. 367856. 413570.\n",
      " 459643.]\n",
      "[ 0.          0.52582607 -0.23621761  0.34360536  0.13815995  0.11950027\n",
      " -0.10359084  0.02609717 -0.03868753 -0.01240093]\n"
     ]
    },
    {
     "data": {
      "image/png": "[encoded data removed]",
      "text/plain": [
       "<Figure size 432x288 with 1 Axes>"
      ]
     },
     "metadata": {},
     "output_type": "display_data"
    }
   ],
   "source": [
    "f,ax = plt.subplots()\n",
    "ax.scatter(area,N, c='white')\n",
    "\n",
    "N0 = N[0]\n",
    "a0 = area[0]\n",
    "Nratio = N0*area/a0\n",
    "          \n",
    "ax.plot(area,Nratio)\n",
    "print(N - Nratio)\n",
    "print(N)\n",
    "print((N - Nratio)/N*100.)"
   ]
  },
  {
   "cell_type": "code",
   "execution_count": null,
   "metadata": {},
   "outputs": [],
   "source": []
  }
 ],
 "metadata": {
  "kernelspec": {
   "display_name": "Python 3",
   "language": "python",
   "name": "python3"
  },
  "language_info": {
   "codemirror_mode": {
    "name": "ipython",
    "version": 3
   },
   "file_extension": ".py",
   "mimetype": "text/x-python",
   "name": "python",
   "nbconvert_exporter": "python",
   "pygments_lexer": "ipython3",
   "version": "3.7.3"
  }
 },
 "nbformat": 4,
 "nbformat_minor": 4
}
