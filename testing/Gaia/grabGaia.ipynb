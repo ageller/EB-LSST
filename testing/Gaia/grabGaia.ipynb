{
 "cells": [
  {
   "cell_type": "markdown",
   "metadata": {},
   "source": [
    "# Import Gaia data and make a luminosity map\n",
    "\n",
    "*The main table is gaiadr2.gaia_source, and [here](http://gea.esac.esa.int/archive/documentation/GDR2/Gaia_archive/chap_datamodel/sec_dm_main_tables/ssec_dm_gaia_source.html) is the description of the columns*"
   ]
  },
  {
   "cell_type": "code",
   "execution_count": 1,
   "metadata": {},
   "outputs": [],
   "source": [
    "%load_ext autoreload\n",
    "%autoreload 2"
   ]
  },
  {
   "cell_type": "code",
   "execution_count": 2,
   "metadata": {},
   "outputs": [
    {
     "name": "stdout",
     "output_type": "stream",
     "text": [
      "Created TAP+ (v1.0.1) - Connection:\n",
      "\tHost: gea.esac.esa.int\n",
      "\tUse HTTPS: False\n",
      "\tPort: 80\n",
      "\tSSL Port: 443\n"
     ]
    },
    {
     "name": "stderr",
     "output_type": "stream",
     "text": [
      "WARNING:root:PyMultiNest not imported.  MultiNest fits will not work.\n",
      "/Users/ageller/anaconda/envs/py36/lib/python3.6/site-packages/numpy/lib/npyio.py:2222: VisibleDeprecationWarning: Reading unicode strings without specifying the encoding argument is deprecated. Set the encoding, use None for the system default.\n",
      "  output = genfromtxt(fname, **kwargs)\n",
      "/Users/ageller/anaconda/envs/py36/lib/python3.6/site-packages/sklearn/cross_validation.py:41: DeprecationWarning: This module was deprecated in version 0.18 in favor of the model_selection module into which all the refactored classes and functions are moved. Also note that the interface of the new CV iterators are different from that of this module. This module will be removed in 0.20.\n",
      "  \"This module will be removed in 0.20.\", DeprecationWarning)\n",
      "/Users/ageller/anaconda/envs/py36/lib/python3.6/site-packages/sklearn/grid_search.py:42: DeprecationWarning: This module was deprecated in version 0.18 in favor of the model_selection module into which all the refactored classes and functions are moved. This module will be removed in 0.20.\n",
      "  DeprecationWarning)\n",
      "WARNING:root:progressbar not imported\n"
     ]
    }
   ],
   "source": [
    "import astropy.units as u\n",
    "from astropy.coordinates import ICRS\n",
    "from astropy.coordinates.sky_coordinate import SkyCoord\n",
    "from astropy.io.votable import parse\n",
    "from astroquery.gaia import Gaia\n",
    "import numpy as np\n",
    "import vespa\n"
   ]
  },
  {
   "cell_type": "markdown",
   "metadata": {},
   "source": [
    "### Retrieve the data \n",
    "\n",
    "*Note: The query to the archive is with ADQL (Astronomical Data Query Language). *"
   ]
  },
  {
   "cell_type": "code",
   "execution_count": null,
   "metadata": {},
   "outputs": [],
   "source": [
    "#NOTE: not all sources have RVs\n",
    "#cmd = \"SELECT TOP 100 ra, dec, parallax, pmra, pmdec, radial_velocity FROM gaiadr2.gaia_source\"\n",
    "\n",
    "#NOTE: It looks like there are \n",
    "#480235 sources with g <=10 and with parallaxes\n",
    "#1236351 sources with g <=11 and with parallaxes\n",
    "#I could only get 3000000 for g<=12.  I wonder if that is the limit?\n",
    "#I think this is already ordered by gmag, so by default this will pull the brightest first\n",
    "N = 1e7\n",
    "gmin = 11\n",
    "gmax = 24\n",
    "\n",
    "#cmd = \"SELECT TOP \" + str(np.int(N))+\" \\\n",
    "cmd = \"SELECT \\\n",
    "ra, dec, parallax, teff_val, lum_val, phot_g_mean_mag, a_g_val  \\\n",
    "FROM gaiadr2.gaia_source \\\n",
    "WHERE phot_g_mean_mag<=\" + str(gmax) +\" \\\n",
    "AND phot_g_mean_mag>=\" + str(gmin) +\" \\\n",
    "AND phot_g_mean_mag IS NOT NULL \\\n",
    "AND parallax IS NOT NULL \"#\\\n",
    "#AND radial_velocity IS NOT NULL\"\n",
    "print(cmd)\n",
    "\n",
    "#asynchronous commands for larger files\n",
    "job = Gaia.launch_job_async(cmd, dump_to_file=True)\n",
    "\n",
    "print (job)"
   ]
  },
  {
   "cell_type": "code",
   "execution_count": 3,
   "metadata": {},
   "outputs": [
    {
     "name": "stderr",
     "output_type": "stream",
     "text": [
      "WARNING: W27: LSST-result.vot:3:0: W27: COOSYS deprecated in VOTable 1.2 [astropy.io.votable.tree]\n",
      "WARNING:astropy:W27: LSST-result.vot:3:0: W27: COOSYS deprecated in VOTable 1.2\n",
      "WARNING: W35: LSST-result.vot:5:0: W35: 'value' attribute required for INFO elements [astropy.io.votable.tree]\n",
      "WARNING:astropy:W35: LSST-result.vot:5:0: W35: 'value' attribute required for INFO elements\n",
      "WARNING: W35: LSST-result.vot:6:0: W35: 'value' attribute required for INFO elements [astropy.io.votable.tree]\n",
      "WARNING:astropy:W35: LSST-result.vot:6:0: W35: 'value' attribute required for INFO elements\n",
      "WARNING: W35: LSST-result.vot:7:0: W35: 'value' attribute required for INFO elements [astropy.io.votable.tree]\n",
      "WARNING:astropy:W35: LSST-result.vot:7:0: W35: 'value' attribute required for INFO elements\n",
      "WARNING: W35: LSST-result.vot:8:0: W35: 'value' attribute required for INFO elements [astropy.io.votable.tree]\n",
      "WARNING:astropy:W35: LSST-result.vot:8:0: W35: 'value' attribute required for INFO elements\n",
      "WARNING: W35: LSST-result.vot:10:0: W35: 'value' attribute required for INFO elements [astropy.io.votable.tree]\n",
      "WARNING:astropy:W35: LSST-result.vot:10:0: W35: 'value' attribute required for INFO elements\n"
     ]
    }
   ],
   "source": [
    "#r = job.get_results()\n",
    "\n",
    "vot = parse(\"LSST-result.vot\")\n",
    "table = vot.get_first_table()\n",
    "r = table.array"
   ]
  },
  {
   "cell_type": "code",
   "execution_count": 19,
   "metadata": {},
   "outputs": [
    {
     "name": "stdout",
     "output_type": "stream",
     "text": [
      "[(249.42349063804585, -38.266628527080016, 0.4594311390035986, --, --, 19.87489128112793, --)\n",
      " (249.7339378042595, -38.15464728562749, -0.2518601825402249, --, --, 19.567447662353516, --)\n",
      " (249.73787701668542, -38.098100666684694, 0.8338294682230369, --, --, 19.453121185302734, --)\n",
      " ...\n",
      " (283.5690969437813, -16.108083824587247, 0.09002235746694323, 4365.25, --, 16.606199264526367, 0.7813000082969666)\n",
      " (283.1365662278172, -16.126315956308563, 0.6192785688518824, --, --, 18.804548263549805, --)\n",
      " (283.39064870775286, -16.07743069188592, 1.0233496900961845, --, --, 19.015169143676758, --)]\n",
      "        ra                 dec         ... phot_g_mean_mag a_g_val\n",
      "       deg                 deg         ...       mag         mag  \n",
      "------------------ ------------------- ... --------------- -------\n",
      "249.42349063804585 -38.266628527080016 ...       19.874891      --\n",
      " 249.7339378042595  -38.15464728562749 ...       19.567448      --\n",
      "249.73787701668542 -38.098100666684694 ...       19.453121      --\n",
      "248.14264947884132  -39.26836891888845 ...        17.92482      --\n",
      "248.23175220664805  -39.01689012106516 ...       15.713647  2.3943\n",
      "249.69705959402563  -38.06999244594642 ...       18.626163      --\n",
      "248.05413500155353  -39.06952374147895 ...        19.79828      --\n",
      "249.51991855678423  -38.05188106126073 ...       16.809826      --\n",
      "  249.281173432306 -38.303400491683405 ...       19.444044      --\n",
      "285.67729306117326 -12.908108164372324 ...        17.16848      --\n",
      "               ...                 ... ...             ...     ...\n",
      " 283.4380983538892  -16.18613466967535 ...       18.180817      --\n",
      " 283.5639622856434 -15.984929877309824 ...       19.074314      --\n",
      "283.54502019174106   -16.0027677900645 ...       18.742908      --\n",
      " 283.4962679976023 -15.935049365099694 ...       18.777197      --\n",
      " 283.4553490388991 -16.100753987557976 ...        18.82748      --\n",
      "  283.534436113152 -15.985624996436657 ...       19.713272      --\n",
      " 283.3545001553899 -16.028121819735993 ...       19.754553      --\n",
      " 283.5690969437813 -16.108083824587247 ...         16.6062  0.7813\n",
      " 283.1365662278172 -16.126315956308563 ...       18.804548      --\n",
      "283.39064870775286  -16.07743069188592 ...        19.01517      --\n",
      "Length = 3000000 rows\n"
     ]
    }
   ],
   "source": [
    "print(r)\n",
    "\n",
    "print(table)\n"
   ]
  },
  {
   "cell_type": "markdown",
   "metadata": {},
   "source": [
    "### Convert these ra, dec, parallax coordinates to 3D cartesian\n",
    "\n",
    "*To match the input that I would get from Katie's model*"
   ]
  },
  {
   "cell_type": "code",
   "execution_count": 17,
   "metadata": {},
   "outputs": [
    {
     "ename": "AttributeError",
     "evalue": "'MaskedArray' object has no attribute 'to'",
     "output_type": "error",
     "traceback": [
      "\u001b[0;31m---------------------------------------------------------------------------\u001b[0m",
      "\u001b[0;31mAttributeError\u001b[0m                            Traceback (most recent call last)",
      "\u001b[0;32m<ipython-input-17-de885766bec2>\u001b[0m in \u001b[0;36m<module>\u001b[0;34m()\u001b[0m\n\u001b[1;32m      1\u001b[0m \u001b[0;31m#force the parallax to be positive!\u001b[0m\u001b[0;34m\u001b[0m\u001b[0;34m\u001b[0m\u001b[0m\n\u001b[0;32m----> 2\u001b[0;31m \u001b[0mdist\u001b[0m \u001b[0;34m=\u001b[0m \u001b[0mnp\u001b[0m\u001b[0;34m.\u001b[0m\u001b[0mabs\u001b[0m\u001b[0;34m(\u001b[0m\u001b[0;34m(\u001b[0m\u001b[0mr\u001b[0m\u001b[0;34m[\u001b[0m\u001b[0;34m'parallax'\u001b[0m\u001b[0;34m]\u001b[0m\u001b[0;34m)\u001b[0m\u001b[0;34m.\u001b[0m\u001b[0mto\u001b[0m\u001b[0;34m(\u001b[0m\u001b[0mu\u001b[0m\u001b[0;34m.\u001b[0m\u001b[0mparsec\u001b[0m\u001b[0;34m,\u001b[0m \u001b[0mequivalencies\u001b[0m\u001b[0;34m=\u001b[0m\u001b[0mu\u001b[0m\u001b[0;34m.\u001b[0m\u001b[0mparallax\u001b[0m\u001b[0;34m(\u001b[0m\u001b[0;34m)\u001b[0m\u001b[0;34m)\u001b[0m\u001b[0;34m)\u001b[0m\u001b[0;34m\u001b[0m\u001b[0m\n\u001b[0m\u001b[1;32m      3\u001b[0m \u001b[0mastroC\u001b[0m \u001b[0;34m=\u001b[0m \u001b[0mICRS\u001b[0m\u001b[0;34m(\u001b[0m\u001b[0mra\u001b[0m\u001b[0;34m=\u001b[0m\u001b[0mr\u001b[0m\u001b[0;34m[\u001b[0m\u001b[0;34m'ra'\u001b[0m\u001b[0;34m]\u001b[0m\u001b[0;34m,\u001b[0m \u001b[0mdec\u001b[0m\u001b[0;34m=\u001b[0m\u001b[0mr\u001b[0m\u001b[0;34m[\u001b[0m\u001b[0;34m'dec'\u001b[0m\u001b[0;34m]\u001b[0m\u001b[0;34m,\u001b[0m \u001b[0mdistance\u001b[0m\u001b[0;34m=\u001b[0m\u001b[0mdist\u001b[0m\u001b[0;34m)\u001b[0m\u001b[0;34m\u001b[0m\u001b[0m\n\u001b[1;32m      4\u001b[0m \u001b[0mprint\u001b[0m\u001b[0;34m(\u001b[0m\u001b[0mastroC\u001b[0m\u001b[0;34m.\u001b[0m\u001b[0mcartesian\u001b[0m\u001b[0;34m)\u001b[0m\u001b[0;34m\u001b[0m\u001b[0m\n",
      "\u001b[0;31mAttributeError\u001b[0m: 'MaskedArray' object has no attribute 'to'"
     ]
    }
   ],
   "source": [
    "#force the parallax to be positive!\n",
    "dist = np.abs((r['parallax']).to(u.parsec, equivalencies=u.parallax()))\n",
    "astroC = ICRS(ra=r['ra'], dec=r['dec'], distance=dist)\n",
    "print(astroC.cartesian)\n"
   ]
  },
  {
   "cell_type": "markdown",
   "metadata": {},
   "source": [
    "### Estimate the absolute G mag, given the apparent and distance\n",
    "\n",
    "*This does not (yet) account for redenning.*"
   ]
  },
  {
   "cell_type": "code",
   "execution_count": null,
   "metadata": {},
   "outputs": [],
   "source": [
    "MbolSun = 4.73\n",
    "absG = r['phot_g_mean_mag'].values - 5.*np.log10(dist.to(u.parsec).value/10.) - r['a_g_val'].values\n",
    "\n",
    "L12G = 10.**(-0.4*(absG - MbolSun)) #luminosity in the G band (not bolometric), in LSun.  Is this correct?\n",
    "\n",
    "print(r['phot_g_mean_mag'])\n",
    "print(absG)\n",
    "print(L12G)"
   ]
  },
  {
   "cell_type": "code",
   "execution_count": null,
   "metadata": {},
   "outputs": [],
   "source": []
  }
 ],
 "metadata": {
  "kernelspec": {
   "display_name": "Python 3",
   "language": "python",
   "name": "python3"
  },
  "language_info": {
   "codemirror_mode": {
    "name": "ipython",
    "version": 3
   },
   "file_extension": ".py",
   "mimetype": "text/x-python",
   "name": "python",
   "nbconvert_exporter": "python",
   "pygments_lexer": "ipython3",
   "version": "3.6.4"
  }
 },
 "nbformat": 4,
 "nbformat_minor": 2
}
