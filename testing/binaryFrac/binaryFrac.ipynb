{
 "cells": [
  {
   "cell_type": "markdown",
   "metadata": {},
   "source": [
    "### Fit a line to the binary frequency vs. mass data from Raghavan et al. 2010 fig. 12"
   ]
  },
  {
   "cell_type": "code",
   "execution_count": 5,
   "metadata": {},
   "outputs": [],
   "source": [
    "import numpy as np\n",
    "import matplotlib.pyplot as plt\n",
    "import matplotlib\n",
    "from astropy.modeling import models, fitting\n",
    "\n",
    "%matplotlib inline"
   ]
  },
  {
   "cell_type": "code",
   "execution_count": 6,
   "metadata": {},
   "outputs": [],
   "source": [
    "x = [0.05, 0.1, 1, 8, 15]  #estimates of midpoints in bins, and using this: https://sites.uni.edu/morgans/astro/course/Notes/section2/spectralmasses.html\n",
    "y = [0.20, 0.35, 0.50, 0.70, 0.75]"
   ]
  },
  {
   "cell_type": "code",
   "execution_count": 7,
   "metadata": {},
   "outputs": [
    {
     "name": "stdout",
     "output_type": "stream",
     "text": [
      "Model: PowerLaw1D\n",
      "Inputs: ('x',)\n",
      "Outputs: ('y',)\n",
      "Model set size: 1\n",
      "Parameters:\n",
      "        amplitude             x_0                alpha        \n",
      "    ------------------ ------------------ --------------------\n",
      "    0.4867931456884673 1.2187782594677197 -0.18353582590355472\n",
      "[0.27088726 0.30763686 0.46943362 0.68758051 0.77166548]\n"
     ]
    },
    {
     "name": "stderr",
     "output_type": "stream",
     "text": [
      "/Users/ageller/anaconda3/lib/python3.7/site-packages/astropy/modeling/powerlaws.py:48: RuntimeWarning: invalid value encountered in power\n",
      "  return amplitude * xx ** (-alpha)\n"
     ]
    }
   ],
   "source": [
    "init = models.PowerLaw1D(amplitude=0.5, x_0=1, alpha=-1.)\n",
    "fitter = fitting.LevMarLSQFitter()\n",
    "fit = fitter(init, x, y)\n",
    "\n",
    "print(fit)\n",
    "print(fit(x))"
   ]
  },
  {
   "cell_type": "code",
   "execution_count": 10,
   "metadata": {},
   "outputs": [
    {
     "data": {
      "image/png": "[encoded data removed]",
      "text/plain": [
       "<Figure size 432x288 with 1 Axes>"
      ]
     },
     "metadata": {
      "needs_background": "dark"
     },
     "output_type": "display_data"
    }
   ],
   "source": [
    "f,ax = plt.subplots()\n",
    "ax.scatter(x,y)\n",
    "xx = np.linspace(0,15,1000)\n",
    "ax.plot(xx, fit(xx))\n",
    "#ax.plot(xx, 0.487*(xx/1.219)**0.184)\n",
    "ax.set_xscale('log')"
   ]
  },
  {
   "cell_type": "code",
   "execution_count": null,
   "metadata": {},
   "outputs": [],
   "source": []
  }
 ],
 "metadata": {
  "kernelspec": {
   "display_name": "Python 3",
   "language": "python",
   "name": "python3"
  },
  "language_info": {
   "codemirror_mode": {
    "name": "ipython",
    "version": 3
   },
   "file_extension": ".py",
   "mimetype": "text/x-python",
   "name": "python",
   "nbconvert_exporter": "python",
   "pygments_lexer": "ipython3",
   "version": "3.7.3"
  }
 },
 "nbformat": 4,
 "nbformat_minor": 2
}
