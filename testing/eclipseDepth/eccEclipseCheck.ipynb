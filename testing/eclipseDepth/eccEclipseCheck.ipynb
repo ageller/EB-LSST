{
 "cells": [
  {
   "cell_type": "markdown",
   "metadata": {},
   "source": [
    "# Determine if an eccentric binary will eclipse\n",
    "\n",
    "https://ui.adsabs.harvard.edu/abs/2007PASP..119..986B/abstract\n",
    "\n",
    "http://www.jdso.org/volume13/number2/Harfenist_189-199.pdf"
   ]
  },
  {
   "cell_type": "code",
   "execution_count": 1,
   "metadata": {},
   "outputs": [],
   "source": [
    "import numpy as np\n",
    "import matplotlib.pyplot as plt\n",
    "from astropy import units, constants\n",
    "\n",
    "%matplotlib inline"
   ]
  },
  {
   "cell_type": "code",
   "execution_count": 2,
   "metadata": {},
   "outputs": [],
   "source": [
    "def getafromP(m1, m2, P):\n",
    "    #returns the semimajor axis from the period and stellar masses\n",
    "    return (((P**2.) * constants.G * (m1 + m2) / (4*np.pi**2.))**(1./3.)).decompose().to(units.AU)"
   ]
  },
  {
   "cell_type": "code",
   "execution_count": 3,
   "metadata": {},
   "outputs": [],
   "source": [
    "#from our code for circular binaries\n",
    "def checkEclipse(r1,r2,rp,inclination):\n",
    "    ratio = (r1 + r2)/rp #rp = 2a for circular orbits\n",
    "    if (ratio <= 1):\n",
    "        theta = np.arcsin(ratio)*180./np.pi\n",
    "        min_incl = 90. - theta\n",
    "        max_incl = 90. + theta\n",
    "        if (inclination <= min_incl or inclination >= max_incl):\n",
    "            return False\n",
    "    return True"
   ]
  },
  {
   "cell_type": "code",
   "execution_count": 4,
   "metadata": {},
   "outputs": [
    {
     "name": "stdout",
     "output_type": "stream",
     "text": [
      "0.4826490641022738 AU\n",
      "True\n"
     ]
    }
   ],
   "source": [
    "r1 = 1.*units.solRad\n",
    "r2 = 0.5*units.solRad\n",
    "per = 100.*units.day\n",
    "m1 = 1.*units.solMass\n",
    "m2 = 0.5*units.solMass\n",
    "semi = getafromP(m1, m2, per)\n",
    "print(semi)\n",
    "\n",
    "inclination = 90.\n",
    "\n",
    "\n",
    "print(checkEclipse(r1.to(units.AU).value, r2.to(units.AU).value , 2.*semi.to(units.AU).value, inclination))"
   ]
  },
  {
   "cell_type": "code",
   "execution_count": 5,
   "metadata": {},
   "outputs": [
    {
     "name": "stdout",
     "output_type": "stream",
     "text": [
      "[False, False, False, False, False, False, False, False, False, False, False, False, False, False, False, False, False, False, False, False, False, False, False, False, False, False, False, False, False, False, False, False, False, False, False, False, False, False, False, False, False, False, False, False, False, False, False, False, False, False, False, False, False, False, False, False, False, False, False, False, False, False, False, False, False, False, False, False, False, False, False, False, False, False, False, False, False, False, False, True, True, True, True, True, True, True, True, True, True, True, True, True, True, True, True, True, True, True, True, True]\n"
     ]
    }
   ],
   "source": [
    "N = 100\n",
    "inc = np.linspace(88, 90, N)\n",
    "testCirc = [checkEclipse(r1.to(units.AU).value, r2.to(units.AU).value , 2.*semi.to(units.AU).value, i) for i in inc]\n",
    "print(testCirc)"
   ]
  },
  {
   "cell_type": "code",
   "execution_count": 6,
   "metadata": {},
   "outputs": [
    {
     "data": {
      "text/plain": [
       "<matplotlib.collections.PathCollection at 0x7f8a67646d60>"
      ]
     },
     "execution_count": 6,
     "metadata": {},
     "output_type": "execute_result"
    },
    {
     "data": {
      "image/png": "[encoded data removed]",
      "text/plain": [
       "<Figure size 432x288 with 1 Axes>"
      ]
     },
     "metadata": {
      "needs_background": "light"
     },
     "output_type": "display_data"
    }
   ],
   "source": [
    "f,ax = plt.subplots()\n",
    "index = np.linspace(0,N,N)\n",
    "ax.scatter(index, inc)\n",
    "ecl = np.where(testCirc)\n",
    "ax.scatter(index[ecl],inc[ecl])\n"
   ]
  },
  {
   "cell_type": "code",
   "execution_count": 7,
   "metadata": {},
   "outputs": [],
   "source": [
    "#try using the python code radvel :https://radvel.readthedocs.io/en/latest/index.html\n",
    "#https://radvel.readthedocs.io/_/downloads/en/latest/pdf/\n",
    "import radvel"
   ]
  },
  {
   "cell_type": "code",
   "execution_count": 8,
   "metadata": {},
   "outputs": [
    {
     "name": "stdout",
     "output_type": "stream",
     "text": [
      "[100.78818499] 1.470058867665504 0.08409210783409979 AU 0.9652981282045476 AU\n",
      "[198.88231953] -1.7016222304054447 0.10390224937653933 AU 0.9652981282045476 AU\n"
     ]
    }
   ],
   "source": [
    "tp = 100 #time of periastron \n",
    "ecc = 0.9 # eccentricity\n",
    "omega = 0.12345 #argument of peri (radians)\n",
    "\n",
    "#primary\n",
    "ttrans = radvel.orbit.timeperi_to_timetrans(np.array([tp]), per.to(units.day).value, ecc, omega)\n",
    "ta = radvel.orbit.true_anomaly(ttrans, np.array([tp]), per.to(units.day).value, ecc)\n",
    "\n",
    "rp = semi*(1. - ecc*ecc)/(1. + ecc*np.cos(ta))\n",
    "\n",
    "print(ttrans,ta, rp, 2.*semi)\n",
    "\n",
    "#secondary\n",
    "ttrans = radvel.orbit.timeperi_to_timetrans(np.array([tp]), per.to(units.day).value, ecc, omega, secondary=True)\n",
    "ta = radvel.orbit.true_anomaly(ttrans, np.array([tp]), per.to(units.day).value, ecc)\n",
    "\n",
    "rp = semi*(1. - ecc*ecc)/(1. + ecc*np.cos(ta))\n",
    "\n",
    "print(ttrans,ta, rp, 2.*semi)"
   ]
  },
  {
   "cell_type": "code",
   "execution_count": 9,
   "metadata": {},
   "outputs": [
    {
     "data": {
      "text/plain": [
       "0.0"
      ]
     },
     "execution_count": 9,
     "metadata": {},
     "output_type": "execute_result"
    }
   ],
   "source": [
    "radvel.orbit.true_anomaly(np.array([100]), np.array([100]), per.to(units.day).value, ecc)"
   ]
  },
  {
   "cell_type": "code",
   "execution_count": 12,
   "metadata": {},
   "outputs": [],
   "source": [
    "N = 100\n",
    "inc = np.linspace(86, 90, N)\n",
    "testCirc = []\n",
    "testEcc = []\n",
    "for i in inc:\n",
    "    testCirc.append(checkEclipse(r1.to(units.AU).value, r2.to(units.AU).value , 2.*semi.to(units.AU).value, i))\n",
    "    testEcc.append(checkEclipse(r1.to(units.AU).value, r2.to(units.AU).value , rp.to(units.AU).value, i))"
   ]
  },
  {
   "cell_type": "code",
   "execution_count": 13,
   "metadata": {},
   "outputs": [
    {
     "data": {
      "text/plain": [
       "<matplotlib.collections.PathCollection at 0x7f8a6a03d580>"
      ]
     },
     "execution_count": 13,
     "metadata": {},
     "output_type": "execute_result"
    },
    {
     "data": {
      "image/png": "[encoded data removed]",
      "text/plain": [
       "<Figure size 432x288 with 1 Axes>"
      ]
     },
     "metadata": {
      "needs_background": "light"
     },
     "output_type": "display_data"
    }
   ],
   "source": [
    "f,ax = plt.subplots()\n",
    "index = np.linspace(0,N,N)\n",
    "\n",
    "ax.scatter(index, inc)\n",
    "ecl = np.where(testCirc)\n",
    "ax.scatter(index[ecl],inc[ecl])\n",
    "ecl = np.where(testEcc)\n",
    "\n",
    "ax.scatter(index[ecl],inc[ecl], facecolors='none', edgecolors='black', s=60)\n",
    "\n",
    "\n"
   ]
  },
  {
   "cell_type": "code",
   "execution_count": 14,
   "metadata": {},
   "outputs": [],
   "source": [
    "#verify this with ellc?\n",
    "#I think I will have to rerun these, but I may not have to rerun everything.  \n",
    "#  If I take those that weren't observable, then choose a random argument of peri and t0, then check for eclipse\n",
    "#  and only run those that will eclipse.  Will that work?  But then I will also need to check the observable ones and \n",
    "#  limit those somehow... it will be much cleaner to just rerun everything... sigh!"
   ]
  },
  {
   "cell_type": "code",
   "execution_count": 15,
   "metadata": {},
   "outputs": [],
   "source": [
    "import ellc\n",
    "import pandas as pd\n",
    "import numpy as np\n",
    "\n",
    "from astropy import units as u\n",
    "from astropy import constants\n",
    "\n",
    "\n",
    "import matplotlib.pyplot as plt\n",
    "%matplotlib inline"
   ]
  },
  {
   "cell_type": "code",
   "execution_count": 16,
   "metadata": {},
   "outputs": [],
   "source": [
    "def getafromP(m1, m2, P):\n",
    "    #returns the semimajor axis from the period and stellar masses\n",
    "    return (((P**2.) * constants.G * (m1 + m2) / (4*np.pi**2.))**(1./3.)).decompose().to(u.AU)\n",
    "    \n",
    "def getRad(logg, m):\n",
    "    #g = GM/r**2\n",
    "    g = 10.**logg * u.cm/u.s**2.\n",
    "    r = ((constants.G*m*u.Msun/g)**0.5).decompose().to(u.Rsun).value\n",
    "    return r\n",
    "\n",
    "def getm2(m2Use, mTolUse = 0.001, maxCount = 100):\n",
    "    counter = 0\n",
    "    nWarn = 0\n",
    "    done = False\n",
    "    \n",
    "    m2 = 0\n",
    "    r2 = 0\n",
    "    \n",
    "    while (not done) and (counter < maxCount):\n",
    "        df_sort = model.loc[ (model['Mact'] - m2Use).abs() < mTolUse]\n",
    "        if (len(df_sort) > 0):\n",
    "            ss = df_sort.sample()\n",
    "            m2 = ss['Mact'].iloc[0]\n",
    "            r2 = getRad(ss['logg'].iloc[0], m2)\n",
    "            done = True\n",
    "        else:\n",
    "            #print('WARNING: increasing tolerance', mTolUse)\n",
    "            mTolUse *=2\n",
    "            nWarn += 1\n",
    "        if (counter > maxCount):\n",
    "            print('WARNING: did not reach tolerance, will probably die...')\n",
    "            done = True\n",
    "        counter += 1\n",
    "    if (mTolUse > 0.1):\n",
    "        print(f'WARNING: had to increase mass tolerance {nWarn} times. Max tolerance = {mTolUse}.')\n",
    "    \n",
    "    return m2, r2\n",
    "\n",
    "def checkEclipse(r1,r2,rp,inclination):\n",
    "    ratio = (r1 + r2)/rp #rp = 2a for circular orbits\n",
    "    if (ratio <= 1):\n",
    "        theta = np.arcsin(ratio)*180./np.pi\n",
    "        min_incl = 90. - theta\n",
    "        max_incl = 90. + theta\n",
    "        if (inclination <= min_incl or inclination >= max_incl):\n",
    "            return False\n",
    "    return True\n",
    "    \n",
    "def checkEccEclipse(r1, r2, a, period, eccentricity, omega, inclination, t_zero):\n",
    "    \n",
    "    ttrans = radvel.orbit.timeperi_to_timetrans(np.array([t_zero]), period, eccentricity, omega*np.pi/180.)\n",
    "    ta = radvel.orbit.true_anomaly(ttrans, np.array([t_zero]), period, eccentricity)\n",
    "\n",
    "    rp = a*(1. - eccentricity*eccentricity)/(1. + eccentricity*np.cos(ta))\n",
    "    eclipse_pri = checkEclipse(r1, r2, rp, inclination)\n",
    "\n",
    "    #secondary\n",
    "    ttrans = radvel.orbit.timeperi_to_timetrans(np.array([t_zero]), period, eccentricity, omega*np.pi/180., secondary=True)\n",
    "    ta = radvel.orbit.true_anomaly(ttrans, np.array([t_zero]), period, eccentricity)\n",
    "\n",
    "    rp = a*(1. - eccentricity*eccentricity)/(1. + eccentricity*np.cos(ta))\n",
    "    eclipse_sec = checkEclipse(r1, r2, rp, inclination)\n",
    "\n",
    "    if (not eclipse_pri and not eclipse_sec):\n",
    "        return False\n",
    "    return True\n",
    "\n"
   ]
  },
  {
   "cell_type": "code",
   "execution_count": 17,
   "metadata": {},
   "outputs": [
    {
     "data": {
      "text/html": [
       "<div>\n",
       "<style scoped>\n",
       "    .dataframe tbody tr th:only-of-type {\n",
       "        vertical-align: middle;\n",
       "    }\n",
       "\n",
       "    .dataframe tbody tr th {\n",
       "        vertical-align: top;\n",
       "    }\n",
       "\n",
       "    .dataframe thead th {\n",
       "        text-align: right;\n",
       "    }\n",
       "</style>\n",
       "<table border=\"1\" class=\"dataframe\">\n",
       "  <thead>\n",
       "    <tr style=\"text-align: right;\">\n",
       "      <th></th>\n",
       "      <th>Gc</th>\n",
       "      <th>logAge</th>\n",
       "      <th>[M/H]</th>\n",
       "      <th>m_ini</th>\n",
       "      <th>logL</th>\n",
       "      <th>logTe</th>\n",
       "      <th>logg</th>\n",
       "      <th>m-M0</th>\n",
       "      <th>Av</th>\n",
       "      <th>m2/m1</th>\n",
       "      <th>mbol</th>\n",
       "      <th>u_mag</th>\n",
       "      <th>g_mag</th>\n",
       "      <th>r_mag</th>\n",
       "      <th>i_mag</th>\n",
       "      <th>z_mag</th>\n",
       "      <th>Y_mag</th>\n",
       "      <th>Mact</th>\n",
       "    </tr>\n",
       "  </thead>\n",
       "  <tbody>\n",
       "    <tr>\n",
       "      <th>0</th>\n",
       "      <td>1</td>\n",
       "      <td>6.65</td>\n",
       "      <td>0.07</td>\n",
       "      <td>0.47247</td>\n",
       "      <td>-1.462</td>\n",
       "      <td>3.588</td>\n",
       "      <td>4.873</td>\n",
       "      <td>8.9</td>\n",
       "      <td>0.484</td>\n",
       "      <td>0.0</td>\n",
       "      <td>17.326</td>\n",
       "      <td>22.373</td>\n",
       "      <td>19.705</td>\n",
       "      <td>18.398</td>\n",
       "      <td>17.592</td>\n",
       "      <td>17.161</td>\n",
       "      <td>16.939</td>\n",
       "      <td>0.472</td>\n",
       "    </tr>\n",
       "    <tr>\n",
       "      <th>1</th>\n",
       "      <td>1</td>\n",
       "      <td>6.65</td>\n",
       "      <td>0.19</td>\n",
       "      <td>0.21215</td>\n",
       "      <td>-2.213</td>\n",
       "      <td>3.533</td>\n",
       "      <td>5.057</td>\n",
       "      <td>11.3</td>\n",
       "      <td>0.572</td>\n",
       "      <td>0.0</td>\n",
       "      <td>21.602</td>\n",
       "      <td>27.880</td>\n",
       "      <td>24.766</td>\n",
       "      <td>23.301</td>\n",
       "      <td>22.117</td>\n",
       "      <td>21.497</td>\n",
       "      <td>21.218</td>\n",
       "      <td>0.212</td>\n",
       "    </tr>\n",
       "    <tr>\n",
       "      <th>2</th>\n",
       "      <td>1</td>\n",
       "      <td>6.71</td>\n",
       "      <td>-0.03</td>\n",
       "      <td>2.68100</td>\n",
       "      <td>1.722</td>\n",
       "      <td>4.058</td>\n",
       "      <td>4.321</td>\n",
       "      <td>9.0</td>\n",
       "      <td>0.528</td>\n",
       "      <td>0.0</td>\n",
       "      <td>9.465</td>\n",
       "      <td>11.242</td>\n",
       "      <td>10.449</td>\n",
       "      <td>10.587</td>\n",
       "      <td>10.752</td>\n",
       "      <td>10.848</td>\n",
       "      <td>10.876</td>\n",
       "      <td>2.681</td>\n",
       "    </tr>\n",
       "    <tr>\n",
       "      <th>3</th>\n",
       "      <td>1</td>\n",
       "      <td>6.71</td>\n",
       "      <td>0.37</td>\n",
       "      <td>0.19198</td>\n",
       "      <td>-2.166</td>\n",
       "      <td>3.524</td>\n",
       "      <td>4.931</td>\n",
       "      <td>9.0</td>\n",
       "      <td>0.456</td>\n",
       "      <td>0.0</td>\n",
       "      <td>19.184</td>\n",
       "      <td>25.424</td>\n",
       "      <td>22.335</td>\n",
       "      <td>20.899</td>\n",
       "      <td>19.664</td>\n",
       "      <td>19.027</td>\n",
       "      <td>18.743</td>\n",
       "      <td>0.192</td>\n",
       "    </tr>\n",
       "    <tr>\n",
       "      <th>4</th>\n",
       "      <td>1</td>\n",
       "      <td>6.77</td>\n",
       "      <td>-0.31</td>\n",
       "      <td>0.16780</td>\n",
       "      <td>-1.847</td>\n",
       "      <td>3.534</td>\n",
       "      <td>4.590</td>\n",
       "      <td>7.0</td>\n",
       "      <td>0.296</td>\n",
       "      <td>0.0</td>\n",
       "      <td>16.387</td>\n",
       "      <td>22.343</td>\n",
       "      <td>19.168</td>\n",
       "      <td>17.718</td>\n",
       "      <td>16.679</td>\n",
       "      <td>16.151</td>\n",
       "      <td>15.912</td>\n",
       "      <td>0.168</td>\n",
       "    </tr>\n",
       "    <tr>\n",
       "      <th>...</th>\n",
       "      <td>...</td>\n",
       "      <td>...</td>\n",
       "      <td>...</td>\n",
       "      <td>...</td>\n",
       "      <td>...</td>\n",
       "      <td>...</td>\n",
       "      <td>...</td>\n",
       "      <td>...</td>\n",
       "      <td>...</td>\n",
       "      <td>...</td>\n",
       "      <td>...</td>\n",
       "      <td>...</td>\n",
       "      <td>...</td>\n",
       "      <td>...</td>\n",
       "      <td>...</td>\n",
       "      <td>...</td>\n",
       "      <td>...</td>\n",
       "      <td>...</td>\n",
       "    </tr>\n",
       "    <tr>\n",
       "      <th>442984</th>\n",
       "      <td>3</td>\n",
       "      <td>10.11</td>\n",
       "      <td>-0.03</td>\n",
       "      <td>0.86583</td>\n",
       "      <td>-0.146</td>\n",
       "      <td>3.738</td>\n",
       "      <td>4.420</td>\n",
       "      <td>15.7</td>\n",
       "      <td>0.473</td>\n",
       "      <td>0.0</td>\n",
       "      <td>20.836</td>\n",
       "      <td>23.485</td>\n",
       "      <td>21.819</td>\n",
       "      <td>21.145</td>\n",
       "      <td>20.906</td>\n",
       "      <td>20.791</td>\n",
       "      <td>20.724</td>\n",
       "      <td>0.866</td>\n",
       "    </tr>\n",
       "    <tr>\n",
       "      <th>442985</th>\n",
       "      <td>3</td>\n",
       "      <td>10.11</td>\n",
       "      <td>-0.03</td>\n",
       "      <td>0.85323</td>\n",
       "      <td>-0.196</td>\n",
       "      <td>3.733</td>\n",
       "      <td>4.444</td>\n",
       "      <td>16.0</td>\n",
       "      <td>0.578</td>\n",
       "      <td>0.0</td>\n",
       "      <td>21.261</td>\n",
       "      <td>24.142</td>\n",
       "      <td>22.392</td>\n",
       "      <td>21.667</td>\n",
       "      <td>21.400</td>\n",
       "      <td>21.262</td>\n",
       "      <td>21.184</td>\n",
       "      <td>0.853</td>\n",
       "    </tr>\n",
       "    <tr>\n",
       "      <th>442986</th>\n",
       "      <td>3</td>\n",
       "      <td>10.11</td>\n",
       "      <td>-0.03</td>\n",
       "      <td>0.52946</td>\n",
       "      <td>-1.265</td>\n",
       "      <td>3.608</td>\n",
       "      <td>4.803</td>\n",
       "      <td>16.2</td>\n",
       "      <td>0.478</td>\n",
       "      <td>0.0</td>\n",
       "      <td>24.133</td>\n",
       "      <td>28.855</td>\n",
       "      <td>26.228</td>\n",
       "      <td>24.950</td>\n",
       "      <td>24.334</td>\n",
       "      <td>23.995</td>\n",
       "      <td>23.806</td>\n",
       "      <td>0.529</td>\n",
       "    </tr>\n",
       "    <tr>\n",
       "      <th>442987</th>\n",
       "      <td>3</td>\n",
       "      <td>10.11</td>\n",
       "      <td>-0.03</td>\n",
       "      <td>0.62776</td>\n",
       "      <td>-0.982</td>\n",
       "      <td>3.636</td>\n",
       "      <td>4.708</td>\n",
       "      <td>16.3</td>\n",
       "      <td>0.487</td>\n",
       "      <td>0.0</td>\n",
       "      <td>23.526</td>\n",
       "      <td>27.888</td>\n",
       "      <td>25.339</td>\n",
       "      <td>24.169</td>\n",
       "      <td>23.687</td>\n",
       "      <td>23.425</td>\n",
       "      <td>23.267</td>\n",
       "      <td>0.628</td>\n",
       "    </tr>\n",
       "    <tr>\n",
       "      <th>442988</th>\n",
       "      <td>3</td>\n",
       "      <td>10.11</td>\n",
       "      <td>-0.03</td>\n",
       "      <td>0.86958</td>\n",
       "      <td>-0.131</td>\n",
       "      <td>3.739</td>\n",
       "      <td>4.412</td>\n",
       "      <td>18.8</td>\n",
       "      <td>0.367</td>\n",
       "      <td>0.0</td>\n",
       "      <td>23.898</td>\n",
       "      <td>26.364</td>\n",
       "      <td>24.750</td>\n",
       "      <td>24.114</td>\n",
       "      <td>23.897</td>\n",
       "      <td>23.801</td>\n",
       "      <td>23.744</td>\n",
       "      <td>0.870</td>\n",
       "    </tr>\n",
       "  </tbody>\n",
       "</table>\n",
       "<p>442989 rows × 18 columns</p>\n",
       "</div>"
      ],
      "text/plain": [
       "        Gc  logAge  [M/H]    m_ini   logL  logTe   logg  m-M0     Av  m2/m1  \\\n",
       "0        1    6.65   0.07  0.47247 -1.462  3.588  4.873   8.9  0.484    0.0   \n",
       "1        1    6.65   0.19  0.21215 -2.213  3.533  5.057  11.3  0.572    0.0   \n",
       "2        1    6.71  -0.03  2.68100  1.722  4.058  4.321   9.0  0.528    0.0   \n",
       "3        1    6.71   0.37  0.19198 -2.166  3.524  4.931   9.0  0.456    0.0   \n",
       "4        1    6.77  -0.31  0.16780 -1.847  3.534  4.590   7.0  0.296    0.0   \n",
       "...     ..     ...    ...      ...    ...    ...    ...   ...    ...    ...   \n",
       "442984   3   10.11  -0.03  0.86583 -0.146  3.738  4.420  15.7  0.473    0.0   \n",
       "442985   3   10.11  -0.03  0.85323 -0.196  3.733  4.444  16.0  0.578    0.0   \n",
       "442986   3   10.11  -0.03  0.52946 -1.265  3.608  4.803  16.2  0.478    0.0   \n",
       "442987   3   10.11  -0.03  0.62776 -0.982  3.636  4.708  16.3  0.487    0.0   \n",
       "442988   3   10.11  -0.03  0.86958 -0.131  3.739  4.412  18.8  0.367    0.0   \n",
       "\n",
       "          mbol   u_mag   g_mag   r_mag   i_mag   z_mag   Y_mag   Mact  \n",
       "0       17.326  22.373  19.705  18.398  17.592  17.161  16.939  0.472  \n",
       "1       21.602  27.880  24.766  23.301  22.117  21.497  21.218  0.212  \n",
       "2        9.465  11.242  10.449  10.587  10.752  10.848  10.876  2.681  \n",
       "3       19.184  25.424  22.335  20.899  19.664  19.027  18.743  0.192  \n",
       "4       16.387  22.343  19.168  17.718  16.679  16.151  15.912  0.168  \n",
       "...        ...     ...     ...     ...     ...     ...     ...    ...  \n",
       "442984  20.836  23.485  21.819  21.145  20.906  20.791  20.724  0.866  \n",
       "442985  21.261  24.142  22.392  21.667  21.400  21.262  21.184  0.853  \n",
       "442986  24.133  28.855  26.228  24.950  24.334  23.995  23.806  0.529  \n",
       "442987  23.526  27.888  25.339  24.169  23.687  23.425  23.267  0.628  \n",
       "442988  23.898  26.364  24.750  24.114  23.897  23.801  23.744  0.870  \n",
       "\n",
       "[442989 rows x 18 columns]"
      ]
     },
     "execution_count": 17,
     "metadata": {},
     "output_type": "execute_result"
    }
   ],
   "source": [
    "model = pd.read_hdf('/Users/ageller/WORK/LSST/onGitHub/EBLSST/input/TRILEGALmodels/TRILEGAL_model_fID_1.h5')\n",
    "model"
   ]
  },
  {
   "cell_type": "code",
   "execution_count": 18,
   "metadata": {},
   "outputs": [
    {
     "name": "stdout",
     "output_type": "stream",
     "text": [
      "0.47200000000000003 0.473 0.41639433559395395 0.41492001413684415 5 0.5 12.07522031028489\n",
      "True\n"
     ]
    }
   ],
   "source": [
    "#e = 0.0\n",
    "#ellc says i~86.06deg\n",
    "#my code says i~86.07deg\n",
    "\n",
    "#e = 0.25\n",
    "#ellc says i~85.26\n",
    "#my code says i~85.28\n",
    "\n",
    "#e = 0.5\n",
    "#ellc says i~83.45deg, \n",
    "#my code says i~83.46deg\n",
    "\n",
    "index = 0\n",
    "\n",
    "row = model.iloc[index]\n",
    "m1 = row['Mact']\n",
    "r1 = getRad(row['logg'], m1)\n",
    "\n",
    "q = 1.\n",
    "e = 0.5\n",
    "p = 5\n",
    "\n",
    "m2, r2 = getm2(q*m1)\n",
    "\n",
    "a = getafromP(m1*u.solMass, m2*u.solMass, p*u.day).to(u.solRad).value\n",
    "\n",
    "inc = 83.45\n",
    "omega = 30.\n",
    "t_zero = 0.1*p\n",
    "\n",
    "f_c = np.sqrt(e)*np.cos(omega*np.pi/180.)\n",
    "f_s = np.sqrt(e)*np.sin(omega*np.pi/180.)\n",
    "R_1 = r1/a\n",
    "R_2 = r2/a\n",
    "\n",
    "print(m1, m2, r1, r2, p, e, a)\n",
    "print(checkEccEclipse(r1, r2, a, p, e, omega, inc, t_zero))"
   ]
  },
  {
   "cell_type": "code",
   "execution_count": 19,
   "metadata": {},
   "outputs": [],
   "source": [
    "Ndates = 5000\n",
    "dates = np.linspace(0, p, Ndates)"
   ]
  },
  {
   "cell_type": "code",
   "execution_count": 20,
   "metadata": {},
   "outputs": [],
   "source": [
    "lc = ellc.lc(dates, t_zero=t_zero, period=p, a=a, q=q, f_c=f_c, f_s=f_s, \n",
    "    radius_1=R_1, radius_2=R_2, incl=inc, sbratio=1.,\n",
    "    shape_1='sphere', shape_2='sphere', grid_1='default', grid_2='default')"
   ]
  },
  {
   "cell_type": "code",
   "execution_count": 21,
   "metadata": {},
   "outputs": [
    {
     "data": {
      "text/plain": [
       "[<matplotlib.lines.Line2D at 0x7f8a6e5eddc0>]"
      ]
     },
     "execution_count": 21,
     "metadata": {},
     "output_type": "execute_result"
    },
    {
     "data": {
      "image/png": "[encoded data removed]",
      "text/plain": [
       "<Figure size 432x288 with 1 Axes>"
      ]
     },
     "metadata": {
      "needs_background": "light"
     },
     "output_type": "display_data"
    }
   ],
   "source": [
    "f,ax = plt.subplots()\n",
    "ax.plot(dates,lc)"
   ]
  },
  {
   "cell_type": "code",
   "execution_count": null,
   "metadata": {},
   "outputs": [],
   "source": []
  }
 ],
 "metadata": {
  "kernelspec": {
   "display_name": "Python 3",
   "language": "python",
   "name": "python3"
  },
  "language_info": {
   "codemirror_mode": {
    "name": "ipython",
    "version": 3
   },
   "file_extension": ".py",
   "mimetype": "text/x-python",
   "name": "python",
   "nbconvert_exporter": "python",
   "pygments_lexer": "ipython3",
   "version": "3.8.5"
  }
 },
 "nbformat": 4,
 "nbformat_minor": 4
}
