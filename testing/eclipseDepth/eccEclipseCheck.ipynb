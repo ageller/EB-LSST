{
 "cells": [
  {
   "cell_type": "markdown",
   "metadata": {},
   "source": [
    "# Determine if an eccentric binary will eclipse\n",
    "\n",
    "https://ui.adsabs.harvard.edu/abs/2007PASP..119..986B/abstract\n",
    "\n",
    "http://www.jdso.org/volume13/number2/Harfenist_189-199.pdf"
   ]
  },
  {
   "cell_type": "code",
   "execution_count": 1,
   "metadata": {},
   "outputs": [],
   "source": [
    "import numpy as np\n",
    "import matplotlib.pyplot as plt\n",
    "from astropy import units, constants\n",
    "\n",
    "%matplotlib inline"
   ]
  },
  {
   "cell_type": "code",
   "execution_count": 2,
   "metadata": {},
   "outputs": [],
   "source": [
    "def getafromP(m1, m2, P):\n",
    "    #returns the semimajor axis from the period and stellar masses\n",
    "    return (((P**2.) * constants.G * (m1 + m2) / (4*np.pi**2.))**(1./3.)).decompose().to(units.AU)"
   ]
  },
  {
   "cell_type": "code",
   "execution_count": 3,
   "metadata": {},
   "outputs": [],
   "source": [
    "#from our code for circular binaries\n",
    "def checkEclipse(r1,r2,rp,inclination):\n",
    "    ratio = (r1 + r2)/rp #rp = 2a for circular orbits\n",
    "    if (ratio <= 1):\n",
    "        theta = np.arcsin(ratio)*180./np.pi\n",
    "        min_incl = 90. - theta\n",
    "        max_incl = 90. + theta\n",
    "        if (inclination <= min_incl or inclination >= max_incl):\n",
    "            return False\n",
    "    return True"
   ]
  },
  {
   "cell_type": "code",
   "execution_count": 16,
   "metadata": {},
   "outputs": [
    {
     "name": "stdout",
     "output_type": "stream",
     "text": [
      "0.4826490641022738 AU\n",
      "True\n"
     ]
    }
   ],
   "source": [
    "r1 = 1.*units.solRad\n",
    "r2 = 0.5*units.solRad\n",
    "per = 100.*units.day\n",
    "m1 = 1.*units.solMass\n",
    "m2 = 0.5*units.solMass\n",
    "semi = getafromP(m1, m2, per)\n",
    "print(semi)\n",
    "\n",
    "inclination = 90.\n",
    "\n",
    "\n",
    "print(checkEclipse(r1.to(units.AU).value, r2.to(units.AU).value , 2.*semi.to(units.AU).value, inclination))"
   ]
  },
  {
   "cell_type": "code",
   "execution_count": 17,
   "metadata": {},
   "outputs": [
    {
     "name": "stdout",
     "output_type": "stream",
     "text": [
      "[False, False, False, False, False, False, False, False, False, False, False, False, False, False, False, False, False, False, False, False, False, False, False, False, False, False, False, False, False, False, False, False, False, False, False, False, False, False, False, False, False, False, False, False, False, False, False, False, False, False, False, False, False, False, False, False, False, False, False, False, False, False, False, False, False, False, False, False, False, False, False, False, False, False, False, False, False, False, False, True, True, True, True, True, True, True, True, True, True, True, True, True, True, True, True, True, True, True, True, True]\n"
     ]
    }
   ],
   "source": [
    "N = 100\n",
    "inc = np.linspace(88, 90, N)\n",
    "testCirc = [checkEclipse(r1.to(units.AU).value, r2.to(units.AU).value , 2.*semi.to(units.AU).value, i) for i in inc]\n",
    "print(testCirc)"
   ]
  },
  {
   "cell_type": "code",
   "execution_count": 18,
   "metadata": {},
   "outputs": [
    {
     "data": {
      "text/plain": [
       "<matplotlib.collections.PathCollection at 0x7fa09e9d0e90>"
      ]
     },
     "execution_count": 18,
     "metadata": {},
     "output_type": "execute_result"
    },
    {
     "data": {
      "image/png": "[encoded data removed]",
      "text/plain": [
       "<Figure size 432x288 with 1 Axes>"
      ]
     },
     "metadata": {
      "needs_background": "light"
     },
     "output_type": "display_data"
    }
   ],
   "source": [
    "f,ax = plt.subplots()\n",
    "index = np.linspace(0,N,N)\n",
    "ax.scatter(index, inc)\n",
    "ecl = np.where(testCirc)\n",
    "ax.scatter(index[ecl],inc[ecl])\n"
   ]
  },
  {
   "cell_type": "code",
   "execution_count": 19,
   "metadata": {},
   "outputs": [],
   "source": [
    "#try using the python code radvel :https://radvel.readthedocs.io/en/latest/index.html\n",
    "#https://radvel.readthedocs.io/_/downloads/en/latest/pdf/\n",
    "import radvel"
   ]
  },
  {
   "cell_type": "code",
   "execution_count": 30,
   "metadata": {},
   "outputs": [
    {
     "name": "stdout",
     "output_type": "stream",
     "text": [
      "[100.78818499] 1.470058867665504 0.08409210783409979 AU 0.10082943995143769 AU 0.1849215477855375 AU 0.9652981282045476 AU\n",
      "[198.88231953] -1.7016222304054447 0.10390224937653933 AU 0.08206791464943032 AU 0.18597016402596966 AU 0.9652981282045476 AU\n"
     ]
    }
   ],
   "source": [
    "tp = 100 #time of periastron \n",
    "ecc = 0.9 # eccentricity\n",
    "omega = 0.12345 #argument of peri (radians)\n",
    "\n",
    "#primary\n",
    "ttrans = radvel.orbit.timeperi_to_timetrans(np.array([tp]), per.to(units.day).value, ecc, omega)\n",
    "ta = radvel.orbit.true_anomaly(ttrans, np.array([tp]), per.to(units.day).value, ecc)\n",
    "\n",
    "rp1 = semi*(1. - ecc*ecc)/(1. + ecc*np.cos(ta))\n",
    "rp2 = semi*(1. - ecc*ecc)/(1. + ecc*np.cos(ta + np.pi))\n",
    "rp = rp1 + rp2\n",
    "\n",
    "print(ttrans,ta, rp1, rp2, rp, 2.*semi)\n",
    "\n",
    "#secondary\n",
    "ttrans = radvel.orbit.timeperi_to_timetrans(np.array([tp]), per.to(units.day).value, ecc, omega, secondary=True)\n",
    "ta = radvel.orbit.true_anomaly(ttrans, np.array([tp]), per.to(units.day).value, ecc)\n",
    "\n",
    "rp1 = semi*(1. - ecc*ecc)/(1. + ecc*np.cos(ta))\n",
    "rp2 = semi*(1. - ecc*ecc)/(1. + ecc*np.cos(ta + np.pi))\n",
    "rp = rp1 + rp2\n",
    "\n",
    "print(ttrans,ta, rp1, rp2, rp, 2.*semi)"
   ]
  },
  {
   "cell_type": "code",
   "execution_count": 29,
   "metadata": {},
   "outputs": [
    {
     "data": {
      "text/plain": [
       "0.0"
      ]
     },
     "execution_count": 29,
     "metadata": {},
     "output_type": "execute_result"
    }
   ],
   "source": [
    "radvel.orbit.true_anomaly(np.array([100]), np.array([100]), per.to(units.day).value, ecc)"
   ]
  },
  {
   "cell_type": "code",
   "execution_count": 24,
   "metadata": {},
   "outputs": [],
   "source": [
    "N = 100\n",
    "inc = np.linspace(88, 90, N)\n",
    "testCirc = []\n",
    "testEcc = []\n",
    "for i in inc:\n",
    "    testCirc.append(checkEclipse(r1.to(units.AU).value, r2.to(units.AU).value , 2.*semi.to(units.AU).value, i))\n",
    "    testEcc.append(checkEclipse(r1.to(units.AU).value, r2.to(units.AU).value , rp.to(units.AU).value, i))"
   ]
  },
  {
   "cell_type": "code",
   "execution_count": 30,
   "metadata": {},
   "outputs": [
    {
     "data": {
      "text/plain": [
       "<matplotlib.collections.PathCollection at 0x7f82147334d0>"
      ]
     },
     "execution_count": 30,
     "metadata": {},
     "output_type": "execute_result"
    },
    {
     "data": {
      "image/png": "[encoded data removed]",
      "text/plain": [
       "<Figure size 432x288 with 1 Axes>"
      ]
     },
     "metadata": {
      "needs_background": "light"
     },
     "output_type": "display_data"
    }
   ],
   "source": [
    "f,ax = plt.subplots()\n",
    "index = np.linspace(0,N,N)\n",
    "\n",
    "ax.scatter(index, inc)\n",
    "ecl = np.where(testCirc)\n",
    "ax.scatter(index[ecl],inc[ecl])\n",
    "ecl = np.where(testEcc)\n",
    "\n",
    "ax.scatter(index[ecl],inc[ecl], facecolors='none', edgecolors='black', s=60)\n",
    "\n",
    "\n"
   ]
  },
  {
   "cell_type": "code",
   "execution_count": null,
   "metadata": {},
   "outputs": [],
   "source": [
    "#verify this with ellc?\n",
    "#I think I will have to rerun these, but I may not have to rerun everything.  \n",
    "#  If I take those that weren't observable, then choose a random argument of peri and t0, then check for eclipse\n",
    "#  and only run those that will eclipse.  Will that work?  But then I will also need to check the observable ones and \n",
    "#  limit those somehow... it will be much cleaner to just rerun everything... sigh!"
   ]
  }
 ],
 "metadata": {
  "kernelspec": {
   "display_name": "Python 3",
   "language": "python",
   "name": "python3"
  },
  "language_info": {
   "codemirror_mode": {
    "name": "ipython",
    "version": 3
   },
   "file_extension": ".py",
   "mimetype": "text/x-python",
   "name": "python",
   "nbconvert_exporter": "python",
   "pygments_lexer": "ipython3",
   "version": "3.7.9"
  }
 },
 "nbformat": 4,
 "nbformat_minor": 4
}
