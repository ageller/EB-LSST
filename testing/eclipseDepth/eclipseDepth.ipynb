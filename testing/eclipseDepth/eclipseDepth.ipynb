{
 "cells": [
  {
   "cell_type": "code",
   "execution_count": 17,
   "metadata": {},
   "outputs": [],
   "source": [
    "import numpy as np\n",
    "from astropy.coordinates import SkyCoord\n",
    "from astropy import units as u\n",
    "\n",
    "import ellc\n",
    "\n",
    "from matplotlib import pyplot as plt\n",
    "#%matplotlib notebook\n",
    "%matplotlib inline\n",
    "\n",
    "# %load_ext autoreload\n",
    "# %autoreload 2"
   ]
  },
  {
   "cell_type": "code",
   "execution_count": 24,
   "metadata": {},
   "outputs": [],
   "source": [
    "period = 10. #days\n",
    "eccentricity = 0.5\n",
    "omega = 50. #degrees\n",
    "q = 0.5\n",
    "R_1 = 0.02\n",
    "R_2 = 0.01\n",
    "inclination = 90\n",
    "sbratio = 0.2\n",
    "t_zero = 0\n",
    "obsDates = np.linspace(0,period, 10000)"
   ]
  },
  {
   "cell_type": "code",
   "execution_count": 27,
   "metadata": {},
   "outputs": [
    {
     "name": "stdout",
     "output_type": "stream",
     "text": [
      "[0.76190476 0.76190476 0.76190476 ... 0.76190476 0.76190476 0.76190476]\n"
     ]
    }
   ],
   "source": [
    "f_c = np.sqrt(eccentricity)*np.cos(omega*np.pi/180.)\n",
    "f_s = np.sqrt(eccentricity)*np.sin(omega*np.pi/180.)\n",
    "\n",
    "lc = ellc.lc(obsDates,\n",
    "    t_zero=t_zero, period=period, q=q,\n",
    "    f_c=f_c, f_s=f_s, \n",
    "    radius_1=R_1, radius_2=R_2, incl=inclination, sbratio=sbratio)\n",
    "lc = lc/np.max(lc) #maybe there's a better normalization?\n",
    "print(lc)"
   ]
  },
  {
   "cell_type": "code",
   "execution_count": 28,
   "metadata": {},
   "outputs": [
    {
     "data": {
      "text/plain": [
       "[<matplotlib.lines.Line2D at 0x1a1d3b06a0>]"
      ]
     },
     "execution_count": 28,
     "metadata": {},
     "output_type": "execute_result"
    },
    {
     "data": {
      "image/png": "[encoded data removed]",
      "text/plain": [
       "<Figure size 432x288 with 1 Axes>"
      ]
     },
     "metadata": {
      "needs_background": "light"
     },
     "output_type": "display_data"
    }
   ],
   "source": [
    "f,ax = plt.subplots()\n",
    "ax.plot(obsDates, lc, '.')"
   ]
  },
  {
   "cell_type": "code",
   "execution_count": null,
   "metadata": {},
   "outputs": [],
   "source": []
  }
 ],
 "metadata": {
  "kernelspec": {
   "display_name": "Python 3",
   "language": "python",
   "name": "python3"
  },
  "language_info": {
   "codemirror_mode": {
    "name": "ipython",
    "version": 3
   },
   "file_extension": ".py",
   "mimetype": "text/x-python",
   "name": "python",
   "nbconvert_exporter": "python",
   "pygments_lexer": "ipython3",
   "version": "3.7.3"
  }
 },
 "nbformat": 4,
 "nbformat_minor": 2
}
