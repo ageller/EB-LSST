{
 "cells": [
  {
   "cell_type": "markdown",
   "metadata": {},
   "source": [
    "# Test the algorithm to draw random Plummer distances"
   ]
  },
  {
   "cell_type": "code",
   "execution_count": 1,
   "metadata": {},
   "outputs": [],
   "source": [
    "import numpy as np\n",
    "import matplotlib.pyplot as plt\n",
    "\n",
    "%matplotlib inline"
   ]
  },
  {
   "cell_type": "code",
   "execution_count": 2,
   "metadata": {},
   "outputs": [],
   "source": [
    "def getd2D(rPlummer):\n",
    "\n",
    "    X1 = np.random.random(len(rPlummer))\n",
    "    X2 = np.random.random(len(rPlummer))\n",
    "    X3 = np.random.random(len(rPlummer))\n",
    "    zeta = (X1**(-2/3.) - 1.)**(-0.5)\n",
    "    r = zeta*rPlummer\n",
    "    #this is a 3D r; we need to make this 2D\n",
    "    z = 2.*r*X2 - r\n",
    "    x = (r**2. - z**2.)**0.5*np.cos(X3*2.*np.pi)\n",
    "    y = (r**2. - z**2.)**0.5*np.sin(X3*2.*np.pi)\n",
    "    d2D = (x**2. + y**2.)**0.5\n",
    "    \n",
    "    return d2D"
   ]
  },
  {
   "cell_type": "code",
   "execution_count": 3,
   "metadata": {},
   "outputs": [],
   "source": [
    "rh = 2.\n",
    "rPlummer = rh*(2**(2./3.) - 1.)**0.5\n",
    "Nvals = 1e5\n",
    "mass = 1."
   ]
  },
  {
   "cell_type": "code",
   "execution_count": 4,
   "metadata": {},
   "outputs": [],
   "source": [
    "d2D = getd2D(np.ones(int(Nvals))*rPlummer)\n",
    "\n",
    "#projected mass density\n",
    "d = np.linspace(0,10,1000)\n",
    "massDensity = mass/(np.pi*rPlummer**2.)*(1. + d**2./rPlummer**2.)**-2. #Msun/pc**2."
   ]
  },
  {
   "cell_type": "code",
   "execution_count": 5,
   "metadata": {},
   "outputs": [],
   "source": [
    "N, binEdges = np.histogram(d2D, bins=100, range=(0,10))\n",
    "db = binEdges[1] - binEdges[0]\n",
    "areas = []\n",
    "for i in range(len(binEdges)-1):\n",
    "    areas.append(np.pi*(binEdges[i+1]**2. - binEdges[i]**2.))\n",
    "areas = np.array(areas)"
   ]
  },
  {
   "cell_type": "code",
   "execution_count": 6,
   "metadata": {},
   "outputs": [
    {
     "data": {
      "text/plain": [
       "[<matplotlib.lines.Line2D at 0x11ee415f8>]"
      ]
     },
     "execution_count": 6,
     "metadata": {},
     "output_type": "execute_result"
    },
    {
     "data": {
      "image/png": "[encoded data removed]",
      "text/plain": [
       "<Figure size 432x288 with 1 Axes>"
      ]
     },
     "metadata": {
      "needs_background": "light"
     },
     "output_type": "display_data"
    }
   ],
   "source": [
    "f,ax = plt.subplots()\n",
    "\n",
    "sigma = N/areas\n",
    "ax.step(binEdges[:-1] + db/2., sigma/max(sigma))\n",
    "ax.plot(d, massDensity/max(massDensity))"
   ]
  },
  {
   "cell_type": "code",
   "execution_count": null,
   "metadata": {},
   "outputs": [],
   "source": []
  }
 ],
 "metadata": {
  "kernelspec": {
   "display_name": "Python 3",
   "language": "python",
   "name": "python3"
  },
  "language_info": {
   "codemirror_mode": {
    "name": "ipython",
    "version": 3
   },
   "file_extension": ".py",
   "mimetype": "text/x-python",
   "name": "python",
   "nbconvert_exporter": "python",
   "pygments_lexer": "ipython3",
   "version": "3.7.3"
  }
 },
 "nbformat": 4,
 "nbformat_minor": 2
}
