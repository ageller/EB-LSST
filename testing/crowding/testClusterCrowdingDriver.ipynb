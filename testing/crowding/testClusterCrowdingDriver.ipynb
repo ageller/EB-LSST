{
 "cells": [
  {
   "cell_type": "markdown",
   "metadata": {},
   "source": [
    "# Test my crowding code as if in the driver"
   ]
  },
  {
   "cell_type": "code",
   "execution_count": 1,
   "metadata": {},
   "outputs": [
    {
     "name": "stderr",
     "output_type": "stream",
     "text": [
      "/Users/ageller/anaconda3/lib/python3.7/site-packages/pysynphot/refs.py:118: UserWarning: No graph or component tables found; functionality will be SEVERELY crippled. No files found for /Users/ageller/python_scripts/PySynphotData/mtab/*_tmg.fits\n",
      "  'functionality will be SEVERELY crippled. ' + str(e))\n",
      "/Users/ageller/anaconda3/lib/python3.7/site-packages/pysynphot/refs.py:125: UserWarning: No thermal tables found, no thermal calculations can be performed. No files found for /Users/ageller/python_scripts/PySynphotData/mtab/*_tmt.fits\n",
      "  'no thermal calculations can be performed. ' + str(e))\n",
      "WARNING:root:Holoviews not imported. Some visualizations will not be available.\n",
      "WARNING:root:PyMultiNest not imported.  MultiNest fits will not work.\n",
      "WARNING:root:Emcee3 not imported; be advised.\n",
      "/Users/ageller/anaconda3/lib/python3.7/site-packages/numpy/lib/npyio.py:2286: VisibleDeprecationWarning: Reading unicode strings without specifying the encoding argument is deprecated. Set the encoding, use None for the system default.\n",
      "  output = genfromtxt(fname, **kwargs)\n",
      "WARNING:root:sklearn not available\n",
      "WARNING:root:progressbar not imported\n"
     ]
    }
   ],
   "source": [
    "import pandas as pd\n",
    "import numpy as np\n",
    "\n",
    "import sys\n",
    "sys.path.insert(0, '/Users/ageller/WORK/LSST/onGitHub/EBLSST/code')\n",
    "from LSSTEBClusterWorker import LSSTEBClusterWorker\n",
    "from OpSim import OpSim\n",
    "from getClusterBinaries import getClusterBinaries\n",
    "\n",
    "%load_ext autoreload\n",
    "%autoreload 2"
   ]
  },
  {
   "cell_type": "code",
   "execution_count": 2,
   "metadata": {},
   "outputs": [
    {
     "data": {
      "text/html": [
       "<div>\n",
       "<style scoped>\n",
       "    .dataframe tbody tr th:only-of-type {\n",
       "        vertical-align: middle;\n",
       "    }\n",
       "\n",
       "    .dataframe tbody tr th {\n",
       "        vertical-align: top;\n",
       "    }\n",
       "\n",
       "    .dataframe thead th {\n",
       "        text-align: right;\n",
       "    }\n",
       "</style>\n",
       "<table border=\"1\" class=\"dataframe\">\n",
       "  <thead>\n",
       "    <tr style=\"text-align: right;\">\n",
       "      <th></th>\n",
       "      <th>ID</th>\n",
       "      <th>RA[hr]</th>\n",
       "      <th>Dec[deg]</th>\n",
       "      <th>dist[pc]</th>\n",
       "      <th>rhm[pc]</th>\n",
       "      <th>mass[Msun]</th>\n",
       "      <th>age[Myr]</th>\n",
       "      <th>[Fe/H]</th>\n",
       "      <th>sigma_v0_z[km/s]</th>\n",
       "      <th>OpSimID</th>\n",
       "      <th>OpSimRA[deg]</th>\n",
       "      <th>OpSimDec[deg]</th>\n",
       "    </tr>\n",
       "  </thead>\n",
       "  <tbody>\n",
       "    <tr>\n",
       "      <th>59</th>\n",
       "      <td>NGC 6254</td>\n",
       "      <td>16 57 09.05</td>\n",
       "      <td>-04 06 01.1</td>\n",
       "      <td>4400.0</td>\n",
       "      <td>2.495821</td>\n",
       "      <td>177431.202408</td>\n",
       "      <td>10345.238095</td>\n",
       "      <td>-1.56</td>\n",
       "      <td>6.6</td>\n",
       "      <td>2413.0</td>\n",
       "      <td>253.606593</td>\n",
       "      <td>-5.090318</td>\n",
       "    </tr>\n",
       "  </tbody>\n",
       "</table>\n",
       "</div>"
      ],
      "text/plain": [
       "          ID       RA[hr]     Dec[deg]  dist[pc]   rhm[pc]     mass[Msun]  \\\n",
       "59  NGC 6254  16 57 09.05  -04 06 01.1    4400.0  2.495821  177431.202408   \n",
       "\n",
       "        age[Myr]  [Fe/H]  sigma_v0_z[km/s]  OpSimID  OpSimRA[deg]  \\\n",
       "59  10345.238095   -1.56               6.6   2413.0    253.606593   \n",
       "\n",
       "    OpSimDec[deg]  \n",
       "59      -5.090318  "
      ]
     },
     "execution_count": 2,
     "metadata": {},
     "output_type": "execute_result"
    }
   ],
   "source": [
    "GCDF = pd.read_csv(\"/Users/ageller/WORK/LSST/onGitHub/EBLSST/input/clusters/GCdataForEBLSST.csv\").fillna(0.)\n",
    "field = GCDF.loc[GCDF['ID'] == 'NGC 6254'] #M10 GC\n",
    "field"
   ]
  },
  {
   "cell_type": "code",
   "execution_count": 3,
   "metadata": {},
   "outputs": [
    {
     "name": "stdout",
     "output_type": "stream",
     "text": [
      "have summary cursor.\n",
      "have field cursor.\n"
     ]
    }
   ],
   "source": [
    "OpS = OpSim()\n",
    "OpS.dbFile = '/Users/ageller/WORK/LSST/onGitHub/EBLSST/input/db/baseline2018a.db'\n",
    "OpS.getCursors()"
   ]
  },
  {
   "cell_type": "code",
   "execution_count": 4,
   "metadata": {},
   "outputs": [],
   "source": [
    "OpS.fieldID = field['OpSimID'].values\n",
    "OpS.RA = field['OpSimRA[deg]'].values\n",
    "OpS.Dec = field['OpSimDec[deg]'].values\n",
    "OpS.obsDates = np.full_like(OpS.fieldID, dict(), dtype=dict)\n",
    "OpS.NobsDates = np.full_like(OpS.fieldID, dict(), dtype=dict)\n",
    "OpS.m_5 = np.full_like(OpS.fieldID, dict(), dtype=dict)\n",
    "OpS.totalNobs = np.full_like(OpS.fieldID, 0)"
   ]
  },
  {
   "cell_type": "code",
   "execution_count": 5,
   "metadata": {},
   "outputs": [
    {
     "name": "stdout",
     "output_type": "stream",
     "text": [
      "total number of OpSim observation dates (all filters) = 951.0\n"
     ]
    },
    {
     "data": {
      "text/plain": [
       "True"
      ]
     },
     "execution_count": 5,
     "metadata": {},
     "output_type": "execute_result"
    }
   ],
   "source": [
    "OpSimi = 0\n",
    "worker = LSSTEBClusterWorker()\n",
    "worker.filterFilesRoot = '/Users/ageller/WORK/LSST/onGitHub/EBLSST/input/filters/'\n",
    "worker.clusterName = field['ID'].values\n",
    "worker.clusterMass = field['mass[Msun]'].values\n",
    "worker.clusterDistance = field['dist[pc]'].values/1000.\n",
    "worker.clusterMetallicity = field['[Fe/H]'].values\n",
    "worker.clusterAge = field['age[Myr]'].values\n",
    "worker.clusterRhm = field['rhm[pc]'].values\n",
    "worker.clusterVdisp = field['sigma_v0_z[km/s]'].values\n",
    "    \n",
    "worker.OpSim = OpS\n",
    "\n",
    "worker.seed = 1111\n",
    "\n",
    "worker.initialize(OpSimi)"
   ]
  },
  {
   "cell_type": "code",
   "execution_count": 6,
   "metadata": {},
   "outputs": [
    {
     "name": "stderr",
     "output_type": "stream",
     "text": [
      "/Users/ageller/WORK/LSST/onGitHub/EBLSST/code/vespa_update/trilegal.py:99: FutureWarning: read_table is deprecated, use read_csv instead.\n",
      "  df = pd.read_table(outfile, sep='\\s+', skipfooter=1, engine='python')\n"
     ]
    },
    {
     "name": "stdout",
     "output_type": "stream",
     "text": [
      "downloaded TRILEGAL model for ID=2413.0, RA=253.606593, DEC=-5.090318, Nstars=409325.0, Nstars/resEl=0.0006445656966490301\n"
     ]
    }
   ],
   "source": [
    "worker.galDir = 'TRILEGALmodels'\n",
    "worker.getGalaxy(OpSimi)"
   ]
  },
  {
   "cell_type": "code",
   "execution_count": 8,
   "metadata": {},
   "outputs": [
    {
     "name": "stdout",
     "output_type": "stream",
     "text": [
      "sampling cluster NGC 6254\n",
      "initial binary input: 1111 10345.238095238095 -1.56 100 6.6 4.0\n",
      "Number of binaries 70\n",
      "!!!!! CHECK THIS: new COSMIC does not give values in the log!\n"
     ]
    }
   ],
   "source": [
    "worker.n_bin = 100\n",
    "clusterDat = worker.sampleCluster(OpSimi)"
   ]
  },
  {
   "cell_type": "code",
   "execution_count": 15,
   "metadata": {},
   "outputs": [
    {
     "name": "stdout",
     "output_type": "stream",
     "text": [
      "[0.8375679309455127 0.6207229239740351 0.5403294747908738\n",
      " 0.010209538408000141 1.0230141030024076 1.0292046948838147\n",
      " 1.0000095550520773 1.0000183863382084 None None None 4.4\n",
      " 1.5707963267948966 2.5920156064693947 2.6303476602435496 None -1.56 inf\n",
      " inf 11.0 11.0]\n",
      "1.9128495433910215\n",
      "getting crowding ... \n"
     ]
    },
    {
     "ename": "NameError",
     "evalue": "name 'rPlummer' is not defined",
     "output_type": "error",
     "traceback": [
      "\u001b[0;31m---------------------------------------------------------------------------\u001b[0m",
      "\u001b[0;31mNameError\u001b[0m                                 Traceback (most recent call last)",
      "\u001b[0;32m<ipython-input-15-4c48215ebe8b>\u001b[0m in \u001b[0;36m<module>\u001b[0;34m\u001b[0m\n\u001b[1;32m      7\u001b[0m \u001b[0mprint\u001b[0m\u001b[0;34m(\u001b[0m\u001b[0mline\u001b[0m\u001b[0;34m)\u001b[0m\u001b[0;34m\u001b[0m\u001b[0;34m\u001b[0m\u001b[0m\n\u001b[1;32m      8\u001b[0m \u001b[0mprint\u001b[0m\u001b[0;34m(\u001b[0m\u001b[0mworker\u001b[0m\u001b[0;34m.\u001b[0m\u001b[0mEB\u001b[0m\u001b[0;34m.\u001b[0m\u001b[0mcrowding\u001b[0m\u001b[0;34m.\u001b[0m\u001b[0mrPlummer\u001b[0m\u001b[0;34m)\u001b[0m\u001b[0;34m\u001b[0m\u001b[0;34m\u001b[0m\u001b[0m\n\u001b[0;32m----> 9\u001b[0;31m \u001b[0mEB\u001b[0m \u001b[0;34m=\u001b[0m \u001b[0mworker\u001b[0m\u001b[0;34m.\u001b[0m\u001b[0mgetEB\u001b[0m\u001b[0;34m(\u001b[0m\u001b[0mline\u001b[0m\u001b[0;34m,\u001b[0m \u001b[0mOpSimi\u001b[0m\u001b[0;34m=\u001b[0m\u001b[0mOpSimi\u001b[0m\u001b[0;34m)\u001b[0m\u001b[0;34m\u001b[0m\u001b[0;34m\u001b[0m\u001b[0m\n\u001b[0m\u001b[1;32m     10\u001b[0m \u001b[0;34m\u001b[0m\u001b[0m\n\u001b[1;32m     11\u001b[0m \u001b[0;34m\u001b[0m\u001b[0m\n",
      "\u001b[0;32m~/WORK/LSST/onGitHub/EBLSST/code/LSSTEBClusterWorker.py\u001b[0m in \u001b[0;36mgetEB\u001b[0;34m(self, line, OpSimi)\u001b[0m\n\u001b[1;32m    293\u001b[0m \u001b[0;34m\u001b[0m\u001b[0m\n\u001b[1;32m    294\u001b[0m \u001b[0;34m\u001b[0m\u001b[0m\n\u001b[0;32m--> 295\u001b[0;31m                 \u001b[0mself\u001b[0m\u001b[0;34m.\u001b[0m\u001b[0mEB\u001b[0m\u001b[0;34m.\u001b[0m\u001b[0minitialize\u001b[0m\u001b[0;34m(\u001b[0m\u001b[0;34m)\u001b[0m\u001b[0;34m\u001b[0m\u001b[0;34m\u001b[0m\u001b[0m\n\u001b[0m\u001b[1;32m    296\u001b[0m \u001b[0;34m\u001b[0m\u001b[0m\n\u001b[1;32m    297\u001b[0m                 \u001b[0;31m#some counters for how many self.EBs we could potentially observe with LSST\u001b[0m\u001b[0;34m\u001b[0m\u001b[0;34m\u001b[0m\u001b[0;34m\u001b[0m\u001b[0m\n",
      "\u001b[0;32m~/WORK/LSST/onGitHub/EBLSST/code/EclipsingBinary.py\u001b[0m in \u001b[0;36minitialize\u001b[0;34m(self)\u001b[0m\n\u001b[1;32m    597\u001b[0m                 \u001b[0;31m#this now covers the galaxy and the cluster, if available\u001b[0m\u001b[0;34m\u001b[0m\u001b[0;34m\u001b[0m\u001b[0;34m\u001b[0m\u001b[0m\n\u001b[1;32m    598\u001b[0m                 \u001b[0;32mif\u001b[0m \u001b[0;34m(\u001b[0m\u001b[0mself\u001b[0m\u001b[0;34m.\u001b[0m\u001b[0mobservable\u001b[0m \u001b[0;32mand\u001b[0m \u001b[0mself\u001b[0m\u001b[0;34m.\u001b[0m\u001b[0mcrowding\u001b[0m \u001b[0;34m!=\u001b[0m \u001b[0;32mNone\u001b[0m\u001b[0;34m)\u001b[0m\u001b[0;34m:\u001b[0m\u001b[0;34m\u001b[0m\u001b[0;34m\u001b[0m\u001b[0m\n\u001b[0;32m--> 599\u001b[0;31m                         \u001b[0mself\u001b[0m\u001b[0;34m.\u001b[0m\u001b[0mcrowding\u001b[0m\u001b[0;34m.\u001b[0m\u001b[0mgetCrowding\u001b[0m\u001b[0;34m(\u001b[0m\u001b[0;34m)\u001b[0m\u001b[0;34m\u001b[0m\u001b[0;34m\u001b[0m\u001b[0m\n\u001b[0m\u001b[1;32m    600\u001b[0m                         \u001b[0;32mfor\u001b[0m \u001b[0mf\u001b[0m \u001b[0;32min\u001b[0m \u001b[0mself\u001b[0m\u001b[0;34m.\u001b[0m\u001b[0mfilters\u001b[0m\u001b[0;34m:\u001b[0m\u001b[0;34m\u001b[0m\u001b[0;34m\u001b[0m\u001b[0m\n\u001b[1;32m    601\u001b[0m                                 \u001b[0mself\u001b[0m\u001b[0;34m.\u001b[0m\u001b[0mlight_3\u001b[0m\u001b[0;34m[\u001b[0m\u001b[0mf\u001b[0m\u001b[0;34m]\u001b[0m \u001b[0;34m=\u001b[0m \u001b[0mself\u001b[0m\u001b[0;34m.\u001b[0m\u001b[0mcrowding\u001b[0m\u001b[0;34m.\u001b[0m\u001b[0mbackgroundFlux\u001b[0m\u001b[0;34m[\u001b[0m\u001b[0mf\u001b[0m\u001b[0;34m]\u001b[0m\u001b[0;34m/\u001b[0m\u001b[0;34m(\u001b[0m\u001b[0mself\u001b[0m\u001b[0;34m.\u001b[0m\u001b[0mFv1\u001b[0m\u001b[0;34m[\u001b[0m\u001b[0mf\u001b[0m\u001b[0;34m]\u001b[0m \u001b[0;34m+\u001b[0m \u001b[0mself\u001b[0m\u001b[0;34m.\u001b[0m\u001b[0mFv2\u001b[0m\u001b[0;34m[\u001b[0m\u001b[0mf\u001b[0m\u001b[0;34m]\u001b[0m\u001b[0;34m)\u001b[0m\u001b[0;34m\u001b[0m\u001b[0;34m\u001b[0m\u001b[0m\n",
      "\u001b[0;32m~/WORK/LSST/onGitHub/EBLSST/code/crowding.py\u001b[0m in \u001b[0;36mgetCrowding\u001b[0;34m(self)\u001b[0m\n\u001b[1;32m    222\u001b[0m \u001b[0;34m\u001b[0m\u001b[0m\n\u001b[1;32m    223\u001b[0m                 \u001b[0;32mif\u001b[0m \u001b[0;34m(\u001b[0m\u001b[0mself\u001b[0m\u001b[0;34m.\u001b[0m\u001b[0mrPlummer\u001b[0m \u001b[0;34m!=\u001b[0m \u001b[0;32mNone\u001b[0m\u001b[0;34m)\u001b[0m\u001b[0;34m:\u001b[0m\u001b[0;34m\u001b[0m\u001b[0;34m\u001b[0m\u001b[0m\n\u001b[0;32m--> 224\u001b[0;31m                         \u001b[0mself\u001b[0m\u001b[0;34m.\u001b[0m\u001b[0mgenerateClusterSingles\u001b[0m\u001b[0;34m(\u001b[0m\u001b[0;34m)\u001b[0m\u001b[0;34m\u001b[0m\u001b[0;34m\u001b[0m\u001b[0m\n\u001b[0m\u001b[1;32m    225\u001b[0m \u001b[0;34m\u001b[0m\u001b[0m\n\u001b[1;32m    226\u001b[0m                 \u001b[0;32mif\u001b[0m \u001b[0;34m(\u001b[0m\u001b[0mself\u001b[0m\u001b[0;34m.\u001b[0m\u001b[0mGalaxy\u001b[0m \u001b[0;34m!=\u001b[0m \u001b[0;32mNone\u001b[0m\u001b[0;34m)\u001b[0m\u001b[0;34m:\u001b[0m\u001b[0;34m\u001b[0m\u001b[0;34m\u001b[0m\u001b[0m\n",
      "\u001b[0;32m~/WORK/LSST/onGitHub/EBLSST/code/crowding.py\u001b[0m in \u001b[0;36mgenerateClusterSingles\u001b[0;34m(self)\u001b[0m\n\u001b[1;32m     78\u001b[0m                 \u001b[0;31m#draw from a Plummer star clusters distribution\u001b[0m\u001b[0;34m\u001b[0m\u001b[0;34m\u001b[0m\u001b[0;34m\u001b[0m\u001b[0m\n\u001b[1;32m     79\u001b[0m                 \u001b[0;32mif\u001b[0m \u001b[0;34m(\u001b[0m\u001b[0mself\u001b[0m\u001b[0;34m.\u001b[0m\u001b[0mxBinary\u001b[0m \u001b[0;34m==\u001b[0m \u001b[0;32mNone\u001b[0m\u001b[0;34m)\u001b[0m\u001b[0;34m:\u001b[0m\u001b[0;34m\u001b[0m\u001b[0;34m\u001b[0m\u001b[0m\n\u001b[0;32m---> 80\u001b[0;31m                         \u001b[0md2D\u001b[0m\u001b[0;34m,\u001b[0m \u001b[0mself\u001b[0m\u001b[0;34m.\u001b[0m\u001b[0mxBinary\u001b[0m\u001b[0;34m,\u001b[0m \u001b[0mself\u001b[0m\u001b[0;34m.\u001b[0m\u001b[0myBinary\u001b[0m\u001b[0;34m,\u001b[0m \u001b[0mself\u001b[0m\u001b[0;34m.\u001b[0m\u001b[0mzBinary\u001b[0m \u001b[0;34m=\u001b[0m \u001b[0mgetd2D\u001b[0m\u001b[0;34m(\u001b[0m\u001b[0;34m[\u001b[0m\u001b[0mrPlummer\u001b[0m\u001b[0;34m]\u001b[0m\u001b[0;34m)\u001b[0m\u001b[0;34m\u001b[0m\u001b[0;34m\u001b[0m\u001b[0m\n\u001b[0m\u001b[1;32m     81\u001b[0m \u001b[0;34m\u001b[0m\u001b[0m\n\u001b[1;32m     82\u001b[0m                 \u001b[0md2d\u001b[0m\u001b[0;34m,\u001b[0m \u001b[0mx\u001b[0m\u001b[0;34m,\u001b[0m \u001b[0my\u001b[0m\u001b[0;34m,\u001b[0m \u001b[0mz\u001b[0m \u001b[0;34m=\u001b[0m \u001b[0mgetd2D\u001b[0m\u001b[0;34m(\u001b[0m\u001b[0mnp\u001b[0m\u001b[0;34m.\u001b[0m\u001b[0mones\u001b[0m\u001b[0;34m(\u001b[0m\u001b[0mint\u001b[0m\u001b[0;34m(\u001b[0m\u001b[0mnp\u001b[0m\u001b[0;34m.\u001b[0m\u001b[0mround\u001b[0m\u001b[0;34m(\u001b[0m\u001b[0mself\u001b[0m\u001b[0;34m.\u001b[0m\u001b[0mNcl\u001b[0m\u001b[0;34m)\u001b[0m\u001b[0;34m)\u001b[0m\u001b[0;34m)\u001b[0m\u001b[0;34m*\u001b[0m\u001b[0mself\u001b[0m\u001b[0;34m.\u001b[0m\u001b[0mrPlummer\u001b[0m\u001b[0;34m)\u001b[0m\u001b[0;34m\u001b[0m\u001b[0;34m\u001b[0m\u001b[0m\n",
      "\u001b[0;31mNameError\u001b[0m: name 'rPlummer' is not defined"
     ]
    }
   ],
   "source": [
    "i=1\n",
    "line= clusterDat[i]\n",
    "#change the inclination\n",
    "line[12] = np.pi/2.\n",
    "#change the period\n",
    "line[2] = np.log10(3.47)\n",
    "print(line)\n",
    "print(worker.EB.crowding.rPlummer)\n",
    "\n",
    "#!!!!!!NEED TO DEFINE xBinary and yBinary in worker\n",
    "\n",
    "EB = worker.getEB(line, OpSimi=OpSimi)\n",
    "\n",
    "\n",
    "print(worker.EB.crowding.backgroundFlux)\n",
    "print(worker.EB.crowding.backgroundMag)"
   ]
  },
  {
   "cell_type": "code",
   "execution_count": null,
   "metadata": {},
   "outputs": [],
   "source": [
    "#now plot the crowding\n",
    "f,ax = plt.subplots(1,6, figsize=(15, 5))\n",
    "for i,f in enumerate(filters):\n",
    "    ax[i].pcolormesh(worker.EB.crowding.xgrid, worker.EB.crowding.ygrid, \n",
    "                     worker.EB.crowding.fluxgrid[f])#, norm=colors.LogNorm())\n",
    "    ax[i].set_aspect(1)\n",
    "    ax[i].set_title(f)\n",
    "    ax[i].scatter(worker.EB.crowding.clusterSingles['xAng'], \n",
    "                  worker.EB.crowding.clusterSingles['yAng'], s=3, color='white')"
   ]
  },
  {
   "cell_type": "code",
   "execution_count": null,
   "metadata": {},
   "outputs": [],
   "source": [
    "#check light_3\n",
    "\n",
    "#also check the light curve\n",
    "#worker.run_ellc(0)"
   ]
  }
 ],
 "metadata": {
  "kernelspec": {
   "display_name": "Python 3",
   "language": "python",
   "name": "python3"
  },
  "language_info": {
   "codemirror_mode": {
    "name": "ipython",
    "version": 3
   },
   "file_extension": ".py",
   "mimetype": "text/x-python",
   "name": "python",
   "nbconvert_exporter": "python",
   "pygments_lexer": "ipython3",
   "version": "3.7.3"
  }
 },
 "nbformat": 4,
 "nbformat_minor": 2
}
