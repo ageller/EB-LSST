{
 "cells": [
  {
   "cell_type": "code",
   "execution_count": null,
   "metadata": {
    "collapsed": true
   },
   "outputs": [],
   "source": [
    "import matplotlib.pyplot as plt\n",
    "import matplotlib as mpl\n",
    "from matplotlib.ticker import FuncFormatter\n",
    "import numpy as np\n",
    "%matplotlib inline\n",
    "\n",
    "import seaborn as sns\n",
    "\n",
    "import pandas as pd\n",
    "\n",
    "import argparse\n",
    "import ellc\n",
    "\n",
    "import gatspy\n",
    "from gatspy import datasets, periodic\n",
    "from gatspy.periodic import LombScargleMultiband, LombScargle\n",
    "\n",
    "import astropy\n",
    "from astropy import units, constants\n",
    "\n",
    "import csv\n",
    "import pylab\n",
    "\n",
    "from scipy import stats"
   ]
  },
  {
   "cell_type": "code",
   "execution_count": null,
   "metadata": {
    "collapsed": true
   },
   "outputs": [],
   "source": [
    "dat = pd.read_csv('Thesis_dat_42918.csv', sep=\",\", header=0)\n",
    "#print (dat)"
   ]
  },
  {
   "cell_type": "code",
   "execution_count": null,
   "metadata": {
    "collapsed": true
   },
   "outputs": [],
   "source": [
    "PeriodIn = dat[\"PERIOD\"]\n",
    "PeriodOut = dat[\"LSM_PERIOD\"]\n",
    "INCL = dat[\"INCLINATION\"]\n",
    "MIN_INCL = dat[\"MIN_INCLINATION\"]\n",
    "mass_1 = dat[\"MASS_1\"]\n",
    "mass_2 = dat[\"MASS_2\"]\n",
    "mass_rat = mass_2/mass_1\n",
    "radius_1 = dat[\"RADIUS_1\"]\n",
    "radius_2 = dat[\"RADIUS_2\"]\n",
    "radius_rat = radius_2/radius_1\n",
    "AppMagError = dat[\"appmag_error\"]\n",
    "InclinationError = dat[\"inclination_error\"]\n",
    "PeriodError = dat[\"period_error\"]\n",
    "RadiusError = dat[\"radius_error\"]\n",
    "#will change to just radius_error for new data\n",
    "MaxAppmag = dat[\"max(app_magnitude)\"]\n",
    "delta_mag = dat[\"delta_mag\"]\n",
    "Chi2 = dat[\"chi2\"]\n",
    "delmag = abs(MaxAppmag - delta_mag)\n",
    "Avg_sigma = dat[\"mean(dmag)\"]\n",
    "dist_kpc = dat['dist_kpc']\n",
    "ecc = dat['eccentricity']\n",
    "Sigma_Period_Whole = abs(PeriodOut - PeriodIn)/PeriodIn\n",
    "Sigma_Period_Half = abs(PeriodOut - 0.5*PeriodIn)/(0.5*PeriodIn)\n",
    "Sigma_Period_Twice = abs(PeriodOut - 2*PeriodIn)/(2*PeriodIn)\n",
    "\n",
    "obs = np.where(PeriodOut != -999)[0]\n",
    "\n",
    "ten = np.where(PeriodIn <= 10.)[0]\n",
    "tenten = np.where(PeriodOut[ten] != -999)[0]\n",
    "\n",
    "#prsamag = np.where(np.logical_and(MaxAppmag <= 24., MaxAppmag >= 16.))[0]\n",
    "#prsa = np.where(PeriodIn[prsamag] <= 1000.)[0]\n",
    "prsa = np.where(np.logical_and( np.logical_and(MaxAppmag <= 22., MaxAppmag >= 16.), PeriodIn <=1000))[0]\n",
    "prsaobs = np.where(PeriodOut[prsa] != -999)[0]\n",
    "\n",
    "usetwice = np.where(np.logical_and(np.isfinite(Sigma_Period_Twice), Sigma_Period_Twice <= 0.1))[0]\n",
    "usehalf = np.where(np.logical_and(np.isfinite(Sigma_Period_Half), Sigma_Period_Half <= 0.1))[0]\n",
    "usewhole = np.where(np.logical_and(np.isfinite(Sigma_Period_Whole), Sigma_Period_Whole <= 0.1))[0]\n",
    "\n",
    "usetwice10 = np.where(np.logical_and(np.isfinite(Sigma_Period_Twice[ten]), Sigma_Period_Twice[ten] <= 0.1))[0]\n",
    "usehalf10 = np.where(np.logical_and(np.isfinite(Sigma_Period_Half[ten]), Sigma_Period_Half[ten] <= 0.1))[0]\n",
    "usewhole10 = np.where(np.logical_and(np.isfinite(Sigma_Period_Whole[ten]), Sigma_Period_Whole[ten] <= 0.1))[0]\n",
    "\n",
    "usetwicep = np.where(np.logical_and(np.isfinite(Sigma_Period_Twice[prsa]), Sigma_Period_Twice[prsa] <= 0.1))[0]\n",
    "usehalfp = np.where(np.logical_and(np.isfinite(Sigma_Period_Half[prsa]), Sigma_Period_Half[prsa] <= 0.1))[0]\n",
    "usewholep = np.where(np.logical_and(np.isfinite(Sigma_Period_Whole[prsa]), Sigma_Period_Whole[prsa] <= 0.1))[0]\n",
    "\n",
    "use = np.concatenate((usehalf, usewhole, usetwice), axis=0)\n",
    "\n",
    "use10 = np.concatenate((usehalf10, usewhole10, usetwice10), axis=0)\n",
    "\n",
    "usep = np.concatenate((usehalfp, usewholep, usetwicep), axis=0)\n",
    "\n",
    "\n",
    "n_i = len(np.where(InclinationError ==1)[0])\n",
    "n_p = len(np.where(PeriodError ==1)[0])\n",
    "n_r = len(np.where(RadiusError == 1)[0])\n",
    "n_am = len(np.where(AppMagError ==1)[0])\n",
    "\n",
    "\n",
    "\n",
    "N0 = len(PeriodOut)\n",
    "N1 = len(np.where(PeriodOut != -999)[0])\n",
    "N2 = float(len(use))\n",
    "N10 = float(len(tenten))\n",
    "N11 = float(len(use10))\n",
    "\n",
    "Npobs = float(len(prsaobs))\n",
    "Npid = float(len(usep))\n",
    "\n",
    "print (\"For periods under 10 days - identification = \", N11/N10 * 100, \"%\")\n",
    "print (\"For Prsa conditions - periods 0-1000, appmag 16-22 - identification = \", Npid/Npobs * 100, \"%\")\n",
    "\n",
    "print (\"total number of binaries RUN = \", len(PeriodOut))\n",
    "print (\"total number of binaries NOT EXCLUDED (OBSERVED) = \", len(np.where(PeriodOut != -999)[0]))\n",
    "print (\"##################################\")\n",
    "print (\"number binaries excluded for INCLINATION errors = \", len(np.where(InclinationError == 1)[0]))\n",
    "print (\"PERCENT INCLINATION errors = \", (n_i/(N0- N1))* 100, \"%\")\n",
    "print (\"number binaries excluded for PERIOD errors = \", len(np.where(PeriodError ==1)[0]))\n",
    "print (\"PERCENT PERIOD errors = \", (n_p/(N0- N1))* 100, \"%\")\n",
    "print (\"number of binaries excluded for APPARENT MAGNITUDE errors = \", len(np.where(AppMagError ==1)[0]))\n",
    "print (\"PERCENT APPARENT MAGNITUDE errors = \", (n_am/(N0- N1))* 100, \"%\")\n",
    "print (\"number binaries excluded for RADIUS errors = \", len(np.where(RadiusError == 1)[0]))\n",
    "print (\"PERCENT RADIUS errors = \", (n_r/(N0- N1))* 100, \"%\")\n",
    "print (\"##################################\")\n",
    "print (\"total number of acceptable ~IDENTIFICATIONS~ = \", len(use))\n",
    "print (\"number WHOLE periods returned = \", len(usewhole))\n",
    "print (\"number HALF periods returned = \", len(usehalf))\n",
    "print (\"number TWICE periods returned = \", len(usetwice))\n",
    "print (\"##################################\")\n",
    "print (\"Percent of run binaries observed = \", (N1/N0)*100, \"%\")\n",
    "print(\"Percent of observed binaries identified = \",(N2/N1) * 100, \"%\")"
   ]
  },
  {
   "cell_type": "code",
   "execution_count": null,
   "metadata": {
    "collapsed": true
   },
   "outputs": [],
   "source": [
    "mpl.rcParams.update({'font.size': 40})\n",
    "mpl.rcParams['xtick.minor.size'] = 10\n",
    "mpl.rcParams['ytick.minor.size'] = 10\n",
    "mpl.rcParams['xtick.minor.width'] = 3\n",
    "mpl.rcParams['ytick.minor.width'] = 3\n",
    "mpl.rcParams['xtick.major.size'] = 15\n",
    "mpl.rcParams['ytick.major.size'] = 15\n",
    "mpl.rcParams['xtick.major.width'] = 3\n",
    "mpl.rcParams['ytick.major.width'] = 3"
   ]
  },
  {
   "cell_type": "markdown",
   "metadata": {},
   "source": [
    "# Period #"
   ]
  },
  {
   "cell_type": "code",
   "execution_count": null,
   "metadata": {
    "collapsed": true
   },
   "outputs": [],
   "source": [
    "pcd = plt.figure(figsize=(30,15))\n",
    "values, base = np.histogram(PeriodIn, bins=np.sort(PeriodIn))\n",
    "cumulative = np.cumsum(values)\n",
    "cumulative = cumulative/max(cumulative)\n",
    "#make an additional cumulative dist for PeriodIn < 5d, or 10d?\n",
    "plt.step(base[:-1], cumulative, linestyle = ':', linewidth = 5, color = 'k', label = \"All binaries\")\n",
    "values, base = np.histogram(PeriodIn[obs], bins=np.sort(PeriodIn[obs]))\n",
    "cumulative = np.cumsum(values)\n",
    "cumulative = cumulative/max(cumulative)\n",
    "plt.step(base[:-1], cumulative, linestyle = '-.', linewidth = 5, color='k', label = \"LSST-detectable EBs\")\n",
    "values, base = np.histogram(PeriodIn[use], bins=np.sort(PeriodIn[use]))\n",
    "cumulative = np.cumsum(values)\n",
    "cumulative = cumulative/max(cumulative)\n",
    "plt.step(base[:-1], cumulative, linestyle = '-', linewidth = 5, color='k', label = \"Identified EBs\")\n",
    "plt.xlabel(\"Input period (days) \")\n",
    "plt.ylabel(\"Fraction of population\")\n",
    "plt.legend(loc = 'best')\n",
    "plt.xlim(0,20)\n",
    "#Totally arbitrary limit... maybe would work better in log?\n",
    "plt.show()\n",
    "pcd.set_rasterized(True)\n",
    "pcd.savefig(\"periodin_cumulativedistribution.eps\")\n",
    "pcd.savefig(\"periodin_cumulativedistribution.pdf\")\n",
    "\n",
    "logpcd = plt.figure(figsize=(30,15))\n",
    "values, base = np.histogram(np.log10(PeriodIn), bins=np.sort(np.log10(PeriodIn)))\n",
    "cumulative = np.cumsum(values)\n",
    "cumulative = cumulative/max(cumulative)\n",
    "#make an additional cumulative dist for PeriodIn < 5d, or 10d?\n",
    "plt.step(base[:-1], cumulative, linestyle = ':', linewidth = 5, color = 'k', label = \"All binaries\")\n",
    "values, base = np.histogram(np.log10(PeriodIn[obs]), bins=np.sort(np.log10(PeriodIn[obs])))\n",
    "cumulative = np.cumsum(values)\n",
    "cumulative = cumulative/max(cumulative)\n",
    "plt.step(base[:-1], cumulative, linestyle = '-.', linewidth = 5, color='k', label = \"LSST-detectable EBs\")\n",
    "values, base = np.histogram(np.log10(PeriodIn[use]), bins=np.sort(np.log10(PeriodIn[use])))\n",
    "cumulative = np.cumsum(values)\n",
    "cumulative = cumulative/max(cumulative)\n",
    "plt.step(base[:-1], cumulative, linestyle = '-', linewidth = 5, color='k', label = \"Identified EBs\")\n",
    "plt.xlabel(\"log(Input period) (log(days)) \")\n",
    "plt.ylabel(\"Fraction of poulation\")\n",
    "plt.legend(loc = 'best')\n",
    "plt.xlim(0,7)\n",
    "#Totally arbitrary limit... NOT better in log\n",
    "plt.show()\n",
    "logpcd.set_rasterized(True)\n",
    "logpcd.savefig(\"logperiodin_cumulativedistribution.eps\")\n",
    "logpcd.savefig(\"logperiodin_cumulativedistribution.pdf\")\n",
    "\n"
   ]
  },
  {
   "cell_type": "markdown",
   "metadata": {},
   "source": [
    "# MASS #"
   ]
  },
  {
   "cell_type": "code",
   "execution_count": null,
   "metadata": {
    "collapsed": true
   },
   "outputs": [],
   "source": [
    "mcd = plt.figure(figsize=(20,15))\n",
    "values, base = np.histogram(mass_rat, bins=np.sort(mass_rat))\n",
    "cumulative = np.cumsum(values)\n",
    "cumulative = cumulative/max(cumulative)\n",
    "#make an additional cumulative dist for PeriodIn < 5d, or 10d?\n",
    "plt.step(base[:-1], cumulative, linestyle = ':', linewidth = 5, color = 'k', label = \"All binaries\")\n",
    "values, base = np.histogram(mass_rat[obs], bins=np.sort(mass_rat[obs]))\n",
    "cumulative = np.cumsum(values)\n",
    "cumulative = cumulative/max(cumulative)\n",
    "plt.step(base[:-1], cumulative, linestyle = '-.', linewidth = 5, color='k', label = \"LSST-detectable EBs\")\n",
    "values, base = np.histogram(mass_rat[use], bins=np.sort(mass_rat[use]))\n",
    "cumulative = np.cumsum(values)\n",
    "cumulative = cumulative/max(cumulative)\n",
    "plt.step(base[:-1], cumulative, linestyle = '-', linewidth = 5, color='k', label = \"Identified EBs\")\n",
    "plt.xlabel(\"Mass ratio \")\n",
    "plt.ylabel(\"Fraction of population\")\n",
    "plt.legend(loc = 'best', prop={'size': 30})\n",
    "plt.xlim(0,4)\n",
    "#plt.xlim(0,11.5)\n",
    "plt.show()\n",
    "mcd.set_rasterized(True)\n",
    "mcd.savefig(\"massrat_cumulativedistribution.eps\")\n",
    "mcd.savefig(\"massrat_cumulativedistribution.pdf\")\n",
    "\n"
   ]
  },
  {
   "cell_type": "markdown",
   "metadata": {},
   "source": [
    "# RADIUS #"
   ]
  },
  {
   "cell_type": "code",
   "execution_count": null,
   "metadata": {
    "collapsed": true
   },
   "outputs": [],
   "source": [
    "rcd = plt.figure(figsize=(20,15))\n",
    "values, base = np.histogram(np.log10(radius_rat), bins=np.sort(np.log10(radius_rat)))\n",
    "cumulative = np.cumsum(values)\n",
    "cumulative = cumulative/max(cumulative)\n",
    "#make an additional cumulative dist for PeriodIn < 5d, or 10d?\n",
    "plt.step(base[:-1], cumulative, linestyle = ':', linewidth = 5, color = 'k', label = \"All binaries\")\n",
    "values, base = np.histogram(np.log10(radius_rat[obs]), bins=np.sort(np.log10(radius_rat[obs])))\n",
    "cumulative = np.cumsum(values)\n",
    "cumulative = cumulative/max(cumulative)\n",
    "plt.step(base[:-1], cumulative, linestyle = '-.', linewidth = 5, color='k', label = \"LSST-detectable EBs\")\n",
    "plt.xlabel(\"log(Radius ratio) \")\n",
    "values, base = np.histogram(np.log10(radius_rat[use]), bins=np.sort(np.log10(radius_rat[use])))\n",
    "cumulative = np.cumsum(values)\n",
    "cumulative = cumulative/max(cumulative)\n",
    "plt.step(base[:-1], cumulative, linestyle = '-', linewidth = 5, color='k', label = \"Identified EBs\")\n",
    "plt.xlabel(\"log(Radius ratio) \")\n",
    "plt.ylabel(\"Fraction of population\")\n",
    "plt.legend(loc = 'best', prop={'size': 30})\n",
    "#plt.xlim(0,11.5)\n",
    "plt.show()\n",
    "rcd.set_rasterized(True)\n",
    "rcd.savefig(\"radiusrat_cumulativedistribution.eps\")\n",
    "rcd.savefig(\"radiusrat_cumulativedistribution.pdf\")"
   ]
  },
  {
   "cell_type": "markdown",
   "metadata": {},
   "source": [
    "# ECCENTRICITY #"
   ]
  },
  {
   "cell_type": "code",
   "execution_count": null,
   "metadata": {
    "collapsed": true
   },
   "outputs": [],
   "source": [
    "ecd = plt.figure(figsize=(20,15))\n",
    "values, base = np.histogram(ecc, bins=np.sort(ecc))\n",
    "cumulative = np.cumsum(values)\n",
    "cumulative = cumulative/max(cumulative)\n",
    "#make an additional cumulative dist for PeriodIn < 5d, or 10d?\n",
    "plt.step(base[:-1], cumulative, linestyle = ':', linewidth = 5, color = 'k', label = \"All binaries\")\n",
    "values, base = np.histogram(ecc[obs], bins=np.sort(ecc[obs]))\n",
    "cumulative = np.cumsum(values)\n",
    "cumulative = cumulative/max(cumulative)\n",
    "plt.step(base[:-1], cumulative, linestyle = '-.', linewidth = 5, color='k', label = \"LSST-detectable EBs\")\n",
    "values, base = np.histogram(ecc[use], bins=np.sort(ecc[use]))\n",
    "cumulative = np.cumsum(values)\n",
    "cumulative = cumulative/max(cumulative)\n",
    "plt.step(base[:-1], cumulative, linestyle = '-', linewidth = 5, color='k', label = \"Identified EBs\")\n",
    "plt.xlabel(\"Eccentricity \")\n",
    "plt.ylabel(\"Fraction of population\")\n",
    "plt.legend(loc = 'best', prop={'size': 30})\n",
    "#plt.xlim(0,11.5)\n",
    "plt.show()\n",
    "ecd.set_rasterized(True)\n",
    "ecd.savefig(\"ecc_cumulativedistribution.eps\")\n",
    "ecd.savefig(\"ecc_cumulativedistribution.pdf\")"
   ]
  },
  {
   "cell_type": "markdown",
   "metadata": {},
   "source": [
    "# DISTANCE (kpc) #"
   ]
  },
  {
   "cell_type": "code",
   "execution_count": null,
   "metadata": {
    "collapsed": true
   },
   "outputs": [],
   "source": [
    "dcd = plt.figure(figsize=(20,15))\n",
    "values, base = np.histogram(dist_kpc, bins=np.sort(dist_kpc))\n",
    "cumulative = np.cumsum(values)\n",
    "cumulative = cumulative/max(cumulative)\n",
    "#make an additional cumulative dist for PeriodIn < 5d, or 10d?\n",
    "plt.step(base[:-1], cumulative, linestyle = ':', linewidth = 5, color = 'k', label = \"All binaries\")\n",
    "values, base = np.histogram(dist_kpc[obs], bins=np.sort(dist_kpc[obs]))\n",
    "cumulative = np.cumsum(values)\n",
    "cumulative = cumulative/max(cumulative)\n",
    "plt.step(base[:-1], cumulative, linestyle = '-.', linewidth = 5, color='k', label = \"LSST-detectable EBs\")\n",
    "values, base = np.histogram(dist_kpc[use], bins=np.sort(dist_kpc[use]))\n",
    "cumulative = np.cumsum(values)\n",
    "cumulative = cumulative/max(cumulative)\n",
    "plt.step(base[:-1], cumulative, linestyle = '-', linewidth = 5, color='k', label = \"Identified EBs\")\n",
    "plt.xlabel(\"Distance (kpc)\")\n",
    "plt.ylabel(\"Fraction of population\")\n",
    "plt.legend(loc = 'best', prop={'size': 30})\n",
    "#plt.xlim(0,11.5)\n",
    "plt.show()\n",
    "dcd.set_rasterized(True)\n",
    "dcd.savefig(\"distkpc_cumulativedistribution.eps\")\n",
    "dcd.savefig(\"distkpc_cumulativedistribution.pdf\")"
   ]
  },
  {
   "cell_type": "markdown",
   "metadata": {},
   "source": [
    "# INCLINATION #"
   ]
  },
  {
   "cell_type": "code",
   "execution_count": null,
   "metadata": {
    "collapsed": true
   },
   "outputs": [],
   "source": [
    "icd = plt.figure(figsize=(20,15))\n",
    "values, base = np.histogram(INCL, bins=np.sort(INCL))\n",
    "cumulative = np.cumsum(values)\n",
    "cumulative = cumulative/max(cumulative)\n",
    "#make an additional cumulative dist for PeriodIn < 5d, or 10d?\n",
    "plt.step(base[:-1], cumulative, linestyle = ':', linewidth = 5, color = 'k', label = \"All binaries\")\n",
    "values, base = np.histogram(INCL[obs], bins=np.sort(INCL[obs]))\n",
    "cumulative = np.cumsum(values)\n",
    "cumulative = cumulative/max(cumulative)\n",
    "plt.step(base[:-1], cumulative, linestyle = '-.', linewidth = 5, color='k', label = \"LSST-detectable EBs\")\n",
    "values, base = np.histogram(INCL[use], bins=np.sort(INCL[use]))\n",
    "cumulative = np.cumsum(values)\n",
    "cumulative = cumulative/max(cumulative)\n",
    "plt.step(base[:-1], cumulative, linestyle = '-', linewidth = 5, color='k', label = \"Identified EBs\")\n",
    "plt.xlabel(\"Inclination\")\n",
    "plt.ylabel(\"Fraction of population\")\n",
    "plt.legend(loc = 'best', prop={'size': 30})\n",
    "plt.xlim(0,90)\n",
    "plt.show()\n",
    "icd.set_rasterized(True)\n",
    "icd.savefig(\"incl_cumulativedistribution.eps\")\n",
    "icd.savefig(\"incl_cumulativedistribution.pdf\")"
   ]
  },
  {
   "cell_type": "markdown",
   "metadata": {},
   "source": [
    "# APPARENT MAGNITUDE #"
   ]
  },
  {
   "cell_type": "code",
   "execution_count": null,
   "metadata": {
    "collapsed": true
   },
   "outputs": [],
   "source": [
    "maxcd = plt.figure(figsize=(20,15))\n",
    "values, base = np.histogram(MaxAppmag, bins=np.sort(MaxAppmag))\n",
    "cumulative = np.cumsum(values)\n",
    "cumulative = cumulative/max(cumulative)\n",
    "#make an additional cumulative dist for PeriodIn < 5d, or 10d?\n",
    "plt.step(base[:-1], cumulative, linestyle = ':', linewidth = 5, color = 'k', label = \"All binaries\")\n",
    "values, base = np.histogram(MaxAppmag[obs], bins=np.sort(MaxAppmag[obs]))\n",
    "cumulative = np.cumsum(values)\n",
    "cumulative = cumulative/max(cumulative)\n",
    "plt.step(base[:-1], cumulative, linestyle = '-.', linewidth = 5, color='k', label = \"LSST-detectable EBs\")\n",
    "values, base = np.histogram(MaxAppmag[use], bins=np.sort(MaxAppmag[use]))\n",
    "cumulative = np.cumsum(values)\n",
    "cumulative = cumulative/max(cumulative)\n",
    "plt.step(base[:-1], cumulative, linestyle = '-', linewidth = 5, color='k', label = \"Identified EBs\")\n",
    "plt.xlabel(\"Maximum apparent magnitude\")\n",
    "plt.ylabel(\"Fraction of population\")\n",
    "plt.legend(loc = 'best', prop={'size': 30})\n",
    "#plt.xlim(80,90)\n",
    "plt.show()\n",
    "maxcd.set_rasterized(True)\n",
    "maxcd.savefig(\"maxappmag_cumulativedistribution.eps\")\n",
    "maxcd.savefig(\"maxappmag_cumulativedistribution.pdf\")"
   ]
  },
  {
   "cell_type": "code",
   "execution_count": null,
   "metadata": {
    "collapsed": true
   },
   "outputs": [],
   "source": []
  }
 ],
 "metadata": {
  "kernelspec": {
   "display_name": "Python 3",
   "language": "python",
   "name": "python3"
  },
  "language_info": {
   "codemirror_mode": {
    "name": "ipython",
    "version": 3
   },
   "file_extension": ".py",
   "mimetype": "text/x-python",
   "name": "python",
   "nbconvert_exporter": "python",
   "pygments_lexer": "ipython3",
   "version": "3.6.1"
  }
 },
 "nbformat": 4,
 "nbformat_minor": 2
}
